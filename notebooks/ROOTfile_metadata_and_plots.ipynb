{
 "cells": [
  {
   "cell_type": "markdown",
   "metadata": {},
   "source": [
    "# ROOT files\n",
    "This document deals with ROOT files only (measured at V20 in February 2018). It displays metadata stored in these files and it offers a choice of output formats for the user:\n",
    "- 1D datasets: \n",
    "    - ASCII files (.dat) \n",
    "    - .png  files  \n",
    "- 2D datasets:\n",
    "    - ASCII files (.dat)\n",
    "    - .png files\n",
    "    - .tiff files\n",
    "    \n",
    "For the 2D plots, there is the option of inverting the `y-axis`.\n",
    "\n",
    "**Information about data in ROOT files**\n",
    "\n",
    "| Spectrum     | Folders with data to plot | Sample   | Duration |\n",
    "| :----------- |:--------------------------| :------- | :------- |\n",
    "| Spectrum3    | Meas_3;1                  | NAK      | 13 hours |\n",
    "| Spectrum8    | Meas_2;1                  | Si-NIST  | 19 hours |\n",
    "| Spectrum9    | Meas_1;1                  | Y2O3     | 22 hours |\n",
    "| Spectrum11   | Meas_1;1                  | NAK      | 22 hours | \n",
    "| Spectrum12   | Meas_1;1                  | NAK      | 22 hours |\n",
    "| Spectrum13   | Meas_1;1                  | V        | 22 hours |\n",
    "| Spectrum14   | Meas_1;1                  | V        | 22 hours |"
   ]
  },
  {
   "cell_type": "code",
   "execution_count": null,
   "metadata": {},
   "outputs": [],
   "source": [
    "import os\n",
    "import uproot\n",
    "import plopp as pp\n",
    "from plopp.widgets import Checkboxes, Box\n",
    "import scipp as sc\n",
    "import numpy as np\n",
    "import dataconfig  # to get paths to data\n",
    "# to save tiff files\n",
    "from PIL import Image\n",
    "import ipywidgets\n",
    "# to remove problems with too many figures open\n",
    "import matplotlib as mpl\n",
    "mpl.rcParams.update({'figure.max_open_warning': 0})\n",
    "\n",
    "%matplotlib widget"
   ]
  },
  {
   "cell_type": "code",
   "execution_count": null,
   "metadata": {},
   "outputs": [],
   "source": [
    "uproot.__version__"
   ]
  },
  {
   "cell_type": "markdown",
   "metadata": {},
   "source": [
    "# Display metadata stored in a ROOT file\n",
    "The information related to only one ROOT file is displayed. \n"
   ]
  },
  {
   "cell_type": "code",
   "execution_count": null,
   "metadata": {},
   "outputs": [],
   "source": [
    "!ls '/Users/celinedurniak/V20DiffractionData/DENEX/'"
   ]
  },
  {
   "cell_type": "code",
   "execution_count": null,
   "metadata": {},
   "outputs": [],
   "source": [
    "assert os.path.exists(dataconfig.data_root), 'The path to ROOT files does not exist.'\n",
    "\n",
    "# Create dictionary to generate plots\n",
    "# Each entry corresponds to the spectrum number, the associated root file and the folder \n",
    "# to get the data from\n",
    "dict_root_files = {'Spectrum03': ('Spectrum03_DENEX006_1_18-02-05_0000.root', 'Meas_3'), \n",
    "                   #'Spectrum08': ('Spectrum08_DENEX006_1_18-02-07_0002.root', 'Meas_2'),\n",
    "                   #'Spectrum09': ('Spectrum09_DENEX006_1_18-02-08_0001.root', 'Meas_1'),\n",
    "                   #'Spectrum11': ('Spectrum11_DENEX006_1_18-02-09_0001.root', 'Meas_1'),\n",
    "                   #'Spectrum12': ('Spectrum12_DENEX006_1_18-02-10_0000.root', 'Meas_1'),\n",
    "                   #'Spectrum13': ('Spectrum13_DENEX006_1_18-02-11_0000.root', 'Meas_1'),\n",
    "                   #'Spectrum14': ('Spectrum14_DENEX006_1_18-02-12_0000.root', 'Meas_1'),\n",
    "                  }"
   ]
  },
  {
   "cell_type": "code",
   "execution_count": null,
   "metadata": {},
   "outputs": [],
   "source": [
    "# Display metadata stored in ROOT files stored in previously defined dictionary\n",
    "for key_spectrum in dict_root_files.keys():\n",
    "    \n",
    "    print(50*'-','\\n',key_spectrum)\n",
    "    \n",
    "    ROOTfile, dir_with_data = dict_root_files[key_spectrum]\n",
    "    \n",
    "    file_to_open = os.path.join(dataconfig.data_root, ROOTfile)\n",
    "    \n",
    "    assert os.path.isfile(file_to_open), 'There is an issue with the file to be opened.'\n",
    "\n",
    "    print(ROOTfile, dir_with_data)\n",
    "    \n",
    "    with uproot.open(file_to_open)[dir_with_data] as myFile:\n",
    "        \n",
    "        for key in myFile.keys():\n",
    "            if 'BoardParam_run' in str(key):\n",
    "                myObject = myFile[key]\n",
    "                nb_xbins = int(myObject.member('fEntries'))\n",
    "                \n",
    "                for i in range(nb_xbins):\n",
    "                    print(f\"{myObject.axis(axis=0).labels()[i]}: {myObject.counts(False)[i]}\")\n",
    "                # save metadata in file \n",
    "                output_file_metadata = ROOTfile.split('.')[0] + 'BoardParam_run.dat'\n",
    "                with open(output_file_metadata, \"w\") as output_file:\n",
    "                    np.savetxt(output_file, np.c_[myObject.axis(axis=0).labels(), myObject.counts(False)], fmt=['%s','%s'])  "
   ]
  },
  {
   "cell_type": "markdown",
   "metadata": {
    "pycharm": {
     "name": "#%% md\n"
    }
   },
   "source": [
    "# Plot all graphs stored in ROOT files and save as .dat, .png or .tiff files\n",
    "This process is done for ROOT files related to Spectrum03, 08, 09, 11, and 12."
   ]
  },
  {
   "cell_type": "code",
   "execution_count": null,
   "metadata": {
    "pycharm": {
     "name": "#%%\n"
    }
   },
   "outputs": [],
   "source": [
    "invert_y = ipywidgets.Checkbox(\n",
    "    value=True,\n",
    "    description='Invert y-axis of 2D plots for ROOT files?',\n",
    "    layout=ipywidgets.Layout(width='400px'))\n",
    "\n",
    "invert_y"
   ]
  },
  {
   "cell_type": "code",
   "execution_count": null,
   "metadata": {},
   "outputs": [],
   "source": [
    "save_1d_data_to_asciifiles = ipywidgets.Checkbox(\n",
    "    value=True,\n",
    "    description='Save 1D data to ascii files?',\n",
    "    layout=ipywidgets.Layout(width='350px'))\n",
    "\n",
    "save_1d_data_to_png = ipywidgets.Checkbox(\n",
    "    value=True,\n",
    "    description='Save 1D data to png files?',\n",
    "    layout=ipywidgets.Layout(width='350px'))\n",
    "\n",
    "save_2d_data_to_asciifiles = ipywidgets.Checkbox(\n",
    "    value=True,\n",
    "    description='Save 2D data to ascii files?',\n",
    "    layout=ipywidgets.Layout(width='350px'))\n",
    "\n",
    "save_2d_data_to_png = ipywidgets.Checkbox(\n",
    "    value=True,\n",
    "    description='Save 2D data to png files?',\n",
    "    layout=ipywidgets.Layout(width='350px'))\n",
    "\n",
    "save_2d_data_to_tiff = ipywidgets.Checkbox(\n",
    "    value=True,\n",
    "    description='Save 2D data to tiff files?',\n",
    "    layout=ipywidgets.Layout(width='350px'))\n",
    "\n",
    "box_saving_selection = ipywidgets.HBox([\n",
    "    ipywidgets.VBox([save_1d_data_to_asciifiles, save_1d_data_to_png]), \n",
    "    ipywidgets.VBox([save_2d_data_to_asciifiles,\n",
    "                     save_2d_data_to_png,\n",
    "                     save_2d_data_to_tiff])])\n",
    "\n",
    "box_saving_selection"
   ]
  },
  {
   "cell_type": "code",
   "execution_count": null,
   "metadata": {
    "scrolled": true
   },
   "outputs": [],
   "source": [
    "# loop over selected root files\n",
    "for key_spectrum in dict_root_files.keys():\n",
    "    print(50*'-','\\n',key_spectrum)\n",
    "    \n",
    "    ROOTfile = dict_root_files[key_spectrum][0]\n",
    "    dir_with_data = dict_root_files[key_spectrum][1]\n",
    "    \n",
    "    # open ROOT file \n",
    "    file_to_open = os.path.join(dataconfig.data_root, ROOTfile)\n",
    "    \n",
    "    assert os.path.isfile(file_to_open), 'There is an issue with the file to be opened.'\n",
    "\n",
    "    with uproot.open(file_to_open)[dir_with_data] as myFile:\n",
    "        for key, value in myFile.iterclassnames():\n",
    "            # do not consider problematic dataset in Spectrum09\n",
    "            if key_spectrum==\"Spectrum09\" and ('1D3' in str(key) or 'FINISHED' in str(key)):\n",
    "                continue\n",
    "            \n",
    "            if 'TH1I' in str(value):\n",
    "                key_name = myFile[key].name\n",
    "                arr_object = myFile[key].counts(False)\n",
    "                    \n",
    "                # naming of outputs - the extension will be added once the format \n",
    "                # is chosen (.png or .dat for 1D data)  \n",
    "                name_output_file = ROOTfile[:10] + key_name.replace(',','_')\n",
    "                \n",
    "                # create scipp data array\n",
    "                da_root = sc.DataArray(data=sc.array(dims=['tof'], values=arr_object.astype('float')),\n",
    "                                  coords={'tof': sc.arange('tof', 0, \n",
    "                                               len(arr_object), \n",
    "                                               unit='dimensionless')})\n",
    "    \n",
    "                # plot\n",
    "                fig = pp.plot(da_root, title=key_name)\n",
    "                  \n",
    "                # to save png plot \n",
    "                if save_1d_data_to_png.value:\n",
    "                    fig.save(name_output_file + '.png')\n",
    "            \n",
    "                # to save ascii files\n",
    "                if save_1d_data_to_asciifiles.value:\n",
    "                    np.savetxt(name_output_file + '.dat', arr_object, fmt= \"%d\")\n",
    "                        \n",
    "            # 2D contourplot\n",
    "            elif 'TH2' in str(value):\n",
    "                key_name = myFile[key].name\n",
    "                \n",
    "                # create x- and y-axis\n",
    "                xaxis = myFile[key].axis(axis=0).edges()[:-1]\n",
    "                yaxis = myFile[key].axis(axis=1).edges()[:-1]\n",
    "                \n",
    "                # extract info about x, y axis (min, max and number of bins)\n",
    "                x_min = min(xaxis)\n",
    "                x_max = max(xaxis)\n",
    "                y_min = min(yaxis)\n",
    "                y_max = max(yaxis)\n",
    "\n",
    "                # invert y axis\n",
    "                if invert_y.value:\n",
    "                    arr_object = np.flip(myFile[key].counts(False), 1)\n",
    "                    # add info about inverted y axis to name of outputs - the extension will be added later\n",
    "                    name_output_file = ROOTfile[:10] + \"_\" + key_name.replace(',','_') + \"_inv_y\"\n",
    "                # keep original orientation\n",
    "                else:\n",
    "                    arr_object = myFile[key].counts(False)\n",
    "                    # name of outputs - the extension will be added later\n",
    "                    name_output_file = ROOTfile[:10] + \"_\" + key_name.replace(',','_')\n",
    "                \n",
    "                # create scipp data array\n",
    "                da_root = sc.DataArray(\n",
    "                    data=sc.array(dims=['tof', 'x'], values=arr_object.astype('float64')),\n",
    "                      coords={\n",
    "                      'tof': sc.array(dims=['tof'], values=xaxis),\n",
    "                      'x': sc.array(dims=['x'], values=yaxis)})\n",
    "\n",
    "                # plot\n",
    "                fig = pp.plot(da_root.transpose(), title=key_name)\n",
    "        \n",
    "                if save_2d_data_to_asciifiles.value:\n",
    "                    np.savetxt(name_output_file + '.dat', arr_object, fmt= \"%d\")\n",
    "                 \n",
    "                # save 2d in png files\n",
    "                if save_2d_data_to_png.value:\n",
    "                    fig.save(name_output_file + '.png')\n",
    "                        \n",
    "                if save_2d_data_to_tiff.value:\n",
    "                    if not save_2d_data_to_png.value:\n",
    "                        print('.png files are required to generate .tiff files')\n",
    "                        break\n",
    "                    else:\n",
    "                        im_from_png = np.array(Image.open(name_output_file + '.png'))\n",
    "                        Image.fromarray(im_from_png).save(name_output_file + \".tiff\", \"TIFF\")   "
   ]
  },
  {
   "cell_type": "code",
   "execution_count": null,
   "metadata": {},
   "outputs": [],
   "source": []
  }
 ],
 "metadata": {
  "hide_input": false,
  "kernelspec": {
   "display_name": "Python 3 (ipykernel)",
   "language": "python",
   "name": "python3"
  },
  "language_info": {
   "codemirror_mode": {
    "name": "ipython",
    "version": 3
   },
   "file_extension": ".py",
   "mimetype": "text/x-python",
   "name": "python",
   "nbconvert_exporter": "python",
   "pygments_lexer": "ipython3",
   "version": "3.10.12"
  },
  "pycharm": {
   "stem_cell": {
    "cell_type": "raw",
    "metadata": {
     "collapsed": false
    },
    "source": []
   }
  },
  "toc": {
   "base_numbering": 1,
   "nav_menu": {},
   "number_sections": true,
   "sideBar": true,
   "skip_h1_title": false,
   "title_cell": "Table of Contents",
   "title_sidebar": "Contents",
   "toc_cell": false,
   "toc_position": {},
   "toc_section_display": true,
   "toc_window_display": false
  },
  "varInspector": {
   "cols": {
    "lenName": 16,
    "lenType": 16,
    "lenVar": 40
   },
   "kernels_config": {
    "python": {
     "delete_cmd_postfix": "",
     "delete_cmd_prefix": "del ",
     "library": "var_list.py",
     "varRefreshCmd": "print(var_dic_list())"
    },
    "r": {
     "delete_cmd_postfix": ") ",
     "delete_cmd_prefix": "rm(",
     "library": "var_list.r",
     "varRefreshCmd": "cat(var_dic_list()) "
    }
   },
   "types_to_exclude": [
    "module",
    "function",
    "builtin_function_or_method",
    "instance",
    "_Feature"
   ],
   "window_display": false
  }
 },
 "nbformat": 4,
 "nbformat_minor": 4
}
