{
 "cells": [
  {
   "cell_type": "markdown",
   "metadata": {
    "slideshow": {
     "slide_type": "slide"
    }
   },
   "source": [
    "This notebook shows how to compare 2D datasets from ROOT and McStas simulations \n",
    "\n",
    "- load McStas and ROOT data\n",
    "- crop ROOT data \n",
    "- resample x-y grid to the smallest grid \n",
    "- normalize intensity\n",
    "- choose centering points\n",
    "- plot difference as 2D and 3D plots\n",
    "\n",
    "**Note**:  The physical units were not considered when comparing the arrays."
   ]
  },
  {
   "cell_type": "code",
   "execution_count": null,
   "metadata": {
    "slideshow": {
     "slide_type": "subslide"
    }
   },
   "outputs": [],
   "source": [
    "import os\n",
    "import pprint\n",
    "import uproot\n",
    "import matplotlib\n",
    "import matplotlib.pyplot as plt\n",
    "import dataconfig  # to get paths to data\n",
    "%matplotlib widget\n",
    "\n",
    "import scipy.interpolate\n",
    "\n",
    "import numpy as np\n",
    "\n",
    "import ipywidgets\n",
    "\n",
    "colormap = plt.cm.get_cmap('gist_earth')\n",
    "# other colormaps\" 'viridis', 'seismic'\n",
    "\n",
    "matplotlib.rcParams['figure.max_open_warning'] = 0"
   ]
  },
  {
   "cell_type": "markdown",
   "metadata": {
    "slideshow": {
     "slide_type": "slide"
    }
   },
   "source": [
    "# Load McStas data"
   ]
  },
  {
   "cell_type": "code",
   "execution_count": null,
   "metadata": {
    "slideshow": {
     "slide_type": "subslide"
    }
   },
   "outputs": [],
   "source": [
    "# Output of McStas simulation\n",
    "selected_filename = 'monitor_tx_DENEX.dat'\n",
    "\n",
    "path_to_mcstas2D_file = os.path.join(dataconfig.data_mcstas, selected_filename)\n",
    "\n",
    "assert os.path.isdir(dataconfig.data_mcstas), \\\n",
    "'The folder which should contain outputs of McStas simulation does not exist.'\n",
    "\n",
    "assert os.path.isfile(path_to_mcstas2D_file), \\\n",
    "    'There is an issue with the chosen McStas 2D datafile'"
   ]
  },
  {
   "cell_type": "code",
   "execution_count": null,
   "metadata": {
    "scrolled": true
   },
   "outputs": [],
   "source": [
    "# Create a dictionary containing filenames, shape of output data, position of component and x, y labels\n",
    "dict_selected_mcstas_file = {}\n",
    "\n",
    "with open(path_to_mcstas2D_file, 'r') as file:\n",
    "    for line in file:\n",
    "        if 'xlabel' in line:\n",
    "            dict_selected_mcstas_file['xlabel'] = ' '.join(line.rstrip().split()[-2:])\n",
    "        elif 'ylabel' in line:\n",
    "            dict_selected_mcstas_file['ylabel'] = ' '.join(line.rstrip().split()[-2:])\n",
    "        elif 'position' in line:\n",
    "            dict_selected_mcstas_file['position'] = line.rstrip().split()[-3:]\n",
    "        elif \"array_2d\" in line:\n",
    "            type_array = line.rstrip()\n",
    "            start = type_array.find('(') + 1\n",
    "            end = type_array.find(')', start)\n",
    "            dict_selected_mcstas_file['nx_value'], dict_selected_mcstas_file['ny_value'] = type_array[start:end].split(',')\n",
    "\n",
    "print(f'Information about plotted McStas 2D data {selected_filename}')\n",
    "pprint.pprint(dict_selected_mcstas_file)"
   ]
  },
  {
   "cell_type": "code",
   "execution_count": null,
   "metadata": {
    "scrolled": false,
    "slideshow": {
     "slide_type": "subslide"
    }
   },
   "outputs": [],
   "source": [
    "data2d = np.genfromtxt(path_to_mcstas2D_file,\n",
    "                       max_rows=int(dict_selected_mcstas_file['ny_value']))\n",
    "\n",
    "#if position_x of component < 0, flip data along y axis \n",
    "# otherwise leave unchanged\n",
    "if float(dict_selected_mcstas_file['position'][0]) < 0:\n",
    "     data2d = np.flip(data2d, 0)\n",
    "\n",
    "fig1, ax1 = plt.subplots(constrained_layout=True)\n",
    "CS = ax1.contourf(data2d, cmap=colormap)    \n",
    "ax1.set_title(selected_filename)\n",
    "cbar = fig1.colorbar(CS)\n",
    "fig1.canvas.header_visible = False\n",
    "fig1.canvas.toolbar_position = 'bottom'"
   ]
  },
  {
   "cell_type": "markdown",
   "metadata": {
    "slideshow": {
     "slide_type": "slide"
    }
   },
   "source": [
    "# Load ROOT data"
   ]
  },
  {
   "cell_type": "code",
   "execution_count": null,
   "metadata": {
    "slideshow": {
     "slide_type": "subslide"
    }
   },
   "outputs": [],
   "source": [
    "path_to_root_file = dataconfig.data_root  \n",
    "\n",
    "assert os.path.isdir(path_to_root_file), \\\n",
    "    'The path to the folder which should contain ROOT files does not exist.'"
   ]
  },
  {
   "cell_type": "code",
   "execution_count": null,
   "metadata": {
    "scrolled": true,
    "slideshow": {
     "slide_type": "subslide"
    }
   },
   "outputs": [],
   "source": [
    "# open one ROOT file and extract only one 1D and one 2D dataset specified in dict_selected_dataset\n",
    "# The 1D and 2D datasets are stored in a dictionary\n",
    "# Note the vertical axis of 2D datasets is inverted\n",
    "\n",
    "key_spectrum ='Spectrum03'\n",
    "ROOTfile = 'Spectrum03_DENEX006_1_18-02-05_0000.root'\n",
    "dir_with_data = 'Meas_3'\n",
    "selected_dataset = 'H_TOF,X1-X2_User_2D2_dsp_after_run_3'\n",
    "\n",
    "file_to_open = os.path.join(path_to_root_file, ROOTfile)\n",
    "\n",
    "assert os.path.isfile(file_to_open), 'There is an issue with the chosen ROOT file'\n",
    "\n",
    "# dictionary to store the x, y boundaries of selected 2D root data\n",
    "root_x_y_boundaries = {}\n",
    "\n",
    "with uproot.open(file_to_open)[dir_with_data] as myFile:\n",
    "    for key in myFile.keys():\n",
    "\n",
    "        # 2D contourplot\n",
    "        if 'TH2' in str(myFile[key]) and selected_dataset in str(key):\n",
    "            key_name = myFile[key].name.decode('utf-8') \n",
    "            data2d_root =  np.flip(myFile[key].values, 1).transpose()\n",
    "            \n",
    "            # extract info about x, y axis (min, max and number of bins) \n",
    "            root_x_y_boundaries['x_min'] = myFile[key].xlow\n",
    "            root_x_y_boundaries['x_max'] = myFile[key].xhigh \n",
    "            root_x_y_boundaries['y_min'] = myFile[key].ylow \n",
    "            root_x_y_boundaries['y_max'] = myFile[key].yhigh \n",
    "            \n",
    "            x_min = root_x_y_boundaries['x_min']\n",
    "            x_max = root_x_y_boundaries['x_max'] \n",
    "            bins_x = myFile[key].xnumbins \n",
    "            y_min = root_x_y_boundaries['y_min']\n",
    "            y_max = root_x_y_boundaries['y_max']\n",
    "            bins_y = myFile[key].ynumbins\n",
    "            \n",
    "            # create x- and y-axis\n",
    "            xaxis = x_min + (x_max - x_min) / (bins_x - 1) * np.arange(bins_x)\n",
    "            yaxis = y_min + (y_max - y_min) / (bins_y - 1) * np.arange(bins_y)\n",
    "            \n",
    "            name_output_file = ROOTfile[:10] + \"_\" + key_name.replace(',','_') + \"_inv_y\""
   ]
  },
  {
   "cell_type": "markdown",
   "metadata": {
    "slideshow": {
     "slide_type": "slide"
    }
   },
   "source": [
    "## Crop ROOT array (top, bottom)\n",
    "Remove top and bottom rows of the ROOT array.\n",
    "The boundaries can be set by the user using the slider."
   ]
  },
  {
   "cell_type": "code",
   "execution_count": null,
   "metadata": {
    "slideshow": {
     "slide_type": "subslide"
    }
   },
   "outputs": [],
   "source": [
    "# Define function to plot when scaling is updated\n",
    "def fct_scaling(set_limits):\n",
    "    fig2, ax2 = plt.subplots(constrained_layout=True)\n",
    "    # plot      \n",
    "    CS = ax2.contourf(xaxis, yaxis, data2d_root, cmap=colormap)\n",
    "    cbar = fig2.colorbar(CS)\n",
    "    ax2.plot(xaxis, 0*xaxis+ yaxis[set_limits[0]], 'orange')\n",
    "    ax2.plot(xaxis, 0*xaxis+ yaxis[set_limits[1]], 'orange')\n",
    "    fig2.canvas.header_visible = False\n",
    "    fig2.canvas.toolbar_position = 'bottom'\n",
    "\n",
    "# set textboxes for the scaling formulas    \n",
    "style_textbox = {'description_width': 'initial'}\n",
    "default_value_ymin = 50\n",
    "default_value_ymax = len(yaxis)-1-50\n",
    "\n",
    "set_limits = ipywidgets.IntRangeSlider(\n",
    "    value=[default_value_ymin, default_value_ymax],\n",
    "    min=0,\n",
    "    max=len(yaxis)-1,\n",
    "    step=1,\n",
    "    description='Index boundaries:',\n",
    "    disabled=False,\n",
    "    continuous_update=False,\n",
    "    readout_format='d',\n",
    "    style=style_textbox,\n",
    "    description_tooltip=\"Select indices to crop array\"\n",
    ")\n",
    "\n",
    "# Display plots and widgets\n",
    "interactive_plot = ipywidgets.interactive_output(fct_scaling, {'set_limits': set_limits}) \n",
    "\n",
    "set_limits_widgets = ipywidgets.VBox([ipywidgets.Label('Use the slider to select the lower and upper boundaries to crop the array '), \n",
    "                                      set_limits])\n",
    "display(set_limits_widgets, interactive_plot)"
   ]
  },
  {
   "cell_type": "code",
   "execution_count": null,
   "metadata": {
    "slideshow": {
     "slide_type": "subslide"
    }
   },
   "outputs": [],
   "source": [
    "# crop array using the boundaries defined in the previous cell\n",
    "cropped_array = data2d_root[set_limits.value[0]:set_limits.value[1], :]"
   ]
  },
  {
   "cell_type": "code",
   "execution_count": null,
   "metadata": {
    "scrolled": true,
    "slideshow": {
     "slide_type": "subslide"
    }
   },
   "outputs": [],
   "source": [
    "# plot to check new cropped array\n",
    "fig3, ax3 = plt.subplots(constrained_layout=True)\n",
    "CS = ax3.contourf(cropped_array, cmap=colormap)\n",
    "ax3.set_title(f\"CROPPED {key_name}\")\n",
    "cbar = fig3.colorbar(CS)\n",
    "fig3.canvas.header_visible = False\n",
    "fig3.canvas.toolbar_position = 'bottom'"
   ]
  },
  {
   "cell_type": "markdown",
   "metadata": {
    "slideshow": {
     "slide_type": "slide"
    }
   },
   "source": [
    "# Rebin to the smallest grid\n",
    "The array with the finest grid is resampled to the coarser grid."
   ]
  },
  {
   "cell_type": "code",
   "execution_count": null,
   "metadata": {
    "slideshow": {
     "slide_type": "subslide"
    }
   },
   "outputs": [],
   "source": [
    "print(f\"Shape of ROOT data: {cropped_array.shape}\")\n",
    "print(f\"Shape of McStas data: {dict_selected_mcstas_file['nx_value']},{dict_selected_mcstas_file['ny_value']}\")"
   ]
  },
  {
   "cell_type": "code",
   "execution_count": null,
   "metadata": {
    "slideshow": {
     "slide_type": "subslide"
    }
   },
   "outputs": [],
   "source": [
    "def rebin(matrix_to_rebin, new_shape, **dict_x_y_boundaries):\n",
    "    '''\n",
    "    Function to resample the array with the largest number of bins to a smaller grid\n",
    "    \n",
    "    Two cases have to be considered if large grid = multiple of small grid or not\n",
    "    '''\n",
    "    old_shape = matrix_to_rebin.shape\n",
    "    # if old shape is multiple of new shape\n",
    "    if all([(old_shape[index_dim] % new_shape[index_dim])==0 for index_dim in [0, 1]]):\n",
    "        sh = new_shape[0], a.new_shape[0]//new_shape[0], new_shape[1], a.new_shape[1]//new_shape[1]\n",
    "        return matrix_to_rebin.reshape(sh).mean(-1).mean(1)\n",
    "    else:\n",
    "        # case when resampling with no multiplicity between new and old dimensions\n",
    "        # code adapted from https://stackoverflow.com/questions/34689519/how-to-coarser-the-2-d-array-data-resolution\n",
    "       \n",
    "        x_min = dict_x_y_boundaries['x_min']\n",
    "        x_max = dict_x_y_boundaries['x_max']\n",
    "        y_min = dict_x_y_boundaries['y_min']\n",
    "        y_max = dict_x_y_boundaries['y_max']\n",
    "        \n",
    "        # old x, y axes \n",
    "        xgrid_old  = np.linspace(x_min, x_max, old_shape[1])\n",
    "        ygrid_old  = np.linspace(y_min, y_max, old_shape[0])\n",
    "        \n",
    "        print('Old dimensions', len(xgrid_old), len(ygrid_old))\n",
    "\n",
    "        # new x, y axes\n",
    "        xgrid_new  = np.linspace(x_min, x_max, new_shape[0])\n",
    "        ygrid_new  = np.linspace(y_min, y_max, new_shape[1])\n",
    "\n",
    "        hfunc = scipy.interpolate.interp2d(xgrid_old, ygrid_old, matrix_to_rebin)\n",
    "\n",
    "        reshaped_data = np.zeros(new_shape[0] * new_shape[1])\n",
    "\n",
    "        t = 0\n",
    "\n",
    "        for i in range(0, new_shape[1], 1):\n",
    "            for j in range(0, new_shape[0], 1):\n",
    "                reshaped_data[t] = hfunc(xgrid_new[j], ygrid_new[i]) \n",
    "                t+=1    \n",
    "                \n",
    "        return reshaped_data.reshape(new_shape[1], new_shape[0])"
   ]
  },
  {
   "cell_type": "code",
   "execution_count": null,
   "metadata": {
    "slideshow": {
     "slide_type": "subslide"
    }
   },
   "outputs": [],
   "source": [
    "new_mat = rebin(cropped_array, data2d.shape, **root_x_y_boundaries)"
   ]
  },
  {
   "cell_type": "code",
   "execution_count": null,
   "metadata": {
    "slideshow": {
     "slide_type": "subslide"
    }
   },
   "outputs": [],
   "source": [
    "fig4, ax4 = plt.subplots(constrained_layout=True)\n",
    "ax4.set_title('Resampled ROOT 2D array to different grid')\n",
    "fig4.canvas.header_visible = False\n",
    "fig4.canvas.toolbar_position = 'bottom'\n",
    "CS = plt.pcolormesh(new_mat, cmap=colormap)\n",
    "cbar = fig4.colorbar(CS)"
   ]
  },
  {
   "cell_type": "code",
   "execution_count": null,
   "metadata": {
    "slideshow": {
     "slide_type": "subslide"
    }
   },
   "outputs": [],
   "source": [
    "print(f\"Shape of reshaped data: {new_mat.shape}\")"
   ]
  },
  {
   "cell_type": "markdown",
   "metadata": {
    "slideshow": {
     "slide_type": "slide"
    }
   },
   "source": [
    "# Rescale matrices' intensities\n",
    "In order to compare the 2 matrices, the intensity has to be rescaled to the same values."
   ]
  },
  {
   "cell_type": "code",
   "execution_count": null,
   "metadata": {
    "slideshow": {
     "slide_type": "subslide"
    }
   },
   "outputs": [],
   "source": [
    "def rescale_intensities(array_to_rescale):\n",
    "    '''\n",
    "    Function to rescale intensity of `array_to_rescale` to a 256-value scale\n",
    "    '''\n",
    "    min_arr = np.min(array_to_rescale)\n",
    "    max_arr = np.max(array_to_rescale)\n",
    "    size_x, size_y = array_to_rescale.shape\n",
    "    \n",
    "    for i in range(size_x):\n",
    "        for j in range(size_y):\n",
    "            array_to_rescale[i,j] = 256. * (array_to_rescale[i,j]- min_arr) / (max_arr - min_arr)\n",
    "            \n",
    "    return array_to_rescale"
   ]
  },
  {
   "cell_type": "code",
   "execution_count": null,
   "metadata": {
    "slideshow": {
     "slide_type": "subslide"
    }
   },
   "outputs": [],
   "source": [
    "rescaled_root = rescale_intensities(new_mat)\n",
    "rescaled_mcstas = rescale_intensities(data2d)\n",
    "\n",
    "print(f\"\"\"Shape of modified ROOT matrix: {rescaled_root.shape}\n",
    "Shape of modified McStas matrix: {rescaled_mcstas.shape}\n",
    "Max intensity of modified ROOT matrix: {np.max(rescaled_mcstas)}\n",
    "Max intensity of modified ROOT matrix: {np.max(rescaled_root)}\"\"\")"
   ]
  },
  {
   "cell_type": "markdown",
   "metadata": {
    "slideshow": {
     "slide_type": "slide"
    }
   },
   "source": [
    "# Choice of point to align arrays"
   ]
  },
  {
   "cell_type": "code",
   "execution_count": null,
   "metadata": {
    "scrolled": false,
    "slideshow": {
     "slide_type": "subslide"
    }
   },
   "outputs": [],
   "source": [
    "layout_boundedinttext_box = ipywidgets.Layout(width='18%', \n",
    "                                              height='100%')\n",
    "aspect_ratio_array = rescaled_root.shape[0]/rescaled_root.shape[1]\n",
    "\n",
    "def plot_with_selected_center(centre_x_root, centre_y_root, centre_x_mcstas, centre_y_mcstas):\n",
    "    fig5, axes5 = plt.subplots(nrows=1, ncols=2, tight_layout=True)\n",
    "    fig5.canvas.header_visible = False\n",
    "    fig5.canvas.toolbar_position = 'bottom'\n",
    "    \n",
    "    CS0 = axes5[0].pcolormesh(rescaled_root, \n",
    "                              cmap=colormap)\n",
    "    axes5[0].set_title('ROOT')\n",
    "    axes5[0].plot(centre_x_root, \n",
    "                  centre_y_root, \n",
    "                  'r+', markersize='12', markeredgewidth='2') \n",
    "    \n",
    "    CS1 = axes5[1].pcolormesh(rescaled_mcstas, \n",
    "                              cmap=colormap)\n",
    "    axes5[1].set_title('McStas')\n",
    "    axes5[1].plot(centre_x_mcstas, \n",
    "                  centre_y_mcstas, \n",
    "                  'r+', markersize='12', markeredgewidth='2')\n",
    "    \n",
    "# Slider widgets\n",
    "centre_x_root = ipywidgets.BoundedIntText( \n",
    "    value=0,\n",
    "    min=0,\n",
    "    max=len(xaxis)-1,\n",
    "    step=1,\n",
    "    description='ROOT x:',\n",
    "    disabled=False,\n",
    "    readout_format='d',\n",
    "    style=style_textbox,\n",
    "    layout=layout_boundedinttext_box\n",
    ")\n",
    "\n",
    "centre_y_root = ipywidgets.BoundedIntText( \n",
    "    value=0,\n",
    "    min=0,\n",
    "    max=len(yaxis)-1,\n",
    "    step=1,\n",
    "    description='ROOT y:',\n",
    "    disabled=False,\n",
    "    readout_format='d',\n",
    "    style=style_textbox,\n",
    "    layout=layout_boundedinttext_box\n",
    ")\n",
    "\n",
    "centre_x_mcstas = ipywidgets.BoundedIntText( \n",
    "    value=0,\n",
    "    min=0,\n",
    "    max=len(xaxis)-1,\n",
    "    step=1,\n",
    "    description='McStas x:',\n",
    "    disabled=False,\n",
    "    readout_format='d',\n",
    "    style=style_textbox,\n",
    "    layout=layout_boundedinttext_box\n",
    ")\n",
    "\n",
    "centre_y_mcstas = ipywidgets.BoundedIntText( \n",
    "    value=0,\n",
    "    min=0,\n",
    "    max=len(yaxis)-1,\n",
    "    step=1,\n",
    "    description='McStas y:',\n",
    "    disabled=False,\n",
    "    readout_format='d',\n",
    "    style=style_textbox,\n",
    "    layout=layout_boundedinttext_box\n",
    ")\n",
    "\n",
    "# Display plots and widgets\n",
    "interactive_plot = ipywidgets.interactive_output(plot_with_selected_center, \n",
    "                                                 {'centre_x_root': centre_x_root,     \n",
    "                                                  'centre_y_root': centre_y_root,\n",
    "                                                  'centre_x_mcstas': centre_x_mcstas,\n",
    "                                                  'centre_y_mcstas': centre_y_mcstas})\n",
    "\n",
    "set_center = ipywidgets.HBox([centre_x_root, \n",
    "                              centre_y_root, \n",
    "                              centre_x_mcstas, \n",
    "                              centre_y_mcstas])\n",
    "\n",
    "display(set_center, interactive_plot)"
   ]
  },
  {
   "cell_type": "markdown",
   "metadata": {
    "slideshow": {
     "slide_type": "slide"
    }
   },
   "source": [
    "# Calculate difference of arrays"
   ]
  },
  {
   "cell_type": "code",
   "execution_count": null,
   "metadata": {
    "slideshow": {
     "slide_type": "subslide"
    }
   },
   "outputs": [],
   "source": [
    "# Define difference array\n",
    "x0_root = centre_x_root.value\n",
    "y0_root = centre_y_root.value\n",
    "\n",
    "x0_mcstas = centre_x_mcstas.value\n",
    "y0_mcstas = centre_y_mcstas.value\n",
    "\n",
    "print(x0_root, y0_root, x0_mcstas, y0_mcstas)\n",
    "\n",
    "offset_x = x0_root - x0_mcstas\n",
    "offset_y = y0_root - y0_mcstas"
   ]
  },
  {
   "cell_type": "code",
   "execution_count": null,
   "metadata": {},
   "outputs": [],
   "source": [
    "diff_arrays = np.empty((rescaled_root.shape[0] - np.absolute(offset_y),\n",
    "                        rescaled_root.shape[1] - np.absolute(offset_x)))\n",
    "\n",
    "for i in range(diff_arrays.shape[0]):\n",
    "    for j in range(diff_arrays.shape[1]):\n",
    "        diff_arrays[i, j] = rescaled_root[i + max(0, offset_y), j + max(0, offset_x)]\\\n",
    "        - rescaled_mcstas[i + min(0, offset_y), j + min(0, offset_x)]"
   ]
  },
  {
   "cell_type": "code",
   "execution_count": null,
   "metadata": {
    "slideshow": {
     "slide_type": "subslide"
    }
   },
   "outputs": [],
   "source": [
    "# info about difference array: size, min and max intensities\n",
    "print(f\"\"\"Shape of difference array: {diff_arrays.shape}\n",
    "Max and min intensities of difference array: {np.max(diff_arrays)}, {np.min(diff_arrays)}\"\"\")"
   ]
  },
  {
   "cell_type": "code",
   "execution_count": null,
   "metadata": {
    "scrolled": true,
    "slideshow": {
     "slide_type": "subslide"
    }
   },
   "outputs": [],
   "source": [
    "from mpl_toolkits.mplot3d import Axes3D\n",
    "\n",
    "fig6 = plt.figure(figsize=(8, 8))\n",
    "fig6.canvas.header_visible = False\n",
    "fig6.canvas.toolbar_position = 'bottom'\n",
    "gs6 = matplotlib.gridspec.GridSpec(2, 2, height_ratios=[1, 1]) \n",
    "\n",
    "# Plot of ROOT rescaled array with selected centering point\n",
    "ax6 = plt.subplot(gs6[0, 0])\n",
    "CSroot = ax6.pcolormesh(rescaled_root, cmap=colormap)\n",
    "ax6.set_title('ROOT')\n",
    "ax6.plot(centre_x_root.value, \n",
    "         centre_y_root.value, \n",
    "         'r+', markersize='12', markeredgewidth='2') \n",
    "\n",
    "# Plot of McStas rescaled array with selected centering point\n",
    "ax6 = plt.subplot(gs6[0, 1])   \n",
    "CSmcstas = ax6.pcolormesh(rescaled_mcstas, cmap=colormap)\n",
    "ax6.set_title('McStas')\n",
    "ax6.plot(centre_x_mcstas.value, \n",
    "         centre_y_mcstas.value, \n",
    "         'r+', markersize='12', markeredgewidth='2')\n",
    "\n",
    "cbax_mcstas = fig6.add_axes([0.905, .53, 0.01, 0.35]) \n",
    "cbar_mcstas = fig6.colorbar(CSmcstas, cax = cbax_mcstas) \n",
    "\n",
    "# Plot of difference array in 3D\n",
    "ax6 = plt.subplot(gs6[1, 0], projection='3d')\n",
    "xs = np.arange(diff_arrays.shape[1])\n",
    "ys = np.arange(diff_arrays.shape[0])\n",
    "xv, yv = np.meshgrid(xs, ys)\n",
    "surf = ax6.plot_surface(xv, yv, diff_arrays, cmap=colormap, linewidth=0)\n",
    "\n",
    "# Plot of difference array in 2D\n",
    "ax6 = plt.subplot(gs6[1, 1]) \n",
    "CSdiff = ax6.contourf(xv, yv, diff_arrays, cmap=colormap)\n",
    "\n",
    "cbax_diff = fig6.add_axes([0.905, 0.11, 0.01, 0.35]) \n",
    "cbar_diff = fig6.colorbar(CSdiff, cax = cbax_diff) "
   ]
  },
  {
   "cell_type": "code",
   "execution_count": null,
   "metadata": {
    "scrolled": true
   },
   "outputs": [],
   "source": [
    "# # 3D plot of difference\n",
    "fig7 = plt.figure(figsize=(8, 6))\n",
    "fig7.canvas.header_visible = False\n",
    "fig7.canvas.toolbar_position = 'bottom'\n",
    "\n",
    "ax7 = fig7.add_subplot(111, projection='3d')\n",
    "xs = np.arange(diff_arrays.shape[1])\n",
    "ys = np.arange(diff_arrays.shape[0])\n",
    "xv, yv = np.meshgrid(xs, ys)\n",
    "ax7.set_xlabel('x')\n",
    "ax7.set_ylabel('y')\n",
    "surf = ax7.plot_surface(xv, yv, diff_arrays, \n",
    "                        cmap=colormap, \n",
    "                        linewidth=0)\n",
    "\n",
    "fig7.colorbar(surf, ax=ax7, shrink=0.5);"
   ]
  },
  {
   "cell_type": "code",
   "execution_count": null,
   "metadata": {
    "scrolled": false
   },
   "outputs": [],
   "source": [
    "# 2D plot of difference\n",
    "fig8, ax8 = plt.subplots()\n",
    "fig8.canvas.header_visible = False\n",
    "fig8.canvas.toolbar_position = 'bottom'\n",
    "CS = ax8.contourf(xv, yv, diff_arrays, cmap=colormap)\n",
    "cbar = fig8.colorbar(CS)"
   ]
  },
  {
   "cell_type": "code",
   "execution_count": null,
   "metadata": {},
   "outputs": [],
   "source": []
  }
 ],
 "metadata": {
  "kernelspec": {
   "display_name": "Python 3",
   "language": "python",
   "name": "python3"
  },
  "language_info": {
   "codemirror_mode": {
    "name": "ipython",
    "version": 3
   },
   "file_extension": ".py",
   "mimetype": "text/x-python",
   "name": "python",
   "nbconvert_exporter": "python",
   "pygments_lexer": "ipython3",
   "version": "3.8.6"
  },
  "toc": {
   "base_numbering": 1,
   "nav_menu": {},
   "number_sections": true,
   "sideBar": true,
   "skip_h1_title": false,
   "title_cell": "Table of Contents",
   "title_sidebar": "Contents",
   "toc_cell": false,
   "toc_position": {},
   "toc_section_display": true,
   "toc_window_display": false
  },
  "varInspector": {
   "cols": {
    "lenName": 16,
    "lenType": 16,
    "lenVar": 40
   },
   "kernels_config": {
    "python": {
     "delete_cmd_postfix": "",
     "delete_cmd_prefix": "del ",
     "library": "var_list.py",
     "varRefreshCmd": "print(var_dic_list())"
    },
    "r": {
     "delete_cmd_postfix": ") ",
     "delete_cmd_prefix": "rm(",
     "library": "var_list.r",
     "varRefreshCmd": "cat(var_dic_list()) "
    }
   },
   "types_to_exclude": [
    "module",
    "function",
    "builtin_function_or_method",
    "instance",
    "_Feature"
   ],
   "window_display": false
  }
 },
 "nbformat": 4,
 "nbformat_minor": 4
}
