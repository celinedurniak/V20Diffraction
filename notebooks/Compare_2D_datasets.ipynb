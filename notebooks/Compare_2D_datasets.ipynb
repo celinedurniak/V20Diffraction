{
 "cells": [
  {
   "cell_type": "markdown",
   "metadata": {},
   "source": [
    "This notebook shows how to compare 2D datasets from ROOT and McStas simulations \n",
    "\n",
    "- load McStas and ROOT data\n",
    "- crop ROOT data \n",
    "- resample x-y grid to the smallest grid \n",
    "- normalize intensity\n",
    "- choose centering points\n",
    "- plot difference as 2D and 3D plots"
   ]
  },
  {
   "cell_type": "code",
   "execution_count": null,
   "metadata": {},
   "outputs": [],
   "source": [
    "import os\n",
    "import uproot\n",
    "import matplotlib.pyplot as plt\n",
    "from mcstasscript.interface import functions\n",
    "\n",
    "import scipy.interpolate\n",
    "\n",
    "import numpy as np\n",
    "\n",
    "import ipywidgets\n",
    "from IPython.display import display\n",
    "%matplotlib notebook\n",
    "\n",
    "path_to_model = '/Users/celinedurniak/V20DiffractionData'\n",
    "\n",
    "assert os.path.isdir(path_to_model), 'The chosen path does not exist.'"
   ]
  },
  {
   "cell_type": "markdown",
   "metadata": {},
   "source": [
    "# Load McStas data"
   ]
  },
  {
   "cell_type": "code",
   "execution_count": null,
   "metadata": {},
   "outputs": [],
   "source": [
    "# Folder containing output of McStas simulation\n",
    "result_folder = 'V20_config6'"
   ]
  },
  {
   "cell_type": "code",
   "execution_count": null,
   "metadata": {},
   "outputs": [],
   "source": [
    "# access data stored after McStas simulations\n",
    "folder_with_mcstas_data = os.path.join(path_to_model, result_folder)\n",
    "\n",
    "assert os.path.isdir(folder_with_mcstas_data), 'The folder which should contain outputs of McStas simulation does not exist.'\n",
    "\n",
    "data_to_plot = functions.load_data(folder_with_mcstas_data)"
   ]
  },
  {
   "cell_type": "code",
   "execution_count": null,
   "metadata": {},
   "outputs": [],
   "source": [
    "# Create a dictionary containing filenames, shape of output data and x, y labels\n",
    "dict_mcstas_files = {}\n",
    "\n",
    "for item in data_to_plot:\n",
    "    file_key = item.metadata.info['filename'].rstrip()\n",
    "    xlabel = item.metadata.info['xlabel'].rstrip()\n",
    "    ylabel = item.metadata.info['ylabel'].rstrip()\n",
    "    type_array = item.metadata.info['type']\n",
    "    start = type_array.find('(') + 1\n",
    "    end = type_array.find(')', start)\n",
    "    \n",
    "    if ',' in type_array[start:end]:\n",
    "        nx_value, ny_value = type_array[start:end].split(',')\n",
    "        \n",
    "        dict_mcstas_files[file_key] = ((int(nx_value),\n",
    "                                        int(ny_value)), \n",
    "                                       xlabel, \n",
    "                                       ylabel)\n",
    "    else:\n",
    "        dict_mcstas_files[file_key] = (int(type_array[start:end]), \n",
    "                                       xlabel, \n",
    "                                       ylabel)\n",
    "        \n",
    "dict_mcstas_files"
   ]
  },
  {
   "cell_type": "code",
   "execution_count": null,
   "metadata": {
    "scrolled": true
   },
   "outputs": [],
   "source": [
    "# plot 2D - the number of line to read is hard-coded but could be accessed from the header of the file: '# type: array_2d(150, 150)'\n",
    "selected_filename = 'monitor_tx_DENEX.dat'\n",
    "\n",
    "path_to_mcstas2D_file = os.path.join(path_to_model, result_folder, selected_filename)\n",
    "\n",
    "assert os.path.isfile(path_to_mcstas2D_file), \\\n",
    "    'There is an issue with the chosen McStas 2D datafile'\n",
    "\n",
    "print(f'Information about plotted McStas 2D data {selected_filename}: {dict_mcstas_files[selected_filename]}')\n",
    "\n",
    "# check that we are dealing with 2D data and set the limit to read the first matrix only\n",
    "data2d = np.genfromtxt(path_to_mcstas2D_file, \n",
    "                       max_rows=dict_mcstas_files[selected_filename][0][0])\n",
    "\n",
    "fig, ax = plt.subplots()\n",
    "CS = ax.contourf(data2d)    \n",
    "ax.set_title(selected_filename)\n",
    "cbar = fig.colorbar(CS)"
   ]
  },
  {
   "cell_type": "markdown",
   "metadata": {},
   "source": [
    "# Load ROOT data"
   ]
  },
  {
   "cell_type": "code",
   "execution_count": null,
   "metadata": {},
   "outputs": [],
   "source": [
    "import uproot\n",
    "\n",
    "path_to_root_file = '/Users/celinedurniak/V20DiffractionData/DENEX'\n",
    "\n",
    "assert os.path.isdir(path_to_root_file), \\\n",
    "    'The path to the folder which should contain ROOT files does not exist.'"
   ]
  },
  {
   "cell_type": "code",
   "execution_count": null,
   "metadata": {
    "scrolled": true
   },
   "outputs": [],
   "source": [
    "# open one ROOT file and extract only one 1D and one 2D dataset specified in dict_selected_dataset\n",
    "# The 1D and 2D datasets are stored in a dictionary\n",
    "# Note the vertical axis of 2D datasets is inverted\n",
    "\n",
    "key_spectrum ='Spectrum03'\n",
    "ROOTfile = 'Spectrum03_DENEX006_1_18-02-05_0000.root'\n",
    "dir_with_data = 'Meas_3'\n",
    "selected_dataset = 'H_TOF,X1-X2_User_2D2_dsp_after_run_3'\n",
    "\n",
    "file_to_open = os.path.join(path_to_root_file, ROOTfile)\n",
    "\n",
    "assert os.path.isfile(file_to_open), 'There is an issue with the chosen ROOT file'\n",
    "\n",
    "# dictionary to store the x, y boundaries of selected 2D root data\n",
    "root_x_y_boundaries = {}\n",
    "\n",
    "with uproot.open(file_to_open)[dir_with_data] as myFile:\n",
    "    for key in myFile.keys():\n",
    "\n",
    "        # 2D contourplot\n",
    "        if 'TH2' in str(myFile[key]) and selected_dataset in str(key):\n",
    "            key_name = myFile[key].name.decode('utf-8') \n",
    "            data2d_root =  np.flip(myFile[key].values, 1).transpose()\n",
    "            \n",
    "            # extract info about x, y axis (min, max and number of bins) \n",
    "            root_x_y_boundaries['x_min'] = myFile[key].xlow\n",
    "            root_x_y_boundaries['x_max'] = myFile[key].xhigh \n",
    "            root_x_y_boundaries['y_min'] = myFile[key].ylow \n",
    "            root_x_y_boundaries['y_max'] = myFile[key].yhigh \n",
    "            \n",
    "            x_min = root_x_y_boundaries['x_min']\n",
    "            x_max = root_x_y_boundaries['x_max'] \n",
    "            bins_x = myFile[key].xnumbins \n",
    "            y_min = root_x_y_boundaries['y_min']\n",
    "            y_max = root_x_y_boundaries['y_max']\n",
    "            bins_y = myFile[key].ynumbins\n",
    "            \n",
    "            # create x- and y-axis\n",
    "            xaxis = x_min + (x_max - x_min) / (bins_x - 1) * np.arange(bins_x)\n",
    "            yaxis = y_min + (y_max - y_min) / (bins_y - 1) * np.arange(bins_y)\n",
    "            \n",
    "            name_output_file = ROOTfile[:10] + \"_\" + key_name.replace(',','_') + \"_inv_y\""
   ]
  },
  {
   "cell_type": "markdown",
   "metadata": {},
   "source": [
    "## Crop ROOT array (top, bottom)\n",
    "Remove top and bottom rows of the ROOT array.\n",
    "The boundaries can be set by the user using the slider."
   ]
  },
  {
   "cell_type": "code",
   "execution_count": null,
   "metadata": {},
   "outputs": [],
   "source": [
    "%matplotlib inline\n",
    "# Define function to plot when scaling is updated\n",
    "def fct_scaling(set_limits):\n",
    "    fig, ax = plt.subplots(figsize=(10, 10))  \n",
    "    # plot      \n",
    "    CS = ax.contourf(xaxis, yaxis, data2d_root, cmap=plt.cm.get_cmap('gist_earth'))\n",
    "    cbar = fig.colorbar(CS)\n",
    "    ax.plot(xaxis, 0*xaxis+ yaxis[set_limits[0]],'orange')\n",
    "    ax.plot(xaxis, 0*xaxis+ yaxis[set_limits[1]], 'orange')\n",
    "    plt.plot()\n",
    "\n",
    "# set textboxes for the scaling formulas    \n",
    "style_textbox = {'description_width': 'initial'}\n",
    "default_value_ymin = 50\n",
    "default_value_ymax = len(yaxis)-1-50\n",
    "\n",
    "set_limits = ipywidgets.IntRangeSlider(\n",
    "    value=[default_value_ymin, default_value_ymax],\n",
    "    min=0,\n",
    "    max=len(yaxis)-1,\n",
    "    step=1,\n",
    "    description='Index boundaries:',\n",
    "    disabled=False,\n",
    "    continuous_update=False,\n",
    "    readout_format='d',\n",
    "    style=style_textbox,\n",
    "    description_tooltip=\"Select indices to crop array\"\n",
    ")\n",
    "\n",
    "# Display plots and widgets\n",
    "interactive_plot = ipywidgets.interactive_output(fct_scaling, {'set_limits': set_limits}) \n",
    "\n",
    "set_limits_widgets = ipywidgets.VBox([ipywidgets.Label('Use the slider to select the lower and upper boundaries to crop the array '), \n",
    "                                      set_limits])\n",
    "display(set_limits_widgets, interactive_plot)"
   ]
  },
  {
   "cell_type": "code",
   "execution_count": null,
   "metadata": {},
   "outputs": [],
   "source": [
    "# cropped array\n",
    "cropped_array = data2d_root[set_limits.value[0]:set_limits.value[1], :]"
   ]
  },
  {
   "cell_type": "code",
   "execution_count": null,
   "metadata": {
    "scrolled": true
   },
   "outputs": [],
   "source": [
    "# plot to check new cropped array\n",
    "fig, ax = plt.subplots()\n",
    "CS = ax.contourf(cropped_array, cmap=plt.cm.get_cmap('gist_earth'))\n",
    "ax.set_title(f\"CROPPED {key_name}\")\n",
    "cbar = fig.colorbar(CS)"
   ]
  },
  {
   "cell_type": "markdown",
   "metadata": {},
   "source": [
    "# Rebin to the smallest grid\n",
    "The array with the finest grid is resampled to the coarser grid."
   ]
  },
  {
   "cell_type": "code",
   "execution_count": null,
   "metadata": {},
   "outputs": [],
   "source": [
    "print(f'Shape of ROOT data: {cropped_array.shape}')\n",
    "print(f'Shape of McStas data: {dict_mcstas_files[selected_filename][0]}')"
   ]
  },
  {
   "cell_type": "code",
   "execution_count": null,
   "metadata": {},
   "outputs": [],
   "source": [
    "def rebin(matrix_to_rebin, new_shape, **dict_x_y_boundaries):\n",
    "    '''\n",
    "    Function to resample the array with the largest number of bins to a smaller grid\n",
    "    \n",
    "    Two cases have to be considered if large grid = multiple of small grid or not\n",
    "    '''\n",
    "    old_shape = matrix_to_rebin.shape\n",
    "    # if old shape is multiple of new shape\n",
    "    if all([(old_shape[index_dim] % new_shape[index_dim])==0 for index_dim in [0, 1]]):\n",
    "        sh = new_shape[0], a.new_shape[0]//new_shape[0], new_shape[1], a.new_shape[1]//new_shape[1]\n",
    "        return matrix_to_rebin.reshape(sh).mean(-1).mean(1)\n",
    "    else:\n",
    "        # case when resampling with no multiplicity between new and old dimensions\n",
    "        # code adapted from https://stackoverflow.com/questions/34689519/how-to-coarser-the-2-d-array-data-resolution\n",
    "       \n",
    "        x_min = dict_x_y_boundaries['x_min']\n",
    "        x_max = dict_x_y_boundaries['x_max']\n",
    "        y_min = dict_x_y_boundaries['y_min']\n",
    "        y_max = dict_x_y_boundaries['y_max']\n",
    "        \n",
    "        # old x, y axes \n",
    "        xgrid_old  = np.linspace(x_min, x_max, old_shape[1])\n",
    "        ygrid_old  = np.linspace(y_min, y_max, old_shape[0])\n",
    "        \n",
    "        print('LENGTHS', len(xgrid_old), len(ygrid_old))\n",
    "\n",
    "        # new x, y axes\n",
    "        xgrid_new  = np.linspace(x_min, x_max, new_shape[0])\n",
    "        ygrid_new  = np.linspace(y_min, y_max, new_shape[1])\n",
    "\n",
    "        hfunc = scipy.interpolate.interp2d(xgrid_old, ygrid_old, matrix_to_rebin)\n",
    "\n",
    "        reshaped_data = np.zeros(new_shape[0] * new_shape[1])\n",
    "\n",
    "        t = 0\n",
    "\n",
    "        for i in range(0, new_shape[1], 1):\n",
    "            for j in range(0, new_shape[0], 1):\n",
    "                reshaped_data[t] = hfunc(xgrid_new[j], ygrid_new[i]) \n",
    "                t+=1    \n",
    "                \n",
    "        return reshaped_data.reshape(new_shape[1], new_shape[0])"
   ]
  },
  {
   "cell_type": "code",
   "execution_count": null,
   "metadata": {},
   "outputs": [],
   "source": [
    "new_mat = rebin(cropped_array, data2d.shape, **root_x_y_boundaries)"
   ]
  },
  {
   "cell_type": "code",
   "execution_count": null,
   "metadata": {},
   "outputs": [],
   "source": [
    "fig, ax = plt.subplots()\n",
    "CS = plt.pcolormesh(new_mat, cmap=plt.cm.get_cmap('gist_earth'))\n",
    "cbar = fig.colorbar(CS);"
   ]
  },
  {
   "cell_type": "code",
   "execution_count": null,
   "metadata": {},
   "outputs": [],
   "source": [
    "print(f\"Shape of reshaped data: {new_mat.shape}\")"
   ]
  },
  {
   "cell_type": "markdown",
   "metadata": {},
   "source": [
    "# Rescale matrices' intensities\n",
    "In order to compare the 2 matrices, the intensity has to be rescaled to the same values."
   ]
  },
  {
   "cell_type": "code",
   "execution_count": null,
   "metadata": {},
   "outputs": [],
   "source": [
    "def rescale_intensities(array_to_rescale):\n",
    "    '''\n",
    "    Function to rescale intensity of `array_to_rescale` to a 256-value scale\n",
    "    '''\n",
    "    min_arr = np.min(array_to_rescale)\n",
    "    max_arr = np.max(array_to_rescale)\n",
    "    size_x, size_y = array_to_rescale.shape\n",
    "    \n",
    "    for i in range(size_x):\n",
    "        for j in range(size_y):\n",
    "            array_to_rescale[i,j] = 256. * (array_to_rescale[i,j]- min_arr) / (max_arr - min_arr)\n",
    "            \n",
    "    return array_to_rescale"
   ]
  },
  {
   "cell_type": "code",
   "execution_count": null,
   "metadata": {},
   "outputs": [],
   "source": [
    "rescaled_root = rescale_intensities(new_mat)\n",
    "rescaled_mcstas = rescale_intensities(data2d)\n",
    "\n",
    "print(f\"\"\"Shape of modified ROOT matrix: {rescaled_root.shape}\\n\n",
    "Shape of modified McStas matrix: {rescaled_mcstas.shape}\\n\n",
    "Max intensity of modified ROOT matrix: {np.max(rescaled_mcstas)}\\n \n",
    "Max intensity of modified ROOT matrix: {np.max(rescaled_root)}\"\"\")"
   ]
  },
  {
   "cell_type": "markdown",
   "metadata": {},
   "source": [
    "# Choice of point to align arrays"
   ]
  },
  {
   "cell_type": "code",
   "execution_count": null,
   "metadata": {
    "scrolled": false
   },
   "outputs": [],
   "source": [
    "%matplotlib inline\n",
    "def plot_with_selected_center(centre_x_root, centre_y_root, centre_x_mcstas, centre_y_mcstas):\n",
    "    fig, axes = plt.subplots(nrows=1, ncols=2, figsize=(15,10))\n",
    "    CS0 = axes[0].pcolormesh(rescaled_root, \n",
    "                             cmap=plt.cm.get_cmap('gist_earth'))\n",
    "    axes[0].set_title('ROOT')\n",
    "    axes[0].plot(centre_x_root, \n",
    "                 centre_y_root, \n",
    "                 'r+', markersize='12', markeredgewidth='2') \n",
    "    \n",
    "    CS1 = axes[1].pcolormesh(rescaled_mcstas, \n",
    "                             cmap=plt.cm.get_cmap('gist_earth'))\n",
    "    axes[1].set_title('McStas')\n",
    "    axes[1].plot(centre_x_mcstas, \n",
    "                 centre_y_mcstas, \n",
    "                 'r+', markersize='12', markeredgewidth='2')\n",
    "    \n",
    "# Slider widgets\n",
    "centre_x_root = ipywidgets.BoundedIntText( \n",
    "    value=0,\n",
    "    min=0,\n",
    "    max=len(xaxis)-1,\n",
    "    step=1,\n",
    "    description='ROOT x:',\n",
    "    disabled=False,\n",
    "    readout_format='d',\n",
    "    style=style_textbox\n",
    ")\n",
    "\n",
    "centre_y_root = ipywidgets.BoundedIntText( \n",
    "    value=0,\n",
    "    min=0,\n",
    "    max=len(yaxis)-1,\n",
    "    step=1,\n",
    "    description='ROOT y:',\n",
    "    disabled=False,\n",
    "    readout_format='d',\n",
    "    style=style_textbox\n",
    ")\n",
    "\n",
    "centre_x_mcstas = ipywidgets.BoundedIntText( \n",
    "    value=0,\n",
    "    min=0,\n",
    "    max=len(xaxis)-1,\n",
    "    step=1,\n",
    "    description='McStas x:',\n",
    "    disabled=False,\n",
    "    readout_format='d',\n",
    "    style=style_textbox\n",
    ")\n",
    "\n",
    "centre_y_mcstas = ipywidgets.BoundedIntText( \n",
    "    value=0,\n",
    "    min=0,\n",
    "    max=len(yaxis)-1,\n",
    "    step=1,\n",
    "    description='McStas y:',\n",
    "    disabled=False,\n",
    "    readout_format='d',\n",
    "    style=style_textbox\n",
    ")\n",
    "\n",
    "# Display plots and widgets\n",
    "interactive_plot = ipywidgets.interactive_output(plot_with_selected_center, \n",
    "                                                 {'centre_x_root': centre_x_root,     \n",
    "                                                  'centre_y_root': centre_y_root,\n",
    "                                                  'centre_x_mcstas': centre_x_mcstas,\n",
    "                                                  'centre_y_mcstas': centre_y_mcstas})\n",
    "\n",
    "set_center = ipywidgets.HBox([centre_x_root, \n",
    "                              centre_y_root, \n",
    "                              centre_x_mcstas, \n",
    "                              centre_y_mcstas])\n",
    "\n",
    "display(set_center, interactive_plot)"
   ]
  },
  {
   "cell_type": "markdown",
   "metadata": {},
   "source": [
    "# Calculate difference of arrays"
   ]
  },
  {
   "cell_type": "code",
   "execution_count": null,
   "metadata": {},
   "outputs": [],
   "source": [
    "# Define difference array\n",
    "x0_root = centre_x_root.value\n",
    "y0_root = centre_y_root.value\n",
    "\n",
    "x0_mcstas = centre_x_mcstas.value\n",
    "y0_mcstas = centre_y_mcstas.value\n",
    "\n",
    "offset_x = x0_root - x0_mcstas\n",
    "offset_y = y0_root - y0_mcstas\n",
    "\n",
    "diff_arrays = np.empty((rescaled_root.shape[0] - np.absolute(offset_x),\n",
    "                        rescaled_root.shape[1] - np.absolute(offset_y)))\n",
    "\n",
    "\n",
    "for i in range(diff_arrays.shape[0]):\n",
    "    for j in range(diff_arrays.shape[1]):\n",
    "        diff_arrays[i, j] = rescaled_root[i + max(0, offset_x), j + max(0, offset_y)]\\\n",
    "        - rescaled_mcstas[i + min(0, offset_x), j + min(0, offset_y)]\n"
   ]
  },
  {
   "cell_type": "code",
   "execution_count": null,
   "metadata": {},
   "outputs": [],
   "source": [
    "# info about difference array: size, min and max intensities\n",
    "print(f\"Shape of difference array: {diff_arrays.shape}\\nMax and min intensities of difference array: {np.max(diff_arrays)}, {np.min(diff_arrays)}\")"
   ]
  },
  {
   "cell_type": "code",
   "execution_count": null,
   "metadata": {
    "scrolled": false
   },
   "outputs": [],
   "source": [
    "%matplotlib inline\n",
    "\n",
    "from mpl_toolkits.mplot3d import Axes3D\n",
    "import matplotlib\n",
    "\n",
    "chosen_cmap = plt.cm.get_cmap('gist_earth')\n",
    "\n",
    "fig = plt.figure(figsize=(12, 12))\n",
    "gs = matplotlib.gridspec.GridSpec(2, 2, height_ratios=[1, 1]) \n",
    "\n",
    "# Plot of ROOT rescaled array with selected centering point\n",
    "ax = plt.subplot(gs[0, 0])\n",
    "CSroot = ax.pcolormesh(rescaled_root, cmap=chosen_cmap)\n",
    "ax.set_title('ROOT')\n",
    "ax.plot(centre_x_root.value, \n",
    "        centre_y_root.value, \n",
    "        'r+', markersize='12', markeredgewidth='2') \n",
    "\n",
    "# Plot of McStas rescaled array with selected centering point\n",
    "ax = plt.subplot(gs[0, 1])   \n",
    "CSmcstas = ax.pcolormesh(rescaled_mcstas, cmap=chosen_cmap)\n",
    "ax.set_title('McStas')\n",
    "ax.plot(centre_x_mcstas.value, \n",
    "        centre_y_mcstas.value, \n",
    "        'r+', markersize='12', markeredgewidth='2')\n",
    "\n",
    "# Plot of difference array in 3D\n",
    "ax = plt.subplot(gs[1, 0], projection='3d')\n",
    "xs = np.arange(diff_arrays.shape[0])\n",
    "ys = np.arange(diff_arrays.shape[1])\n",
    "xv, yv = np.meshgrid(xs, ys)\n",
    "ax.set_xlabel('x')\n",
    "ax.set_ylabel('y')\n",
    "surf = ax.plot_surface(xv, yv, diff_arrays, cmap=chosen_cmap, linewidth=0)\n",
    "\n",
    "# Plot of difference array in 2D\n",
    "ax = plt.subplot(gs[1, 1]) \n",
    "CSdiff = ax.contourf(xv, yv, diff_arrays, cmap=chosen_cmap)\n",
    "\n",
    "cbax = fig.add_axes([0.925, 0.1, 0.02, 0.4]) \n",
    "cbar = fig.colorbar(CSdiff, cax = cbax) \n",
    "\n",
    "plt.show()"
   ]
  },
  {
   "cell_type": "code",
   "execution_count": null,
   "metadata": {},
   "outputs": [],
   "source": [
    "# # 3D plot of difference\n",
    "# %matplotlib notebook\n",
    "# from mpl_toolkits.mplot3d import Axes3D\n",
    "\n",
    "# fig = plt.figure(figsize=(8, 6))\n",
    "# ax = fig.add_subplot(111, projection='3d')\n",
    "# xs = np.arange(diff_arrays.shape[0])\n",
    "# ys = np.arange(diff_arrays.shape[1])\n",
    "# xv, yv = np.meshgrid(xs, ys)\n",
    "# ax.set_xlabel('x')\n",
    "# ax.set_ylabel('y')\n",
    "# surf = ax.plot_surface(xv, yv, diff_arrays, \n",
    "#                        cmap=plt.cm.get_cmap('gist_earth'), \n",
    "#                        linewidth=0)\n",
    "\n",
    "# fig.colorbar(surf, ax=ax, shrink=0.5)\n",
    "# plt.show()"
   ]
  },
  {
   "cell_type": "code",
   "execution_count": null,
   "metadata": {
    "scrolled": false
   },
   "outputs": [],
   "source": [
    "# # 2D plot of difference\n",
    "# fig, ax = plt.subplots()\n",
    "# CS = ax.contourf(xv, yv, diff_arrays), cmap=plt.cm.get_cmap('gist_earth'))\n",
    "# cbar = fig.colorbar(CS)\n",
    "# plt.show()"
   ]
  },
  {
   "cell_type": "code",
   "execution_count": null,
   "metadata": {},
   "outputs": [],
   "source": []
  }
 ],
 "metadata": {
  "kernelspec": {
   "display_name": "Python 3",
   "language": "python",
   "name": "python3"
  },
  "language_info": {
   "codemirror_mode": {
    "name": "ipython",
    "version": 3
   },
   "file_extension": ".py",
   "mimetype": "text/x-python",
   "name": "python",
   "nbconvert_exporter": "python",
   "pygments_lexer": "ipython3",
   "version": "3.8.2"
  },
  "toc": {
   "base_numbering": 1,
   "nav_menu": {},
   "number_sections": true,
   "sideBar": true,
   "skip_h1_title": false,
   "title_cell": "Table of Contents",
   "title_sidebar": "Contents",
   "toc_cell": false,
   "toc_position": {},
   "toc_section_display": true,
   "toc_window_display": false
  },
  "varInspector": {
   "cols": {
    "lenName": 16,
    "lenType": 16,
    "lenVar": 40
   },
   "kernels_config": {
    "python": {
     "delete_cmd_postfix": "",
     "delete_cmd_prefix": "del ",
     "library": "var_list.py",
     "varRefreshCmd": "print(var_dic_list())"
    },
    "r": {
     "delete_cmd_postfix": ") ",
     "delete_cmd_prefix": "rm(",
     "library": "var_list.r",
     "varRefreshCmd": "cat(var_dic_list()) "
    }
   },
   "types_to_exclude": [
    "module",
    "function",
    "builtin_function_or_method",
    "instance",
    "_Feature"
   ],
   "window_display": false
  }
 },
 "nbformat": 4,
 "nbformat_minor": 4
}
