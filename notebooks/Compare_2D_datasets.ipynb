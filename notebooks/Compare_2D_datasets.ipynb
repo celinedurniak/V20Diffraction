{
 "cells": [
  {
   "cell_type": "markdown",
   "metadata": {
    "slideshow": {
     "slide_type": "slide"
    }
   },
   "source": [
    "This notebook shows how to compare 2D datasets from ROOT and McStas simulations \n",
    "\n",
    "- load McStas and ROOT data\n",
    "- crop ROOT data \n",
    "- resample x-y grid to the smallest grid \n",
    "- normalize intensity\n",
    "- choose centering points\n",
    "- plot difference as 2D and 3D plots\n",
    "\n",
    "**Note**:  The physical units were not considered when comparing the arrays."
   ]
  },
  {
   "cell_type": "code",
   "execution_count": null,
   "metadata": {
    "slideshow": {
     "slide_type": "subslide"
    }
   },
   "outputs": [],
   "source": [
    "import os\n",
    "import uproot\n",
    "import scipp as sc\n",
    "import plopp as pp\n",
    "import mpltoolbox as tbx\n",
    "\n",
    "import dataconfig  # to get paths to data\n",
    "import numpy as np\n",
    "import re\n",
    "\n",
    "import scipy.interpolate\n",
    "import ipywidgets\n",
    "#import matplotlib\n",
    "#matplotlib.rcParams['figure.max_open_warning'] = 0\n",
    "\n",
    "%matplotlib widget"
   ]
  },
  {
   "cell_type": "markdown",
   "metadata": {
    "slideshow": {
     "slide_type": "slide"
    }
   },
   "source": [
    "# Load McStas data"
   ]
  },
  {
   "cell_type": "code",
   "execution_count": null,
   "metadata": {
    "slideshow": {
     "slide_type": "subslide"
    }
   },
   "outputs": [],
   "source": [
    "# Output of McStas simulation\n",
    "selected_filename = 'monitor_tx_DENEX.dat'\n",
    "\n",
    "path_to_mcstas2D_file = os.path.join(dataconfig.data_mcstas, selected_filename)\n",
    "\n",
    "assert os.path.isdir(dataconfig.data_mcstas), \\\n",
    "'The folder which should contain outputs of McStas simulation does not exist.'\n",
    "\n",
    "assert os.path.isfile(path_to_mcstas2D_file), \\\n",
    "    'There is an issue with the chosen McStas 2D datafile'"
   ]
  },
  {
   "cell_type": "code",
   "execution_count": null,
   "metadata": {},
   "outputs": [],
   "source": [
    "def extract_metadata_from_file(path_to_mcstas2D_file):\n",
    "    dict_metadata = {}\n",
    "    one_dimensional_data = False\n",
    "    with open(path_to_mcstas2D_file, 'r') as file:\n",
    "        for line in file:\n",
    "            if 'xlabel' in line:\n",
    "                dict_metadata['xlabel'] = ' '.join(line.rstrip().split()[-2:])\n",
    "            elif 'ylabel' in line:\n",
    "                dict_metadata['ylabel'] = ' '.join(line.rstrip().split()[-2:])\n",
    "            elif 'position' in line:\n",
    "                dict_metadata['position'] = line.rstrip().split()[-3:] \n",
    "            elif \"array_1d\" in line:\n",
    "                one_dimensional_data = True\n",
    "                type_array = line.rstrip()\n",
    "                start = type_array.find('(') + 1\n",
    "                end = type_array.find(')', start)\n",
    "                dict_metadata['nx_value'], dict_metadata['ny_value'] = [int(item) for item in type_array[start:end].split(',')]\n",
    "        \n",
    "            elif \"array_2d\" in line:\n",
    "                one_dimensional_data = False\n",
    "                type_array = line.rstrip()\n",
    "                start = type_array.find('(') + 1\n",
    "                end = type_array.find(')', start)\n",
    "                dict_metadata['nx_value'], dict_metadata['ny_value'] = [int(item) for item in type_array[start:end].split(',')]\n",
    "            elif \"limits\" in line:\n",
    "                if one_dimensional_data == False:\n",
    "                    dict_metadata['x_min'], dict_metadata['x_max'], dict_metadata['y_min'], dict_metadata['y_max'] = [float(item) for item in re.findall('-?[\\d]*[.][\\d]+', line)]\n",
    "                else:\n",
    "                    dict_metadata['x_min'], dict_metadata['x_max']  = [float(item) for item in re.findall('[\\d]*[.][\\d]+', line)]\n",
    "                    \n",
    "    return dict_metadata"
   ]
  },
  {
   "cell_type": "code",
   "execution_count": null,
   "metadata": {},
   "outputs": [],
   "source": [
    "metadata_denex = extract_metadata_from_file(path_to_mcstas2D_file)\n",
    "metadata_denex"
   ]
  },
  {
   "cell_type": "code",
   "execution_count": null,
   "metadata": {
    "slideshow": {
     "slide_type": "subslide"
    }
   },
   "outputs": [],
   "source": [
    "data2d = np.genfromtxt(path_to_mcstas2D_file,\n",
    "                       max_rows=int(metadata_denex['ny_value']))\n",
    "\n",
    "#if position_x of component < 0, flip data along y axis \n",
    "# otherwise leave unchanged\n",
    "if float(metadata_denex['position'][0]) < 0:\n",
    "     data2d = np.flip(data2d, 0)\n",
    "\n",
    "da_mcstas = sc.DataArray(data=sc.array(dims=['x', 'tof'], values=data2d),\n",
    "                          coords={'tof': sc.linspace('tof', metadata_denex['x_min'], metadata_denex['x_max'], num=metadata_denex['nx_value'], unit='s'),\n",
    "                                  'x': sc.linspace('x', metadata_denex['y_min'], metadata_denex['y_max'], num=metadata_denex['ny_value'], unit='m')\n",
    "                                  })\n",
    "da_mcstas"
   ]
  },
  {
   "cell_type": "code",
   "execution_count": null,
   "metadata": {},
   "outputs": [],
   "source": [
    "pp.plot(da_mcstas, grid=True, title=selected_filename)"
   ]
  },
  {
   "cell_type": "markdown",
   "metadata": {
    "slideshow": {
     "slide_type": "slide"
    }
   },
   "source": [
    "# Load ROOT data"
   ]
  },
  {
   "cell_type": "code",
   "execution_count": null,
   "metadata": {
    "slideshow": {
     "slide_type": "subslide"
    }
   },
   "outputs": [],
   "source": [
    "path_to_root_file = dataconfig.data_root  \n",
    "\n",
    "assert os.path.isdir(path_to_root_file), \\\n",
    "    'The path to the folder which should contain ROOT files does not exist.'"
   ]
  },
  {
   "cell_type": "code",
   "execution_count": null,
   "metadata": {
    "scrolled": true,
    "slideshow": {
     "slide_type": "subslide"
    }
   },
   "outputs": [],
   "source": [
    "# open one ROOT file and extract only one 1D and one 2D dataset specified in dict_selected_dataset\n",
    "# The 1D and 2D datasets are stored in a dictionary\n",
    "# Note the vertical axis of 2D datasets is inverted\n",
    "\n",
    "key_spectrum ='Spectrum03'\n",
    "ROOTfile = 'Spectrum03_DENEX006_1_18-02-05_0000.root'\n",
    "dir_with_data = 'Meas_3'\n",
    "selected_dataset = 'H_TOF,X1-X2_User_2D2_dsp_after_run_3'\n",
    "\n",
    "file_to_open = os.path.join(path_to_root_file, ROOTfile)\n",
    "\n",
    "assert os.path.isfile(file_to_open), 'There is an issue with the chosen ROOT file'\n",
    "\n",
    "# dictionary to store the x, y boundaries of selected 2D root data\n",
    "root_x_y_boundaries = {}\n",
    "\n",
    "with uproot.open(file_to_open)[dir_with_data] as myFile:\n",
    "    for key in myFile.keys():\n",
    "\n",
    "        # 2D contourplot\n",
    "        if selected_dataset in str(key):\n",
    "            key_name = myFile[key].name\n",
    "            data2d_root =  np.flip(myFile[key].counts(False), 1).transpose()\n",
    "            # create x- and y-axis\n",
    "            xaxis = myFile[key].axis(axis=0).edges()[:-1]\n",
    "            yaxis = myFile[key].axis(axis=1).edges()[:-1]\n",
    "            \n",
    "            # extract info about x, y axis (min, max and number of bins) \n",
    "            root_x_y_boundaries['x_min'] = min(xaxis)\n",
    "            root_x_y_boundaries['x_max'] = max(xaxis)\n",
    "            root_x_y_boundaries['y_min'] = min(yaxis)\n",
    "            root_x_y_boundaries['y_max'] = max(yaxis) \n",
    "            \n",
    "            # name_output_file = ROOTfile[:10] + \"_\" + key_name.replace(',','_') + \"_inv_y\""
   ]
  },
  {
   "cell_type": "markdown",
   "metadata": {
    "slideshow": {
     "slide_type": "slide"
    }
   },
   "source": [
    "## Crop ROOT array (top, bottom)\n",
    "Remove top and bottom rows of the ROOT array.\n",
    "The boundaries can be set by the user using the slider."
   ]
  },
  {
   "cell_type": "code",
   "execution_count": null,
   "metadata": {},
   "outputs": [],
   "source": [
    "da_root = sc.DataArray(data=sc.array(dims=['x', 'tof'], values=data2d_root.astype(float)),\n",
    "                       coords={'tof': sc.array(dims=['tof'], values=xaxis, unit='s'),\n",
    "                              'x': sc.array(dims=['x'], values=yaxis, unit='m')})\n",
    "da_root"
   ]
  },
  {
   "cell_type": "code",
   "execution_count": null,
   "metadata": {},
   "outputs": [],
   "source": [
    "ydim = 'x'\n",
    "\n",
    "def add_mask(da, trunc_range):\n",
    "    min_tr, max_tr = trunc_range  \n",
    "    \n",
    "    out = da.copy(deep=False)\n",
    "    if ydim in out.masks:\n",
    "        del out.masks[ydim]\n",
    "    out.masks[ydim] = ((out.coords[ydim] > out.coords[ydim][max_tr]) | (out.coords[ydim] < out.coords[ydim][min_tr]))\n",
    "    return out\n",
    "\n",
    "in_node = pp.input_node(da_root)\n",
    "in_node.name = 'Input node'\n",
    "\n",
    "# slider\n",
    "max_slider = da_root.sizes[ydim]\n",
    "slider = ipywidgets.IntRangeSlider(value=[0, max_slider-1],\n",
    "                                   min=0, \n",
    "                                   max=max_slider-1,\n",
    "                                   description='x indices')\n",
    "\n",
    "slider_node = pp.widget_node(slider)\n",
    "slider_node.name = 'Slider node'\n",
    "\n",
    "# add mask\n",
    "add_mask_node = pp.node(add_mask)(in_node, trunc_range=slider_node)\n",
    "add_mask_node.name = 'Show masks'\n",
    "\n",
    "fig = pp.figure2d(add_mask_node)\n",
    "\n",
    "ipywidgets.VBox([slider, fig])"
   ]
  },
  {
   "cell_type": "code",
   "execution_count": null,
   "metadata": {},
   "outputs": [],
   "source": [
    "xselect_min, xselect_max = slider_node.request_data()\n",
    "filtered_root = da_root['x', xselect_min:xselect_max]\n",
    "filtered_root"
   ]
  },
  {
   "cell_type": "code",
   "execution_count": null,
   "metadata": {},
   "outputs": [],
   "source": [
    "pp.plot(filtered_root, title=f\"CROPPED {key_name}\")"
   ]
  },
  {
   "cell_type": "markdown",
   "metadata": {
    "slideshow": {
     "slide_type": "slide"
    }
   },
   "source": [
    "# Rebin to the smallest grid\n",
    "The array with the finest grid is resampled to the coarser grid."
   ]
  },
  {
   "cell_type": "code",
   "execution_count": null,
   "metadata": {
    "slideshow": {
     "slide_type": "subslide"
    }
   },
   "outputs": [],
   "source": [
    "print(f\"Shape of ROOT data: {filtered_root.shape}\")\n",
    "print(f\"Shape of McStas data: {metadata_denex['nx_value']}, {metadata_denex['ny_value']}\")"
   ]
  },
  {
   "cell_type": "code",
   "execution_count": null,
   "metadata": {},
   "outputs": [],
   "source": [
    "filtered_root"
   ]
  },
  {
   "cell_type": "code",
   "execution_count": null,
   "metadata": {
    "slideshow": {
     "slide_type": "subslide"
    }
   },
   "outputs": [],
   "source": [
    "# new_mat = rebin(cropped_array, data2d.shape, **root_x_y_boundaries)\n",
    "new_mat_root = filtered_root.hist(tof=da_mcstas.shape[0]).hist(x=da_mcstas.shape[1]).transpose()\n",
    "new_mat_root"
   ]
  },
  {
   "cell_type": "code",
   "execution_count": null,
   "metadata": {},
   "outputs": [],
   "source": [
    "new_mat_mcstas = da_mcstas.hist(tof=da_mcstas.shape[0]).hist(x=da_mcstas.shape[1]).transpose()"
   ]
  },
  {
   "cell_type": "code",
   "execution_count": null,
   "metadata": {},
   "outputs": [],
   "source": [
    "pp.plot(new_mat_root, title='Resampled ROOT 2D array to different grid')"
   ]
  },
  {
   "cell_type": "code",
   "execution_count": null,
   "metadata": {
    "slideshow": {
     "slide_type": "subslide"
    }
   },
   "outputs": [],
   "source": [
    "print(f\"Shape of reshaped ROOT data: {new_mat_root.shape}, and binned McStas data: {new_mat_mcstas.shape}\")"
   ]
  },
  {
   "cell_type": "markdown",
   "metadata": {
    "slideshow": {
     "slide_type": "slide"
    }
   },
   "source": [
    "# Rescale matrices' intensities\n",
    "In order to compare the 2 matrices, the intensity has to be rescaled to the same values."
   ]
  },
  {
   "cell_type": "code",
   "execution_count": null,
   "metadata": {
    "slideshow": {
     "slide_type": "subslide"
    }
   },
   "outputs": [],
   "source": [
    "rescaled_root = new_mat_root.copy()\n",
    "rescaled_root *= 256/(new_mat_root.max() - new_mat_root.min())\n",
    "\n",
    "rescaled_mcstas = new_mat_mcstas.copy()\n",
    "rescaled_mcstas *= 256/(new_mat_mcstas.max() - new_mat_mcstas.min())"
   ]
  },
  {
   "cell_type": "code",
   "execution_count": null,
   "metadata": {
    "slideshow": {
     "slide_type": "subslide"
    }
   },
   "outputs": [],
   "source": [
    "print(f\"\"\"Shape of modified ROOT matrix: {rescaled_root.shape}\n",
    "Shape of modified McStas matrix: {rescaled_mcstas.shape}\n",
    "Max intensity of modified ROOT matrix: {sc.max(rescaled_mcstas).value}\n",
    "Max intensity of modified ROOT matrix: {sc.max(rescaled_root).value}\"\"\")"
   ]
  },
  {
   "cell_type": "markdown",
   "metadata": {
    "slideshow": {
     "slide_type": "slide"
    }
   },
   "source": [
    "# Choice of point to align arrays\n",
    "\n",
    "TO DO: limit to one point per data array"
   ]
  },
  {
   "cell_type": "code",
   "execution_count": null,
   "metadata": {},
   "outputs": [],
   "source": [
    "rescaled_mcstas.coords['tof'].min()"
   ]
  },
  {
   "cell_type": "code",
   "execution_count": null,
   "metadata": {},
   "outputs": [],
   "source": [
    "pm = pp.plot(rescaled_mcstas, title='McStas')\n",
    "pr = pp.plot(rescaled_root, title='ROOT')\n",
    "\n",
    "points_root = tbx.Points(ax=pr.canvas.ax, ms=10, marker='+', mec='r')\n",
    "points_mcstas = tbx.Points(ax=pm.canvas.ax, ms=10, marker='+', mec='r')\n",
    "\n",
    "def change_point_shape(point_selected):\n",
    "    point_selected.marker = 'o'\n",
    "    \n",
    "def reset_point_shape(point_released):\n",
    "    point_released.marker = '+' \n",
    "    \n",
    "def only_one_point_root(point):\n",
    "    # pr.ax.set_title(str(len(points_root.children)))\n",
    "    # pr.ax.set_title(str(len(point.associated.children)))\n",
    "    if len(points_root.children) > 1:\n",
    "        point.remove()\n",
    "        # for i in range(1, len(points_root.children)):\n",
    "        #     points_root.children[i].remove()\n",
    "    \n",
    "    # points_root.children[0].xy   \n",
    "    # print(dir(change['artist'].associated))\n",
    "    # change['artist'].associated = l\n",
    "\n",
    "def only_one_point_mcstas(point):\n",
    "    if len(points_mcstas.children) > 1:\n",
    "        point.remove()\n",
    "        \n",
    "points_root.on_vertex_press(change_point_shape)\n",
    "points_root.on_vertex_release(reset_point_shape)\n",
    "points_root.on_create(only_one_point_root)\n",
    "\n",
    "points_mcstas.on_vertex_press(change_point_shape)\n",
    "points_mcstas.on_vertex_release(reset_point_shape)\n",
    "points_mcstas.on_create(only_one_point_mcstas)\n",
    "\n",
    "pp.widgets.Box([[pr, pm]])"
   ]
  },
  {
   "cell_type": "markdown",
   "metadata": {
    "slideshow": {
     "slide_type": "slide"
    }
   },
   "source": [
    "# Calculate difference of arrays"
   ]
  },
  {
   "cell_type": "code",
   "execution_count": null,
   "metadata": {},
   "outputs": [],
   "source": [
    "# Define difference array\n",
    "x0_root = points_root.children[0].x\n",
    "y0_root = points_root.children[0].y\n",
    "\n",
    "x0_mcstas = points_mcstas.children[0].x\n",
    "y0_mcstas = points_mcstas.children[0].y\n",
    "\n",
    "offset_x = x0_root - x0_mcstas\n",
    "offset_y = y0_root - y0_mcstas\n",
    "\n",
    "print(x0_root, y0_root, x0_mcstas, y0_mcstas)\n",
    "\n",
    "assert rescaled_root.coords['tof'].unit == rescaled_mcstas.coords['tof'].unit, \"ROOT and McStas matrices have different tof units\"\n",
    "assert rescaled_root.coords['x'].unit == rescaled_mcstas.coords['x'].unit, \"ROOT and McStas matrices have different x units\"\n",
    "\n",
    "unit_tof = rescaled_root.coords['tof'].unit\n",
    "unit_x = rescaled_root.coords['x'].unit\n",
    "\n",
    "rescaled_rootc = rescaled_root.copy()\n",
    "rescaled_mcstasc = rescaled_mcstas.copy()\n",
    "\n",
    "rescaled_rootc.coords['tof'] += max(0, offset_x) * unit_tof\n",
    "rescaled_rootc.coords['x'] += max(0, offset_y) * unit_x\n",
    "\n",
    "rescaled_mcstasc.coords['tof'] += min(0, offset_x) * unit_tof\n",
    "rescaled_mcstasc.coords['x'] += min(0, offset_y) * unit_x\n",
    "\n",
    "# we discard the coordinates to only keep the 2D \"intensity\" values\n",
    "diff_arrays = rescaled_rootc.data.values - rescaled_mcstasc.data.values\n",
    "diff_arrays"
   ]
  },
  {
   "cell_type": "code",
   "execution_count": null,
   "metadata": {
    "slideshow": {
     "slide_type": "subslide"
    }
   },
   "outputs": [],
   "source": [
    "# info about difference array: size, min and max intensities\n",
    "print(f\"\"\"Shape of difference array: {diff_arrays.shape}\n",
    "Max and min intensities of difference array: {np.max(diff_arrays)}, {np.min(diff_arrays)}\"\"\")"
   ]
  },
  {
   "cell_type": "code",
   "execution_count": null,
   "metadata": {},
   "outputs": [],
   "source": [
    "da_diff  = sc.DataArray(data=sc.array(dims=['x', 'tof'], values=diff_arrays),\n",
    "                          coords={'tof': sc.linspace('tof', 0, diff_arrays.shape[0]-1, num=diff_arrays.shape[0], unit='dimensionless'),\n",
    "                                  'x': sc.linspace('x', 0, diff_arrays.shape[1]-1, num=diff_arrays.shape[1], unit='dimensionless')\n",
    "                                  })\n",
    "da_diff"
   ]
  },
  {
   "cell_type": "code",
   "execution_count": null,
   "metadata": {},
   "outputs": [],
   "source": [
    "p_diff_2d = pp.plot(da_diff)"
   ]
  },
  {
   "cell_type": "code",
   "execution_count": null,
   "metadata": {},
   "outputs": [],
   "source": [
    "# da_diff_3d = da_diff.copy()\n",
    "# da_diff_3d.coords['intensity'] = da_diff.data# .flatten(to='tofx')\n",
    "# da_diff_3d\n",
    "\n",
    "nb_rows = len(da_diff.coords['tof']) * len(da_diff.coords['x'])\n",
    "tof_3d = sc.zeros(dims=['row'], shape=[nb_rows])\n",
    "x_3d = sc.zeros(dims=['row'], shape=[nb_rows])\n",
    "indx = 0\n",
    "\n",
    "for i in range(len(da_diff.coords['tof'])):\n",
    "    for j in range(len(da_diff.coords['x'])):\n",
    "        tof_3d['row', indx] = da_diff.coords['tof'][i].value\n",
    "        x_3d['row', indx] = da_diff.coords['x'][j].value\n",
    "        \n",
    "        indx +=1"
   ]
  },
  {
   "cell_type": "code",
   "execution_count": null,
   "metadata": {},
   "outputs": [],
   "source": [
    "da_diff_3d = sc.DataArray(data=sc.array(dims=['row'], values=diff_arrays.flatten()),\n",
    "                          coords={'tof': tof_3d,\n",
    "                                   'x': x_3d,\n",
    "                                   'intensity': sc.array(dims=['row'], values=da_diff.data.values.flatten())\n",
    "                                  })\n",
    "da_diff_3d"
   ]
  },
  {
   "cell_type": "code",
   "execution_count": null,
   "metadata": {},
   "outputs": [],
   "source": [
    "p_diff_3d = pp.scatter3d(da_diff_3d, x='tof', y='x', z='intensity', figsize=(450,450))\n",
    "p_diff_3d.children[0].canvas.move_camera((280, -280, 400))\n",
    "p_diff_3d"
   ]
  },
  {
   "cell_type": "code",
   "execution_count": null,
   "metadata": {},
   "outputs": [],
   "source": [
    "pp.widgets.Box([[pr, pm], [p_diff_3d, p_diff_2d]])"
   ]
  },
  {
   "cell_type": "code",
   "execution_count": null,
   "metadata": {},
   "outputs": [],
   "source": []
  }
 ],
 "metadata": {
  "hide_input": false,
  "kernelspec": {
   "display_name": "Python 3 (ipykernel)",
   "language": "python",
   "name": "python3"
  },
  "language_info": {
   "codemirror_mode": {
    "name": "ipython",
    "version": 3
   },
   "file_extension": ".py",
   "mimetype": "text/x-python",
   "name": "python",
   "nbconvert_exporter": "python",
   "pygments_lexer": "ipython3",
   "version": "3.9.15"
  },
  "toc": {
   "base_numbering": 1,
   "nav_menu": {},
   "number_sections": true,
   "sideBar": true,
   "skip_h1_title": false,
   "title_cell": "Table of Contents",
   "title_sidebar": "Contents",
   "toc_cell": false,
   "toc_position": {},
   "toc_section_display": true,
   "toc_window_display": false
  },
  "varInspector": {
   "cols": {
    "lenName": 16,
    "lenType": 16,
    "lenVar": 40
   },
   "kernels_config": {
    "python": {
     "delete_cmd_postfix": "",
     "delete_cmd_prefix": "del ",
     "library": "var_list.py",
     "varRefreshCmd": "print(var_dic_list())"
    },
    "r": {
     "delete_cmd_postfix": ") ",
     "delete_cmd_prefix": "rm(",
     "library": "var_list.r",
     "varRefreshCmd": "cat(var_dic_list()) "
    }
   },
   "types_to_exclude": [
    "module",
    "function",
    "builtin_function_or_method",
    "instance",
    "_Feature"
   ],
   "window_display": false
  }
 },
 "nbformat": 4,
 "nbformat_minor": 4
}
