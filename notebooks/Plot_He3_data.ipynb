{
 "cells": [
  {
   "cell_type": "markdown",
   "metadata": {},
   "source": [
    "# Plot He3 data\n",
    "These are the files with an '.asc' extension.\n",
    "\n",
    "*Naming of these files:*\n",
    "-  The `bn4` format is a raw data file (event mode) that can be rebinned. Christian Jacobsen (HZG) wrote us a small python script to generate asci files from it, which also generates the filename. So you are completely right: the number indicates the binning size used to histogram the data. I attach the python script as well.\n",
    "- `chX` corresponds to the channel # of the 4 tubes.  \n",
    "    a. There are four tubes for diffraction, *i.e.* four channels. TsDau has a total of eight channels. Two of them were used for beam monitors, two were empty.  \n",
    "    b.  In our case (Feb 2018), `Ch3` was a beam monitor and `Ch5`, `Ch6`, `Ch7`, `Ch8` were the four diffraction tubes.\n",
    "- `binX` indicates the number of bins used to histogram the data. \n",
    "\n",
    "Only data with 2500 bins were considered for Spectrum3 in order to be consistent for all spectra."
   ]
  },
  {
   "cell_type": "code",
   "execution_count": null,
   "metadata": {},
   "outputs": [],
   "source": [
    "import os\n",
    "import numpy as np\n",
    "import matplotlib.pyplot as plt\n",
    "import re\n",
    "%matplotlib notebook"
   ]
  },
  {
   "cell_type": "code",
   "execution_count": null,
   "metadata": {},
   "outputs": [],
   "source": [
    "path_to_he3_files = '/Users/celinedurniak/V20DiffractionData/TsDau/'\n",
    "\n",
    "assert os.path.exists(path_to_he3_files), 'The path does not exist.'"
   ]
  },
  {
   "cell_type": "code",
   "execution_count": null,
   "metadata": {},
   "outputs": [],
   "source": [
    "# dictionary listing spectra and related files to plot\n",
    "dict_data = {'Spectrum03': [\n",
    "                 'Spectrum03.bn4ch3_bin2500.asc',\n",
    "                 'Spectrum03.bn4ch5_bin2500.asc',\n",
    "                 'Spectrum03.bn4ch6_bin2500.asc',\n",
    "                 'Spectrum03.bn4ch7_bin2500.asc',\n",
    "                 'Spectrum03.bn4ch8_bin2500.asc'],\n",
    "             \n",
    "             'Spectrum11': [\n",
    "                 'Spectrum11.bn4ch3_bin2500.asc',\n",
    "                 'Spectrum11.bn4ch5_bin2500.asc',\n",
    "                 'Spectrum11.bn4ch6_bin2500.asc',\n",
    "                 'Spectrum11.bn4ch7_bin2500.asc',\n",
    "                 'Spectrum11.bn4ch8_bin2500.asc'],\n",
    "             \n",
    "             'Spectrum12': [\n",
    "                 'Spectrum12.bn4ch3_bin2500.asc',\n",
    "                 'Spectrum12.bn4ch5_bin2500.asc',\n",
    "                 'Spectrum12.bn4ch6_bin2500.asc',\n",
    "                 'Spectrum12.bn4ch7_bin2500.asc',\n",
    "                 'Spectrum12.bn4ch8_bin2500.asc']}"
   ]
  },
  {
   "cell_type": "code",
   "execution_count": null,
   "metadata": {},
   "outputs": [],
   "source": [
    "def plot_he3_from_spectrum(spectrum):\n",
    "    \"\"\"\n",
    "    plot all data from He3 tubes related to a spectrum\n",
    "    \"\"\"\n",
    "    \n",
    "    fig, (ax1, ax2) = plt.subplots(2, figsize=(8,10))\n",
    "    fig.suptitle(f'{spectrum} - data from He3 tubes')\n",
    "    \n",
    "    for item in dict_data[spectrum]:\n",
    "        file_he3_to_open = os.path.join(path_to_he3_files, item)\n",
    "        he3_data = np.genfromtxt(file_he3_to_open)\n",
    "    \n",
    "        if 'ch3' in item:\n",
    "            ax1.plot(he3_data[:,0], he3_data[:,1], label='ch3')\n",
    "            \n",
    "        else:\n",
    "            label_plot = re.search('bn4(ch\\d+)_bin', item).group(1)\n",
    "            ax2.plot(he3_data[:,0], he3_data[:,1], label=label_plot)\n",
    "      \n",
    "    ax1.grid()\n",
    "    ax2.grid()\n",
    "    ax1.legend()\n",
    "    ax2.legend()"
   ]
  },
  {
   "cell_type": "markdown",
   "metadata": {},
   "source": [
    "## Spectrum03"
   ]
  },
  {
   "cell_type": "code",
   "execution_count": null,
   "metadata": {},
   "outputs": [],
   "source": [
    "plot_he3_from_spectrum('Spectrum03')"
   ]
  },
  {
   "cell_type": "markdown",
   "metadata": {},
   "source": [
    "## Spectrum11"
   ]
  },
  {
   "cell_type": "code",
   "execution_count": null,
   "metadata": {},
   "outputs": [],
   "source": [
    "plot_he3_from_spectrum('Spectrum11')"
   ]
  },
  {
   "cell_type": "markdown",
   "metadata": {},
   "source": [
    "## Spectrum12"
   ]
  },
  {
   "cell_type": "code",
   "execution_count": null,
   "metadata": {},
   "outputs": [],
   "source": [
    "plot_he3_from_spectrum('Spectrum12')"
   ]
  },
  {
   "cell_type": "code",
   "execution_count": null,
   "metadata": {},
   "outputs": [],
   "source": []
  }
 ],
 "metadata": {
  "kernelspec": {
   "display_name": "Python 3",
   "language": "python",
   "name": "python3"
  },
  "language_info": {
   "codemirror_mode": {
    "name": "ipython",
    "version": 3
   },
   "file_extension": ".py",
   "mimetype": "text/x-python",
   "name": "python",
   "nbconvert_exporter": "python",
   "pygments_lexer": "ipython3",
   "version": "3.8.2"
  },
  "toc": {
   "base_numbering": 1,
   "nav_menu": {},
   "number_sections": true,
   "sideBar": true,
   "skip_h1_title": false,
   "title_cell": "Table of Contents",
   "title_sidebar": "Contents",
   "toc_cell": false,
   "toc_position": {},
   "toc_section_display": true,
   "toc_window_display": false
  },
  "varInspector": {
   "cols": {
    "lenName": 16,
    "lenType": 16,
    "lenVar": 40
   },
   "kernels_config": {
    "python": {
     "delete_cmd_postfix": "",
     "delete_cmd_prefix": "del ",
     "library": "var_list.py",
     "varRefreshCmd": "print(var_dic_list())"
    },
    "r": {
     "delete_cmd_postfix": ") ",
     "delete_cmd_prefix": "rm(",
     "library": "var_list.r",
     "varRefreshCmd": "cat(var_dic_list()) "
    }
   },
   "types_to_exclude": [
    "module",
    "function",
    "builtin_function_or_method",
    "instance",
    "_Feature"
   ],
   "window_display": false
  }
 },
 "nbformat": 4,
 "nbformat_minor": 4
}
