{
 "cells": [
  {
   "cell_type": "markdown",
   "metadata": {},
   "source": [
    "This notebook details how to load `.dat`, `.png` and `.tiff` files containing 1D or 2D datasets, originally stored in ROOT files"
   ]
  },
  {
   "cell_type": "code",
   "execution_count": null,
   "metadata": {},
   "outputs": [],
   "source": [
    "import os\n",
    "import numpy as np\n",
    "import matplotlib.pyplot as plt\n",
    "\n",
    "import scipp as sc\n",
    "import plopp as pp\n",
    "from PIL import Image\n",
    "import dataconfig  # to get paths to data\n",
    "\n",
    "%matplotlib widget"
   ]
  },
  {
   "cell_type": "code",
   "execution_count": null,
   "metadata": {},
   "outputs": [],
   "source": [
    "path_to_file = dataconfig.data_extracted_from_root\n",
    "\n",
    "assert os.path.isdir(path_to_file), 'The chosen path does not exist.'"
   ]
  },
  {
   "cell_type": "markdown",
   "metadata": {},
   "source": [
    "# 1D datasets\n",
    "## ascii files"
   ]
  },
  {
   "cell_type": "code",
   "execution_count": null,
   "metadata": {},
   "outputs": [],
   "source": [
    "da = pp.data.data_array(ndim=1)\n",
    "da"
   ]
  },
  {
   "cell_type": "code",
   "execution_count": null,
   "metadata": {},
   "outputs": [],
   "source": [
    "# open 1D dat\n",
    "dat_file = os.path.join(path_to_file, 'Spectrum03H_TOF_dsp_after_run_3.dat')\n",
    "\n",
    "assert os.path.isfile(dat_file), 'There is an issue with the .dat file for 1D data to be opened.'\n",
    "\n",
    "d1D = sc.array(dims=['tof'], values=np.genfromtxt(dat_file))\n",
    "\n",
    "pp.plot(d1D, grid=True, linestyle='solid', marker='')"
   ]
  },
  {
   "cell_type": "code",
   "execution_count": null,
   "metadata": {},
   "outputs": [],
   "source": [
    "d1D"
   ]
  },
  {
   "cell_type": "markdown",
   "metadata": {},
   "source": [
    "## png files"
   ]
  },
  {
   "cell_type": "code",
   "execution_count": null,
   "metadata": {},
   "outputs": [],
   "source": [
    "# open 1D png and display\n",
    "png_file = os.path.join(path_to_file, 'Spectrum03H_TOF_dsp_after_run_3.png')\n",
    "\n",
    "assert os.path.isfile(png_file), 'There is an issue with the .png file for 1D data to be opened.'\n",
    "\n",
    "im = Image.open(png_file)\n",
    "im"
   ]
  },
  {
   "cell_type": "markdown",
   "metadata": {},
   "source": [
    "Get meta information such as format, size (width, height), mode. The size is expressed by `(width, height)`"
   ]
  },
  {
   "cell_type": "code",
   "execution_count": null,
   "metadata": {},
   "outputs": [],
   "source": [
    "im.format, im.size, im.mode"
   ]
  },
  {
   "cell_type": "markdown",
   "metadata": {},
   "source": [
    "# 2D datasets\n",
    "## ascii files"
   ]
  },
  {
   "cell_type": "code",
   "execution_count": null,
   "metadata": {},
   "outputs": [],
   "source": [
    "dat2d_file = os.path.join(path_to_file, 'Spectrum03_H_TOF_X1-X2_User_2D2_dsp_run_3_inv_y.dat')\n",
    "\n",
    "assert os.path.isfile(dat2d_file), 'There is an issue with the .dat file for 2D data to be opened.'\n",
    "\n",
    "d2D = np.genfromtxt(dat2d_file)\n",
    "\n",
    "d2D_to_plot = sc.DataArray(data=sc.array(dims=['tof', 'x'], values=d2D),\n",
    "                          coords={'tof': sc.arange('tof', d2D.shape[0]),\n",
    "                                  'x': sc.arange('x', d2D.shape[1])\n",
    "                                  }).transpose()"
   ]
  },
  {
   "cell_type": "code",
   "execution_count": null,
   "metadata": {},
   "outputs": [],
   "source": [
    "pp.plot(d2D_to_plot)"
   ]
  },
  {
   "cell_type": "markdown",
   "metadata": {},
   "source": [
    "## png files"
   ]
  },
  {
   "cell_type": "code",
   "execution_count": null,
   "metadata": {},
   "outputs": [],
   "source": [
    "# open 2D png\n",
    "png2d_file = os.path.join(path_to_file, 'Spectrum03_H_TOF_X1-X2_User_2D2_dsp_run_3_inv_y.png')\n",
    "\n",
    "assert os.path.isfile(png2d_file), 'There is an issue with the .png file for 2D data to be opened.'\n",
    "\n",
    "im = Image.open(png2d_file)\n",
    "im"
   ]
  },
  {
   "cell_type": "markdown",
   "metadata": {},
   "source": [
    "## tiff files"
   ]
  },
  {
   "cell_type": "code",
   "execution_count": null,
   "metadata": {},
   "outputs": [],
   "source": [
    "# open 2d tiff\n",
    "tif2d_file = os.path.join(path_to_file, 'Spectrum03_H_TOF_X1-X2_User_2D2_dsp_run_3_inv_y.tiff')\n",
    "\n",
    "assert os.path.isfile(tif2d_file), 'There is an issue with the .tif file for 2D data to be opened.'\n",
    "\n",
    "im = Image.open(tif2d_file)\n",
    "im"
   ]
  },
  {
   "cell_type": "code",
   "execution_count": null,
   "metadata": {},
   "outputs": [],
   "source": []
  }
 ],
 "metadata": {
  "hide_input": false,
  "kernelspec": {
   "display_name": "Python 3 (ipykernel)",
   "language": "python",
   "name": "python3"
  },
  "language_info": {
   "codemirror_mode": {
    "name": "ipython",
    "version": 3
   },
   "file_extension": ".py",
   "mimetype": "text/x-python",
   "name": "python",
   "nbconvert_exporter": "python",
   "pygments_lexer": "ipython3",
   "version": "3.9.15"
  },
  "toc": {
   "base_numbering": 1,
   "nav_menu": {},
   "number_sections": true,
   "sideBar": true,
   "skip_h1_title": false,
   "title_cell": "Table of Contents",
   "title_sidebar": "Contents",
   "toc_cell": false,
   "toc_position": {},
   "toc_section_display": true,
   "toc_window_display": false
  },
  "varInspector": {
   "cols": {
    "lenName": 16,
    "lenType": 16,
    "lenVar": 40
   },
   "kernels_config": {
    "python": {
     "delete_cmd_postfix": "",
     "delete_cmd_prefix": "del ",
     "library": "var_list.py",
     "varRefreshCmd": "print(var_dic_list())"
    },
    "r": {
     "delete_cmd_postfix": ") ",
     "delete_cmd_prefix": "rm(",
     "library": "var_list.r",
     "varRefreshCmd": "cat(var_dic_list()) "
    }
   },
   "types_to_exclude": [
    "module",
    "function",
    "builtin_function_or_method",
    "instance",
    "_Feature"
   ],
   "window_display": false
  }
 },
 "nbformat": 4,
 "nbformat_minor": 4
}
