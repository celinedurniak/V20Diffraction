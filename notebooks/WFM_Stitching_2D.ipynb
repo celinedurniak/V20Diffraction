{
 "cells": [
  {
   "cell_type": "markdown",
   "metadata": {
    "slideshow": {
     "slide_type": "slide"
    }
   },
   "source": [
    "# WFM stitching of 2D ROOT and McStas data"
   ]
  },
  {
   "cell_type": "code",
   "execution_count": null,
   "metadata": {
    "slideshow": {
     "slide_type": "subslide"
    }
   },
   "outputs": [],
   "source": [
    "import os\n",
    "import uproot\n",
    "import matplotlib.pyplot as plt\n",
    "import numpy as np\n",
    "\n",
    "from dress import wfm\n",
    "\n",
    "%matplotlib notebook\n",
    "\n",
    "# choice of colormap for 2D plots\n",
    "colormap = plt.cm.get_cmap('gist_earth')"
   ]
  },
  {
   "cell_type": "markdown",
   "metadata": {
    "slideshow": {
     "slide_type": "subslide"
    }
   },
   "source": [
    "## McStas"
   ]
  },
  {
   "cell_type": "code",
   "execution_count": null,
   "metadata": {
    "slideshow": {
     "slide_type": "subslide"
    }
   },
   "outputs": [],
   "source": [
    "# McStas 2D file\n",
    "mcstas_2dfile = \"monitor_tx_DENEX.dat\"\n",
    "\n",
    "# path to load McStas simulation data \n",
    "path_to_model = '/Users/celinedurniak/V20DiffractionData'\n",
    "\n",
    "assert os.path.isdir(path_to_model), 'The chosen path does not exist.'\n",
    "\n",
    "# Folder containing output of McStas simulation\n",
    "result_folder = 'V20_config6'\n",
    "\n",
    "# access data stored after McStas simulations\n",
    "folder_with_mcstas_data = os.path.join(path_to_model, result_folder)\n",
    "\n",
    "assert os.path.isdir(folder_with_mcstas_data), \\\n",
    "'The folder which should contain outputs of McStas simulation does not exist.'\n",
    "\n",
    "path_to_mcstas2D_file = os.path.join(path_to_model, result_folder, mcstas_2dfile)\n",
    "\n",
    "assert os.path.isfile(path_to_mcstas2D_file), \\\n",
    "'There is an issue with the chosen McStas 2D datafile'"
   ]
  },
  {
   "cell_type": "code",
   "execution_count": null,
   "metadata": {
    "scrolled": true,
    "slideshow": {
     "slide_type": "subslide"
    }
   },
   "outputs": [],
   "source": [
    "# Extract shape of output data\n",
    "# these values will be used to determine how many lines to read one array\n",
    "\n",
    "with open(path_to_mcstas2D_file, 'r') as file:\n",
    "    for line in file:\n",
    "        if \"array_2d\" in line:\n",
    "            type_array = line.rstrip()\n",
    "            start = type_array.find('(') + 1\n",
    "            end = type_array.find(')', start)\n",
    "            nx_value, ny_value = map(int, type_array[start:end].split(','))\n",
    "        if \"xylimits\" in line:\n",
    "            xylims = np.array(line.split(':')[1].split()).astype(np.float)\n",
    "\n",
    "print(f'Limits of x- and y-axis: {xylims}\\nNumber of points: nx={nx_value}, ny={ny_value}')"
   ]
  },
  {
   "cell_type": "code",
   "execution_count": null,
   "metadata": {
    "scrolled": true,
    "slideshow": {
     "slide_type": "subslide"
    }
   },
   "outputs": [],
   "source": [
    "data2d = np.genfromtxt(path_to_mcstas2D_file, max_rows=ny_value)\n",
    "\n",
    "#flip data along y axis \n",
    "data2d_mcstas = np.flip(data2d, 0)\n",
    "\n",
    "# define x, y axes (bin-centered)\n",
    "dx = (xylims[1] - xylims[0]) / float(nx_value)\n",
    "dy = (xylims[3] - xylims[2]) / float(ny_value)\n",
    "x = np.linspace(xylims[0] + 0.5*dx, xylims[1] - 0.5*dx, nx_value) * 1.0e6\n",
    "y = np.linspace(xylims[2] + 0.5*dx, xylims[3] - 0.5*dy, nx_value)"
   ]
  },
  {
   "cell_type": "code",
   "execution_count": null,
   "metadata": {
    "scrolled": false,
    "slideshow": {
     "slide_type": "subslide"
    }
   },
   "outputs": [],
   "source": [
    "fig1, ax1 = plt.subplots()\n",
    "cont1 = ax1.contourf(x, y, data2d_mcstas, cmap=colormap)    \n",
    "ax1.set_title(f\"Before stitching: {mcstas_2dfile}\")\n",
    "cbar1 = fig1.colorbar(cont1)"
   ]
  },
  {
   "cell_type": "code",
   "execution_count": null,
   "metadata": {
    "scrolled": false,
    "slideshow": {
     "slide_type": "subslide"
    }
   },
   "outputs": [],
   "source": [
    "# Get the V20 instrument chopper setup\n",
    "v20setup = wfm.v20.setup()\n",
    "\n",
    "# Apply random global phase shift\n",
    "global_phase_offset = np.deg2rad(-34.5) \n",
    "for key in v20setup[\"choppers\"].keys():\n",
    "    v20setup[\"choppers\"][key].phase += global_phase_offset\n",
    "    \n",
    "# Change distance of detector\n",
    "v20setup[\"info\"][\"detector_position\"] = 30.5\n",
    "\n",
    "# Get WFM frame parameters and generate TOF diagram\n",
    "frames = wfm.get_frames(instrument=v20setup, plot=True)"
   ]
  },
  {
   "cell_type": "code",
   "execution_count": null,
   "metadata": {
    "scrolled": true,
    "slideshow": {
     "slide_type": "subslide"
    }
   },
   "outputs": [],
   "source": [
    "# Plot frame locations onto raw data\n",
    "fig2, ax2 = plt.subplots()\n",
    "ax2.plot(x, np.sum(data2d_mcstas, axis=0))\n",
    "ax2.set_title('McStas - frame boundaries for stitching')\n",
    "\n",
    "for gap in frames[\"gaps\"]:\n",
    "    ax2.axvline(x=gap, linestyle='--', color='r')\n",
    "    \n",
    "ax2.grid();"
   ]
  },
  {
   "cell_type": "code",
   "execution_count": null,
   "metadata": {
    "slideshow": {
     "slide_type": "subslide"
    }
   },
   "outputs": [],
   "source": [
    "# Stitch the 2d histogram\n",
    "mcstas_stitched = wfm.stitch(x=x, y=data2d_mcstas, frames=frames)"
   ]
  },
  {
   "cell_type": "code",
   "execution_count": null,
   "metadata": {
    "scrolled": false,
    "slideshow": {
     "slide_type": "subslide"
    }
   },
   "outputs": [],
   "source": [
    "fig3, ax3 = plt.subplots(2, 1, constrained_layout=True, sharex=True)\n",
    "cont3 = ax3[0].contourf(x, y, mcstas_stitched, cmap=colormap)\n",
    "cbar3 = fig3.colorbar(cont3, ax=[ax3[0]], location='right')\n",
    "\n",
    "ax3[1].plot(x, np.sum(mcstas_stitched, axis=0))\n",
    "ax3[1].grid()"
   ]
  },
  {
   "cell_type": "code",
   "execution_count": null,
   "metadata": {
    "scrolled": true,
    "slideshow": {
     "slide_type": "subslide"
    }
   },
   "outputs": [],
   "source": [
    "fig4, ax4 = plt.subplots(1, 2, constrained_layout=True)\n",
    "fig4.suptitle('McStas')\n",
    "ax4[0].contourf(x, y, data2d_mcstas, cmap=colormap)\n",
    "ax4[0].set_title('Raw data')\n",
    "\n",
    "ax4[1].set_title('Stitched data')\n",
    "ax4[1].contourf(x, y, mcstas_stitched, cmap=colormap)"
   ]
  },
  {
   "cell_type": "markdown",
   "metadata": {
    "slideshow": {
     "slide_type": "slide"
    }
   },
   "source": [
    "## ROOT file"
   ]
  },
  {
   "cell_type": "code",
   "execution_count": null,
   "metadata": {
    "slideshow": {
     "slide_type": "subslide"
    }
   },
   "outputs": [],
   "source": [
    "# ROOT file\n",
    "path_to_all_root_files = '/Users/celinedurniak/V20DiffractionData/DENEX'\n",
    "\n",
    "assert os.path.isdir(path_to_all_root_files), \\\n",
    "    'The path to the folder which should contain ROOT files does not exist.'\n",
    "\n",
    "ROOT_file_sp3 = \"Spectrum03_DENEX006_1_18-02-05_0000.root\"\n",
    "\n",
    "path_to_root_file = os.path.join(path_to_all_root_files, ROOT_file_sp3)\n",
    "\n",
    "# Some metadata related to TOF channel for ROOT file\n",
    "tof_tick = 25e-3 # in microseconds (25 ns)"
   ]
  },
  {
   "cell_type": "code",
   "execution_count": null,
   "metadata": {
    "slideshow": {
     "slide_type": "subslide"
    }
   },
   "outputs": [],
   "source": [
    "# open a ROOT file and extract only one 2D dataset specified in selected_dataset\n",
    "# Note the vertical axis of 2D datasets is inverted\n",
    "\n",
    "key_spectrum ='Spectrum03'\n",
    "dir_with_data = 'Meas_3'\n",
    "selected_dataset = 'H_TOF,X1-X2_User_2D2_dsp_after_run_3'\n",
    "\n",
    "with uproot.open(path_to_root_file)[dir_with_data] as myFile:\n",
    "\n",
    "    for key in myFile.keys():\n",
    "        if 'BoardParam_run' in str(key):\n",
    "            myObject = myFile[key]\n",
    "            nb_xbins = myObject.numbins\n",
    "            \n",
    "            for i in range(nb_xbins):\n",
    "                if 'TOF_Time_Channel_Width' in myObject.xlabels[i]:\n",
    "                    TOF_Time_Channel_Width = myObject.values[i]\n",
    "                elif 'TOF_Window_Delay_Register' in myObject.xlabels[i]:\n",
    "                    TOF_Window_Delay_Register = myObject.values[i]\n",
    "                    \n",
    "                print(f\"{myObject.xlabels[i]}: {myObject.values[i]}\")\n",
    "\n",
    "        # 2D contourplot\n",
    "        if 'TH2' in str(myFile[key]) and selected_dataset in str(key):\n",
    "            \n",
    "            data2d_root_sp3 =  np.flip(myFile[key].values, 1).transpose()\n",
    "            \n",
    "            # extract info about x, y axis (min, max and number of bins) \n",
    "            x_min = myFile[key].xlow\n",
    "            x_max = myFile[key].xhigh \n",
    "            bins_x = myFile[key].xnumbins \n",
    "            y_min = myFile[key].ylow \n",
    "            y_max = myFile[key].yhigh\n",
    "            bins_y = myFile[key].ynumbins\n",
    "            \n",
    "            # create x- and y-axis\n",
    "            xaxis = x_min + (x_max - x_min) / (bins_x - 1) * np.arange(bins_x)\n",
    "            yaxis = y_min + (y_max - y_min) / (bins_y - 1) * np.arange(bins_y)"
   ]
  },
  {
   "cell_type": "code",
   "execution_count": null,
   "metadata": {
    "slideshow": {
     "slide_type": "subslide"
    }
   },
   "outputs": [],
   "source": [
    "# Convert TOF channels to microseconds:\n",
    "# a TOF channel width is 2773 ticks and one tick is 25ns.\n",
    "# Then also add a 6.25ms delay\n",
    "\n",
    "xaxis = (xaxis * TOF_Time_Channel_Width + TOF_Window_Delay_Register) * tof_tick"
   ]
  },
  {
   "cell_type": "code",
   "execution_count": null,
   "metadata": {
    "scrolled": true,
    "slideshow": {
     "slide_type": "subslide"
    }
   },
   "outputs": [],
   "source": [
    "fig5, ax5 = plt.subplots()\n",
    "cont5 = ax5.contourf(xaxis, yaxis, data2d_root_sp3, cmap=colormap)\n",
    "ax5.set_title(ROOT_file_sp3)\n",
    "cbar5 = fig5.colorbar(cont5)"
   ]
  },
  {
   "cell_type": "code",
   "execution_count": null,
   "metadata": {
    "scrolled": true,
    "slideshow": {
     "slide_type": "subslide"
    }
   },
   "outputs": [],
   "source": [
    "# Note I had to change the distance to the detector again from 30.5 -> 30.0\n",
    "v20setup[\"info\"][\"detector_position\"] = 30.0\n",
    "# Get WFM frame parameters and generate TOF diagram\n",
    "frames = wfm.get_frames(instrument=v20setup, plot=True)"
   ]
  },
  {
   "cell_type": "code",
   "execution_count": null,
   "metadata": {
    "scrolled": true,
    "slideshow": {
     "slide_type": "subslide"
    }
   },
   "outputs": [],
   "source": [
    "# Plot frame locations onto raw data\n",
    "fig6, ax6 = plt.subplots()\n",
    "ax6.plot(xaxis, np.sum(data2d_root_sp3, axis=0))\n",
    "ax6.grid()\n",
    "ax6.set_title('ROOT - frame boundaries for stitching')\n",
    "for gap in frames[\"gaps\"]:\n",
    "    ax6.axvline(x=gap, linestyle='--', color='r');"
   ]
  },
  {
   "cell_type": "code",
   "execution_count": null,
   "metadata": {
    "slideshow": {
     "slide_type": "subslide"
    }
   },
   "outputs": [],
   "source": [
    "# Stitch the 2d histogram\n",
    "root_stitched_sp3 = wfm.stitch(x=xaxis, y=data2d_root_sp3, frames=frames)"
   ]
  },
  {
   "cell_type": "code",
   "execution_count": null,
   "metadata": {
    "scrolled": false,
    "slideshow": {
     "slide_type": "subslide"
    }
   },
   "outputs": [],
   "source": [
    "fig7, ax7 = plt.subplots(2, 1, constrained_layout=True, sharex=True)\n",
    "ax7[0].set_title('Final stitched plot - ROOT Spectrum 3')\n",
    "cont7 = ax7[0].contourf(xaxis, yaxis, root_stitched_sp3, cmap=colormap)\n",
    "fig7.colorbar(cont7, ax=[ax7[0]], location='right')\n",
    "\n",
    "ax7[1].plot(xaxis, np.sum(root_stitched_sp3, axis=0))\n",
    "ax7[1].grid()"
   ]
  },
  {
   "cell_type": "code",
   "execution_count": null,
   "metadata": {
    "slideshow": {
     "slide_type": "subslide"
    }
   },
   "outputs": [],
   "source": [
    "fig8, ax8 = plt.subplots(1, 2, constrained_layout=True)\n",
    "fig8.suptitle('ROOT Spectrum 3')\n",
    "ax8[0].contourf(xaxis, yaxis, data2d_root_sp3, cmap=colormap)\n",
    "ax8[0].set_title('Raw data')\n",
    "\n",
    "ax8[1].set_title('Stitched data')\n",
    "ax8[1].contourf(xaxis, yaxis, root_stitched_sp3, cmap=colormap)"
   ]
  },
  {
   "cell_type": "markdown",
   "metadata": {
    "slideshow": {
     "slide_type": "-"
    }
   },
   "source": [
    "## Spectrum 11"
   ]
  },
  {
   "cell_type": "code",
   "execution_count": null,
   "metadata": {
    "slideshow": {
     "slide_type": "-"
    }
   },
   "outputs": [],
   "source": [
    "# open a ROOT file and extract only one 2D dataset specified in selected_dataset\n",
    "# Note the vertical axis of 2D datasets is inverted\n",
    "\n",
    "ROOT_file_sp11 = \"Spectrum11_DENEX006_1_18-02-09_0001.root\"\n",
    "path_to_root_file = os.path.join(path_to_all_root_files, ROOT_file_sp11)\n",
    "key_spectrum ='Spectrum11'\n",
    "dir_with_data = 'Meas_1'\n",
    "selected_dataset = 'H_TOF,X1-X2_User_2D4_dsp_after_run_1'\n",
    "\n",
    "with uproot.open(path_to_root_file)[dir_with_data] as myFile:\n",
    "\n",
    "    for key in myFile.keys():\n",
    "        if 'BoardParam_run' in str(key):\n",
    "            myObject = myFile[key]\n",
    "            nb_xbins = myObject.numbins\n",
    "            \n",
    "            for i in range(nb_xbins):\n",
    "                if 'TOF_Time_Channel_Width' in myObject.xlabels[i]:\n",
    "                    TOF_Time_Channel_Width = myObject.values[i]\n",
    "                elif 'TOF_Window_Delay_Register' in myObject.xlabels[i]:\n",
    "                    TOF_Window_Delay_Register = myObject.values[i]\n",
    "                    \n",
    "                #print(f\"{myObject.xlabels[i]}: {myObject.values[i]}\")\n",
    "\n",
    "        # 2D contourplot\n",
    "        if 'TH2' in str(myFile[key]) and selected_dataset in str(key):\n",
    "            \n",
    "            data2d_root_sp11 =  np.flip(myFile[key].values, 1).transpose()\n",
    "            \n",
    "            # extract info about x, y axis (min, max and number of bins) \n",
    "            x_min = myFile[key].xlow\n",
    "            x_max = myFile[key].xhigh \n",
    "            bins_x = myFile[key].xnumbins \n",
    "            y_min = myFile[key].ylow \n",
    "            y_max = myFile[key].yhigh\n",
    "            bins_y = myFile[key].ynumbins\n",
    "            \n",
    "            # create x- and y-axis\n",
    "            xaxis = x_min + (x_max - x_min) / (bins_x - 1) * np.arange(bins_x)\n",
    "            yaxis = y_min + (y_max - y_min) / (bins_y - 1) * np.arange(bins_y)"
   ]
  },
  {
   "cell_type": "code",
   "execution_count": null,
   "metadata": {
    "slideshow": {
     "slide_type": "-"
    }
   },
   "outputs": [],
   "source": [
    "# Convert TOF channels to microseconds:\n",
    "# a TOF channel width is 2773 ticks and one tick is 25ns.\n",
    "# Then also add a 6.25ms delay\n",
    "xaxis = (xaxis * TOF_Time_Channel_Width + TOF_Window_Delay_Register) * tof_tick"
   ]
  },
  {
   "cell_type": "code",
   "execution_count": null,
   "metadata": {
    "scrolled": false,
    "slideshow": {
     "slide_type": "-"
    }
   },
   "outputs": [],
   "source": [
    "fig9, ax9 = plt.subplots()\n",
    "cont9 = ax9.contourf(xaxis, yaxis, data2d_root_sp11, cmap=colormap)\n",
    "ax9.set_title(ROOT_file_sp11)\n",
    "cbar9 = fig9.colorbar(cont9)"
   ]
  },
  {
   "cell_type": "code",
   "execution_count": null,
   "metadata": {
    "scrolled": true,
    "slideshow": {
     "slide_type": "-"
    }
   },
   "outputs": [],
   "source": [
    "# Note I had to change the distance to the detector again from 30.5 -> 30.0\n",
    "v20setup[\"info\"][\"detector_position\"] = 30.0\n",
    "# Get WFM frame parameters and generate TOF diagram\n",
    "frames = wfm.get_frames(instrument=v20setup, plot=True)"
   ]
  },
  {
   "cell_type": "code",
   "execution_count": null,
   "metadata": {
    "slideshow": {
     "slide_type": "-"
    }
   },
   "outputs": [],
   "source": [
    "# Plot frame locations onto raw data\n",
    "fig10, ax10 = plt.subplots()\n",
    "ax10.plot(xaxis, np.sum(data2d_root_sp11, axis=0))\n",
    "ax10.grid()\n",
    "ax10.set_title('ROOT Spectrum11 - frame boundaries for stitching')\n",
    "for gap in frames[\"gaps\"]:\n",
    "    ax10.axvline(x=gap, linestyle='--', color='r');"
   ]
  },
  {
   "cell_type": "code",
   "execution_count": null,
   "metadata": {
    "slideshow": {
     "slide_type": "-"
    }
   },
   "outputs": [],
   "source": [
    "# Stitch the 2d histogram\n",
    "root_stitched_sp11 = wfm.stitch(x=xaxis, y=data2d_root_sp11, frames=frames)"
   ]
  },
  {
   "cell_type": "code",
   "execution_count": null,
   "metadata": {
    "scrolled": true,
    "slideshow": {
     "slide_type": "-"
    }
   },
   "outputs": [],
   "source": [
    "fig11, ax11 = plt.subplots(2, 1, constrained_layout=True, sharex=True)\n",
    "ax11[0].set_title('Final stitched plot - ROOT Spectrum 11')\n",
    "cont11 = ax11[0].contourf(xaxis, yaxis, root_stitched_sp11, cmap=colormap)\n",
    "fig11.colorbar(cont11, ax=[ax11[0]], location='right')\n",
    "ax11[1].plot(xaxis, np.sum(root_stitched_sp11, axis=0))\n",
    "ax11[1].grid()"
   ]
  },
  {
   "cell_type": "code",
   "execution_count": null,
   "metadata": {
    "scrolled": false
   },
   "outputs": [],
   "source": [
    "fig12, ax12 = plt.subplots(1, 2, constrained_layout=True)\n",
    "fig12.suptitle('ROOT Spectrum 11')\n",
    "ax12[0].contourf(xaxis, yaxis, data2d_root_sp11, cmap=colormap)\n",
    "ax12[0].set_title('Raw data')\n",
    "\n",
    "ax12[1].set_title('Stitched data')\n",
    "ax12[1].contourf(xaxis, yaxis, root_stitched_sp11, cmap=colormap)"
   ]
  },
  {
   "cell_type": "markdown",
   "metadata": {
    "slideshow": {
     "slide_type": "-"
    }
   },
   "source": [
    "## Spectrum 12"
   ]
  },
  {
   "cell_type": "code",
   "execution_count": null,
   "metadata": {
    "slideshow": {
     "slide_type": "-"
    }
   },
   "outputs": [],
   "source": [
    "# open a ROOT file and extract only one 2D dataset specified in selected_dataset\n",
    "# Note the vertical axis of 2D datasets is inverted\n",
    "\n",
    "ROOT_file_sp12 = 'Spectrum12_DENEX006_1_18-02-10_0000.root'\n",
    "path_to_root_file = os.path.join(path_to_all_root_files, ROOT_file_sp12)\n",
    "key_spectrum ='Spectrum12'\n",
    "dir_with_data = 'Meas_1'\n",
    "selected_dataset = 'H_TOF,X1-X2_User_2D4_dsp_after_run_1'\n",
    "\n",
    "with uproot.open(path_to_root_file)[dir_with_data] as myFile:\n",
    "\n",
    "    for key in myFile.keys():\n",
    "        if 'BoardParam_run' in str(key):\n",
    "            myObject = myFile[key]\n",
    "            nb_xbins = myObject.numbins\n",
    "            \n",
    "            for i in range(nb_xbins):\n",
    "                if 'TOF_Time_Channel_Width' in myObject.xlabels[i]:\n",
    "                    TOF_Time_Channel_Width = myObject.values[i]\n",
    "                elif 'TOF_Window_Delay_Register' in myObject.xlabels[i]:\n",
    "                    TOF_Window_Delay_Register = myObject.values[i]\n",
    "                    \n",
    "                print(f\"{myObject.xlabels[i]}: {myObject.values[i]}\")\n",
    "\n",
    "        # 2D contourplot\n",
    "        if 'TH2' in str(myFile[key]) and selected_dataset in str(key):\n",
    "            \n",
    "            data2d_root_sp12 =  np.flip(myFile[key].values, 1).transpose()\n",
    "            \n",
    "            # extract info about x, y axis (min, max and number of bins) \n",
    "            x_min = myFile[key].xlow\n",
    "            x_max = myFile[key].xhigh \n",
    "            bins_x = myFile[key].xnumbins \n",
    "            y_min = myFile[key].ylow \n",
    "            y_max = myFile[key].yhigh\n",
    "            bins_y = myFile[key].ynumbins\n",
    "            \n",
    "            # create x- and y-axis\n",
    "            xaxis = x_min + (x_max - x_min) / (bins_x - 1) * np.arange(bins_x)\n",
    "            yaxis = y_min + (y_max - y_min) / (bins_y - 1) * np.arange(bins_y)"
   ]
  },
  {
   "cell_type": "code",
   "execution_count": null,
   "metadata": {
    "slideshow": {
     "slide_type": "-"
    }
   },
   "outputs": [],
   "source": [
    "# Convert TOF channels to microseconds:\n",
    "# a TOF channel width is 2773 ticks and one tick is 25ns.\n",
    "# Then also add a 6.25ms delay\n",
    "xaxis = (xaxis * TOF_Time_Channel_Width + TOF_Window_Delay_Register) * tof_tick"
   ]
  },
  {
   "cell_type": "code",
   "execution_count": null,
   "metadata": {
    "slideshow": {
     "slide_type": "-"
    }
   },
   "outputs": [],
   "source": [
    "fig13, ax13 = plt.subplots()\n",
    "cont13 = ax13.contourf(xaxis, yaxis, data2d_root_sp12, cmap=colormap)\n",
    "ax13.set_title(ROOT_file_sp12)\n",
    "cbar13 = fig13.colorbar(cont13)"
   ]
  },
  {
   "cell_type": "code",
   "execution_count": null,
   "metadata": {
    "slideshow": {
     "slide_type": "-"
    }
   },
   "outputs": [],
   "source": [
    "# Note I had to change the distance to the detector again from 30.5 -> 30.0\n",
    "v20setup[\"info\"][\"detector_position\"] = 30.0\n",
    "# Get WFM frame parameters and generate TOF diagram\n",
    "frames = wfm.get_frames(instrument=v20setup, plot=True)"
   ]
  },
  {
   "cell_type": "code",
   "execution_count": null,
   "metadata": {
    "slideshow": {
     "slide_type": "-"
    }
   },
   "outputs": [],
   "source": [
    "# Plot frame locations onto raw data\n",
    "fig14, ax14 = plt.subplots()\n",
    "ax14.plot(xaxis, np.sum(data2d_root_sp12, axis=0))\n",
    "ax14.grid()\n",
    "ax14.set_title('ROOT - frame boundaries for stitching')\n",
    "for gap in frames[\"gaps\"]:\n",
    "    ax14.axvline(x=gap, linestyle='--', color='r')"
   ]
  },
  {
   "cell_type": "code",
   "execution_count": null,
   "metadata": {
    "slideshow": {
     "slide_type": "-"
    }
   },
   "outputs": [],
   "source": [
    "# Stitch the 2d histogram\n",
    "root_stitched_sp12 = wfm.stitch(x=xaxis, \n",
    "                                y=data2d_root_sp12, \n",
    "                                frames=frames)"
   ]
  },
  {
   "cell_type": "code",
   "execution_count": null,
   "metadata": {
    "slideshow": {
     "slide_type": "-"
    }
   },
   "outputs": [],
   "source": [
    "fig15, ax15 = plt.subplots(2, 1, constrained_layout=True, sharex=True)\n",
    "ax15[0].set_title('Final stitched plot - ROOT Spectrum 12')\n",
    "cont15 = ax15[0].contourf(xaxis, yaxis, root_stitched_sp12, cmap=colormap)\n",
    "fig15.colorbar(cont15, ax=[ax15[0]], location='right')\n",
    "ax15[1].plot(xaxis, np.sum(root_stitched_sp12, axis=0))\n",
    "ax15[1].grid()"
   ]
  },
  {
   "cell_type": "code",
   "execution_count": null,
   "metadata": {
    "slideshow": {
     "slide_type": "-"
    }
   },
   "outputs": [],
   "source": [
    "fig16, ax16 = plt.subplots(1, 2, constrained_layout=True)\n",
    "fig16.suptitle('ROOT Spectrum 12')\n",
    "ax16[0].contourf(xaxis, yaxis, data2d_root_sp12, cmap=colormap)\n",
    "ax16[0].set_title('Raw data')\n",
    "\n",
    "ax16[1].set_title('Stitched data')\n",
    "ax16[1].contourf(xaxis, yaxis, root_stitched_sp12, cmap=colormap)"
   ]
  },
  {
   "cell_type": "code",
   "execution_count": null,
   "metadata": {},
   "outputs": [],
   "source": []
  }
 ],
 "metadata": {
  "kernelspec": {
   "display_name": "Python 3",
   "language": "python",
   "name": "python3"
  },
  "language_info": {
   "codemirror_mode": {
    "name": "ipython",
    "version": 3
   },
   "file_extension": ".py",
   "mimetype": "text/x-python",
   "name": "python",
   "nbconvert_exporter": "python",
   "pygments_lexer": "ipython3",
   "version": "3.8.2"
  },
  "rise": {
   "scroll": true,
   "start_slideshow_at": "beginning"
  },
  "toc": {
   "base_numbering": 1,
   "nav_menu": {},
   "number_sections": true,
   "sideBar": true,
   "skip_h1_title": false,
   "title_cell": "Table of Contents",
   "title_sidebar": "Contents",
   "toc_cell": false,
   "toc_position": {},
   "toc_section_display": true,
   "toc_window_display": false
  },
  "varInspector": {
   "cols": {
    "lenName": 16,
    "lenType": 16,
    "lenVar": 40
   },
   "kernels_config": {
    "python": {
     "delete_cmd_postfix": "",
     "delete_cmd_prefix": "del ",
     "library": "var_list.py",
     "varRefreshCmd": "print(var_dic_list())"
    },
    "r": {
     "delete_cmd_postfix": ") ",
     "delete_cmd_prefix": "rm(",
     "library": "var_list.r",
     "varRefreshCmd": "cat(var_dic_list()) "
    }
   },
   "types_to_exclude": [
    "module",
    "function",
    "builtin_function_or_method",
    "instance",
    "_Feature"
   ],
   "window_display": false
  }
 },
 "nbformat": 4,
 "nbformat_minor": 4
}
