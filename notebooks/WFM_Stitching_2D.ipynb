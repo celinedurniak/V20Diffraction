{
 "cells": [
  {
   "cell_type": "markdown",
   "metadata": {
    "slideshow": {
     "slide_type": "slide"
    }
   },
   "source": [
    "# WFM stitching of 2D ROOT and McStas data"
   ]
  },
  {
   "cell_type": "code",
   "execution_count": null,
   "metadata": {
    "slideshow": {
     "slide_type": "subslide"
    }
   },
   "outputs": [],
   "source": [
    "import os\n",
    "import uproot\n",
    "import matplotlib.pyplot as plt\n",
    "import numpy as np\n",
    "import dataconfig  # to get paths to data\n",
    "\n",
    "from dress import wfm\n",
    "\n",
    "%matplotlib widget\n",
    "\n",
    "import ipywidgets\n",
    "\n",
    "# choice of colormap for 2D plots\n",
    "colormap = plt.cm.get_cmap('gist_earth')\n",
    "\n",
    "plt.rcParams.update({'figure.max_open_warning': 0})"
   ]
  },
  {
   "cell_type": "markdown",
   "metadata": {
    "slideshow": {
     "slide_type": "subslide"
    }
   },
   "source": [
    "## McStas"
   ]
  },
  {
   "cell_type": "code",
   "execution_count": null,
   "metadata": {
    "slideshow": {
     "slide_type": "subslide"
    }
   },
   "outputs": [],
   "source": [
    "# McStas 2D file\n",
    "mcstas_2dfile = \"monitor_tx_DENEX.dat\"\n",
    "\n",
    "# check existence of path to folder containing output of McStas simulation\n",
    "assert os.path.isdir(dataconfig.data_mcstas), \\\n",
    "'The folder which should contain outputs of McStas simulation does not exist.'\n",
    "\n",
    "path_to_mcstas2D_file = os.path.join(dataconfig.data_mcstas, mcstas_2dfile)\n",
    "\n",
    "assert os.path.isfile(path_to_mcstas2D_file), \\\n",
    "'There is an issue with the chosen McStas 2D datafile'"
   ]
  },
  {
   "cell_type": "markdown",
   "metadata": {},
   "source": [
    "### Extract shape of output data\n",
    "\n",
    "These values will be used to determine how many lines to read one array"
   ]
  },
  {
   "cell_type": "code",
   "execution_count": null,
   "metadata": {
    "scrolled": true,
    "slideshow": {
     "slide_type": "subslide"
    }
   },
   "outputs": [],
   "source": [
    "with open(path_to_mcstas2D_file, 'r') as file:\n",
    "    for line in file:\n",
    "        if \"array_2d\" in line:\n",
    "            type_array = line.rstrip()\n",
    "            start = type_array.find('(') + 1\n",
    "            end = type_array.find(')', start)\n",
    "            nx_value, ny_value = map(int, type_array[start:end].split(','))\n",
    "        if \"xylimits\" in line:\n",
    "            xylims = np.array(line.split(':')[1].split()).astype(float)\n",
    "\n",
    "print(f'Limits of x- and y-axis: {xylims}\\nNumber of points: nx = {nx_value}, ny = {ny_value}')"
   ]
  },
  {
   "cell_type": "markdown",
   "metadata": {},
   "source": [
    "### Read and plot data"
   ]
  },
  {
   "cell_type": "code",
   "execution_count": null,
   "metadata": {
    "scrolled": true,
    "slideshow": {
     "slide_type": "subslide"
    }
   },
   "outputs": [],
   "source": [
    "data2d = np.genfromtxt(path_to_mcstas2D_file, max_rows=ny_value)\n",
    "\n",
    "#flip data along y axis \n",
    "data2d_mcstas = np.flip(data2d, 0)\n",
    "\n",
    "# define x, y axes (bin-centered)\n",
    "dx = (xylims[1] - xylims[0]) / float(nx_value)\n",
    "dy = (xylims[3] - xylims[2]) / float(ny_value)\n",
    "xaxis_mcstas = np.linspace(xylims[0] + 0.5*dx, xylims[1] - 0.5*dx, nx_value) * 1.0e6\n",
    "yaxis_mcstas = np.linspace(xylims[2] + 0.5*dx, xylims[3] - 0.5*dy, nx_value)"
   ]
  },
  {
   "cell_type": "code",
   "execution_count": null,
   "metadata": {
    "scrolled": true,
    "slideshow": {
     "slide_type": "subslide"
    }
   },
   "outputs": [],
   "source": [
    "fig1, ax1 = plt.subplots()\n",
    "cont1 = ax1.contourf(xaxis_mcstas, yaxis_mcstas, data2d_mcstas, cmap=colormap)    \n",
    "ax1.set_title(f\"Before stitching: {mcstas_2dfile}\")\n",
    "cbar1 = fig1.colorbar(cont1)"
   ]
  },
  {
   "cell_type": "markdown",
   "metadata": {},
   "source": [
    "### 1D slices of initial data"
   ]
  },
  {
   "cell_type": "code",
   "execution_count": null,
   "metadata": {
    "scrolled": true
   },
   "outputs": [],
   "source": [
    "# function to be updated when changing the value to calculate the projection\n",
    "def plots_for_projection_mcstas(index_selected):\n",
    "    \"\"\" Plot 2D and 1D projection for user-specified range of y-values\"\"\"\n",
    "    CS = ax1_1d[0].contourf(xaxis_mcstas, yaxis_mcstas, data2d_mcstas, cmap=colormap)\n",
    "    ax1_1d[0].hlines(yaxis_mcstas[index_selected], min(xaxis_mcstas), max(xaxis_mcstas), 'orange')\n",
    "    \n",
    "    # calculate projection\n",
    "    ax1_1d[1].grid()\n",
    "    ax1_1d[1].set_xlim(min(xaxis_mcstas), max(xaxis_mcstas))\n",
    "    ax1_1d[1].set_ylim(np.min(data2d_mcstas), np.max(data2d_mcstas))\n",
    "    \n",
    "    line_mcstas, = ax1_1d[1].plot(xaxis_mcstas, data2d_mcstas[index_selected,:])\n",
    "    fig1_1d.colorbar(CS, ax=[ax1_1d[0]], location='right')\n",
    "    fig1_1d.canvas.draw()\n",
    "    \n",
    "style_textbox = {'description_width': 'initial'}\n",
    "\n",
    "def update_1dplot(change):\n",
    "    ax1_1d[0].clear()\n",
    "    ax1_1d[1].clear() \n",
    "    plots_for_projection_mcstas(change.new)\n",
    "\n",
    "set_selection = ipywidgets.IntSlider(\n",
    "    value=0,\n",
    "    min=0,\n",
    "    max=len(yaxis_mcstas)-1,\n",
    "    step=1,\n",
    "    description='Index:',\n",
    "    disabled=False,\n",
    "    continuous_update=False,\n",
    "    orientation='horizontal',\n",
    "    readout_format='d',\n",
    "    style=style_textbox,\n",
    "    layout = ipywidgets.Layout(width='400px')\n",
    ")\n",
    "\n",
    "fig1_1d, ax1_1d = plt.subplots(2, 1, constrained_layout=True, sharex=True)\n",
    "fig1_1d.canvas.header_visible = False\n",
    "plots_for_projection_mcstas(0)\n",
    "\n",
    "set_selection.observe(update_1dplot, 'value')\n",
    "\n",
    "play = ipywidgets.Play(\n",
    "    value=0,\n",
    "    min=0,\n",
    "    max=len(yaxis_mcstas)-1,\n",
    "    step=1,\n",
    "    interval=200,\n",
    "    description=\"Press play\",\n",
    "    disabled=False\n",
    ")\n",
    "\n",
    "ipywidgets.jslink((play, 'value'), (set_selection, 'value'))\n",
    "ipywidgets.HBox([play, set_selection])"
   ]
  },
  {
   "cell_type": "markdown",
   "metadata": {},
   "source": [
    "### Determine position and amplitude of last peak to be compared to those from the stitched data"
   ]
  },
  {
   "cell_type": "code",
   "execution_count": null,
   "metadata": {},
   "outputs": [],
   "source": [
    "# Index where x > 52000\n",
    "idx = (np.abs(xaxis_mcstas - 52000)).argmin()\n",
    "last_max = []\n",
    "pos_last_max = []\n",
    "for i in range(len(yaxis_mcstas)):\n",
    "    idx_max = np.argmax(data2d_mcstas[i, idx:])\n",
    "    last_max.append(data2d_mcstas[i, idx+idx_max])\n",
    "    pos_last_max.append(xaxis_mcstas[idx+idx_max])"
   ]
  },
  {
   "cell_type": "markdown",
   "metadata": {},
   "source": [
    "### Determine position and amplitude of next to last peak to be compared to those from the stitched data"
   ]
  },
  {
   "cell_type": "code",
   "execution_count": null,
   "metadata": {},
   "outputs": [],
   "source": [
    "idxM  = (np.abs(xaxis_mcstas-52000)).argmin()\n",
    "def xminb(i):\n",
    "    return 43500 + (45500-43500)*(i)/len(yaxis_mcstas)\n",
    "\n",
    "nlast_max = []\n",
    "pos_nlast_max = []\n",
    "\n",
    "for i in range(len(yaxis_mcstas)):\n",
    "    idxm  = (np.abs(xaxis_mcstas-xminb(i))).argmin()\n",
    "    idx_max = np.argmax(data2d_mcstas[i, idxm:idxM])\n",
    "    nlast_max.append(data2d_mcstas[i, idxm+idx_max])\n",
    "    pos_nlast_max.append(xaxis_mcstas[idxm+idx_max])"
   ]
  },
  {
   "cell_type": "markdown",
   "metadata": {},
   "source": [
    "### Check determination of last 2 max"
   ]
  },
  {
   "cell_type": "code",
   "execution_count": null,
   "metadata": {},
   "outputs": [],
   "source": [
    "# 1D slices of initial data & check determination of last max \n",
    "# function to be updated when changing the value to calculate the projection\n",
    "def plots_for_projection_mcstas0(index_selected):\n",
    "    \"\"\" Plot 2D and 1D projection for user-specified range of y-values\"\"\"\n",
    "    CS = ax1_1d0[0].contourf(xaxis_mcstas, yaxis_mcstas, data2d_mcstas, cmap=colormap)\n",
    "    ax1_1d0[0].hlines(yaxis_mcstas[index_selected], min(xaxis_mcstas), max(xaxis_mcstas), 'orange')\n",
    "    ax1_1d0[0].grid()\n",
    "    # calculate projection\n",
    "    ax1_1d0[1].grid()\n",
    "    ax1_1d0[1].set_xlim(min(xaxis_mcstas), max(xaxis_mcstas))\n",
    "    ax1_1d0[1].set_ylim(np.min(data2d_mcstas), np.max(data2d_mcstas))\n",
    "    \n",
    "    line_mcstas, = ax1_1d0[1].plot(xaxis_mcstas, data2d_mcstas[index_selected,:])\n",
    "    line_mcstas, = ax1_1d0[1].plot(pos_last_max, last_max)\n",
    "    line_mcstas, = ax1_1d0[1].plot(pos_nlast_max, nlast_max)\n",
    "    \n",
    "    fig1_1d0.colorbar(CS, ax=[ax1_1d0[0]], location='right')\n",
    "    fig1_1d0.canvas.draw()\n",
    "    \n",
    "style_textbox = {'description_width': 'initial'}\n",
    "\n",
    "def update_1dplot0(change):\n",
    "    ax1_1d0[0].clear()\n",
    "    ax1_1d0[1].clear() \n",
    "    plots_for_projection_mcstas0(change.new)\n",
    "\n",
    "set_selection0 = ipywidgets.IntSlider(\n",
    "    value=0, min=0, max=len(yaxis_mcstas)-1, step=1,\n",
    "    description='Index:',\n",
    "    continuous_update=False,\n",
    "    orientation='horizontal',\n",
    "    readout_format='d',\n",
    "    style=style_textbox,\n",
    "    layout = ipywidgets.Layout(width='400px'))\n",
    "\n",
    "fig1_1d0, ax1_1d0 = plt.subplots(2, 1, constrained_layout=True, sharex=True)\n",
    "fig1_1d0.canvas.header_visible = False\n",
    "plots_for_projection_mcstas0(0)\n",
    "\n",
    "set_selection0.observe(update_1dplot0, 'value')\n",
    "set_selection0"
   ]
  },
  {
   "cell_type": "markdown",
   "metadata": {},
   "source": [
    "###  Stitching"
   ]
  },
  {
   "cell_type": "code",
   "execution_count": null,
   "metadata": {
    "scrolled": false,
    "slideshow": {
     "slide_type": "subslide"
    }
   },
   "outputs": [],
   "source": [
    "# Get the V20 instrument chopper setup\n",
    "v20setup = wfm.v20.setup()\n",
    "\n",
    "# Modification of settings\n",
    "position_source_chopper1 = 21.729\n",
    "position_source_chopper2 = 21.759\n",
    "avg_pos_source_choppers = 0.5 * (position_source_chopper1 + position_source_chopper2)\n",
    "print(f\"Average position of the source choppers (m): {avg_pos_source_choppers:.4f}\")\n",
    "\n",
    "# WFM1\n",
    "# opening of the slits in degrees\n",
    "mcstas_wfm1_theta0 = [10.9872, 15.2964, 19.3032, 23.0076, 26.46, 29.6856]\n",
    "# offset to the positions of the slits\n",
    "mcstas_wfm1_offset = 14.8428\n",
    "# centres of the slits in degrees\n",
    "mcstas_wfm1_mid_slits = [89.208, 148.1382, 202.9104, 253.827, 301.14, 345.1392]\n",
    "\n",
    "v20setup['choppers']['WFM1'].openings = np.deg2rad([\n",
    "    mcstas_wfm1_offset + mcstas_wfm1_mid_slits[0] - .5 * mcstas_wfm1_theta0[0],\n",
    "    mcstas_wfm1_offset + mcstas_wfm1_mid_slits[0] + .5 * mcstas_wfm1_theta0[0],\n",
    "    mcstas_wfm1_offset + mcstas_wfm1_mid_slits[1] - .5 * mcstas_wfm1_theta0[1],\n",
    "    mcstas_wfm1_offset + mcstas_wfm1_mid_slits[1] + .5 * mcstas_wfm1_theta0[1],\n",
    "    mcstas_wfm1_offset + mcstas_wfm1_mid_slits[2] - .5 * mcstas_wfm1_theta0[2],\n",
    "    mcstas_wfm1_offset + mcstas_wfm1_mid_slits[2] + .5 * mcstas_wfm1_theta0[2],\n",
    "    mcstas_wfm1_offset + mcstas_wfm1_mid_slits[3] - .5 * mcstas_wfm1_theta0[3],\n",
    "    mcstas_wfm1_offset + mcstas_wfm1_mid_slits[3] + .5 * mcstas_wfm1_theta0[3],\n",
    "    mcstas_wfm1_offset + mcstas_wfm1_mid_slits[4] - .5 * mcstas_wfm1_theta0[4],\n",
    "    mcstas_wfm1_offset + mcstas_wfm1_mid_slits[4] + .5 * mcstas_wfm1_theta0[4],\n",
    "    mcstas_wfm1_offset + mcstas_wfm1_mid_slits[5] - .5 * mcstas_wfm1_theta0[5],\n",
    "    mcstas_wfm1_offset + mcstas_wfm1_mid_slits[5] + .5 * mcstas_wfm1_theta0[5]\n",
    "])\n",
    "\n",
    "v20setup['choppers']['WFM1'].phase = np.deg2rad(17.1)\n",
    "\n",
    "v20setup['choppers']['WFM1'].distance = 28.594 - 0.292 * 0.5 - avg_pos_source_choppers\n",
    "\n",
    "# WFM2\n",
    "# opening of the slits in degrees\n",
    "mcstas_wfm2_theta0 = [10.9872, 15.2964, 19.3032, 19.3032, 23.0076, 29.6856]\n",
    "# offset to the positions of the slits\n",
    "mcstas_wfm2_offset = 14.8428\n",
    "# centres of the slits in degrees\n",
    "mcstas_wfm2_mid_slits = [70.5348, 133.749, 192.528, 245.322, 296.2386, 345.1644]\n",
    "\n",
    "v20setup['choppers']['WFM2'].openings = np.deg2rad([\n",
    "    mcstas_wfm2_mid_slits[0] + mcstas_wfm2_offset - .5 * mcstas_wfm2_theta0[0],\n",
    "    mcstas_wfm2_mid_slits[0] + mcstas_wfm2_offset + .5 * mcstas_wfm2_theta0[0],\n",
    "    mcstas_wfm2_mid_slits[1] + mcstas_wfm2_offset - .5 * mcstas_wfm2_theta0[1],\n",
    "    mcstas_wfm2_mid_slits[1] + mcstas_wfm2_offset + .5 * mcstas_wfm2_theta0[1],\n",
    "    mcstas_wfm2_mid_slits[2] + mcstas_wfm2_offset - .5 * mcstas_wfm2_theta0[2],\n",
    "    mcstas_wfm2_mid_slits[2] + mcstas_wfm2_offset + .5 * mcstas_wfm2_theta0[2],\n",
    "    mcstas_wfm2_mid_slits[3] + mcstas_wfm2_offset - .5 * mcstas_wfm2_theta0[3],\n",
    "    mcstas_wfm2_mid_slits[3] + mcstas_wfm2_offset + .5 * mcstas_wfm2_theta0[3],\n",
    "    mcstas_wfm2_mid_slits[4] + mcstas_wfm2_offset - .5 * mcstas_wfm2_theta0[4],\n",
    "    mcstas_wfm2_mid_slits[4] + mcstas_wfm2_offset + .5 * mcstas_wfm2_theta0[4],\n",
    "    mcstas_wfm2_mid_slits[5] + mcstas_wfm2_offset - .5 * mcstas_wfm2_theta0[5],\n",
    "    mcstas_wfm2_mid_slits[5] + mcstas_wfm2_offset + .5 * mcstas_wfm2_theta0[5]])\n",
    "\n",
    "v20setup['choppers']['WFM2'].phase = np.deg2rad(46.76)\n",
    "\n",
    "v20setup['choppers']['WFM2'].distance = 28.594 + 0.292 * 0.5 - avg_pos_source_choppers\n",
    "\n",
    "# FOC1\n",
    "# opening of the slits in degrees\n",
    "mcstas_fol1_theta0 = [20.64, 23.24, 21.81, 17.87, 15.76, 24.47]\n",
    "# offset to the positions of the slits\n",
    "mcstas_fol1_offset = 12.235\n",
    "# centres of the slits in degrees\n",
    "mcstas_fol1_mid_slits = [74.67, 136.67, 194.315, 245.335, 294.92, 347.765]\n",
    "\n",
    "v20setup['choppers']['FOL1'].openings = np.deg2rad([\n",
    "    mcstas_fol1_mid_slits[0] + mcstas_fol1_offset - .5 * mcstas_fol1_theta0[0],\n",
    "    mcstas_fol1_mid_slits[0] + mcstas_fol1_offset + .5 * mcstas_fol1_theta0[0],\n",
    "    mcstas_fol1_mid_slits[1] + mcstas_fol1_offset - .5 * mcstas_fol1_theta0[1],\n",
    "    mcstas_fol1_mid_slits[1] + mcstas_fol1_offset + .5 * mcstas_fol1_theta0[1],\n",
    "    mcstas_fol1_mid_slits[2] + mcstas_fol1_offset - .5 * mcstas_fol1_theta0[2],\n",
    "    mcstas_fol1_mid_slits[2] + mcstas_fol1_offset + .5 * mcstas_fol1_theta0[2],\n",
    "    mcstas_fol1_mid_slits[3] + mcstas_fol1_offset - .5 * mcstas_fol1_theta0[3],\n",
    "    mcstas_fol1_mid_slits[3] + mcstas_fol1_offset + .5 * mcstas_fol1_theta0[3],\n",
    "    mcstas_fol1_mid_slits[4] + mcstas_fol1_offset - .5 * mcstas_fol1_theta0[4],\n",
    "    mcstas_fol1_mid_slits[4] + mcstas_fol1_offset + .5 * mcstas_fol1_theta0[4],\n",
    "    mcstas_fol1_mid_slits[5] + mcstas_fol1_offset - .5 * mcstas_fol1_theta0[5],\n",
    "    mcstas_fol1_mid_slits[5] + mcstas_fol1_offset + .5 * mcstas_fol1_theta0[5]])\n",
    "\n",
    "v20setup['choppers']['FOL1'].phase = np.deg2rad(32.4)\n",
    "\n",
    "v20setup['choppers']['FOL1'].distance = 30.444 - avg_pos_source_choppers\n",
    "\n",
    "# FOC2\n",
    "# opening of the slits in degrees\n",
    "mcstas_fol2_theta0 = [36.6, 36.06, 30.21, 26.88, 24.56, 29.11]\n",
    "# offset to the positions of the slits\n",
    "mcstas_fol2_offset = 14.555\n",
    "# centres of the slits in degrees\n",
    "mcstas_fol2_mid_slits = [98.06, 154.44, 206.835, 254.25, 299.41, 345.445]\n",
    "\n",
    "v20setup['choppers']['FOL2'].openings = np.deg2rad([\n",
    "    mcstas_fol2_mid_slits[0] + mcstas_fol2_offset - .5 * mcstas_fol2_theta0[0],\n",
    "    mcstas_fol2_mid_slits[0] + mcstas_fol2_offset + .5 * mcstas_fol2_theta0[0],\n",
    "    mcstas_fol2_mid_slits[1] + mcstas_fol2_offset - .5 * mcstas_fol2_theta0[1],\n",
    "    mcstas_fol2_mid_slits[1] + mcstas_fol2_offset + .5 * mcstas_fol2_theta0[1],\n",
    "    mcstas_fol2_mid_slits[2] + mcstas_fol2_offset - .5 * mcstas_fol2_theta0[2],\n",
    "    mcstas_fol2_mid_slits[2] + mcstas_fol2_offset + .5 * mcstas_fol2_theta0[2],\n",
    "    mcstas_fol2_mid_slits[3] + mcstas_fol2_offset - .5 * mcstas_fol2_theta0[3],\n",
    "    mcstas_fol2_mid_slits[3] + mcstas_fol2_offset + .5 * mcstas_fol2_theta0[3],\n",
    "    mcstas_fol2_mid_slits[4] + mcstas_fol2_offset - .5 * mcstas_fol2_theta0[4],\n",
    "    mcstas_fol2_mid_slits[4] + mcstas_fol2_offset + .5 * mcstas_fol2_theta0[4],\n",
    "    mcstas_fol2_mid_slits[5] + mcstas_fol2_offset - .5 * mcstas_fol2_theta0[5],\n",
    "    mcstas_fol2_mid_slits[5] + mcstas_fol2_offset + .5 * mcstas_fol2_theta0[5]])\n",
    "\n",
    "v20setup['choppers']['FOL2'].phase = np.deg2rad(342.27-360)\n",
    "\n",
    "v20setup['choppers']['FOL2'].distance = 37.544 - avg_pos_source_choppers\n",
    "\n",
    "# Detector's position\n",
    "# The DENEX detector is rotated by 90 degrees\n",
    "\n",
    "v20setup['info']['detector_positions']['DENEX'] = 50.55 + 0.945 - avg_pos_source_choppers \n",
    "v20setup['info'][\"wfm_choppers_midpoint\"] = 0.5 * (v20setup['choppers']['WFM1'].distance + v20setup['choppers']['WFM2'].distance)\n",
    "\n",
    "print(f\"Position of DENEX (m): {v20setup['info']['detector_positions']['DENEX']:.4f}, position of middle of WFM1 and WFM2 (m): {v20setup['info']['wfm_choppers_midpoint']:.4f}\")"
   ]
  },
  {
   "cell_type": "code",
   "execution_count": null,
   "metadata": {},
   "outputs": [],
   "source": [
    "# check new settings\n",
    "print(v20setup.keys())\n",
    "print('==============================')\n",
    "for key in v20setup['info'].keys():\n",
    "    print(key, v20setup['info'][key])\n",
    "print('==============================')\n",
    "for key in v20setup['choppers'].keys():\n",
    "    print(f\"{key}:\")\n",
    "    print(f\"frequency {v20setup['choppers'][key].frequency}\")\n",
    "    print(f\"openings {v20setup['choppers'][key].openings}\")\n",
    "    print(f\"omega {v20setup['choppers'][key].omega}\")\n",
    "    print(f\"distance {v20setup['choppers'][key].distance}\")\n",
    "    print(f\"phase {v20setup['choppers'][key].phase}\")\n",
    "    print(f\"name {v20setup['choppers'][key].name}\\n\")"
   ]
  },
  {
   "cell_type": "markdown",
   "metadata": {},
   "source": [
    "#### Perform stitching"
   ]
  },
  {
   "cell_type": "code",
   "execution_count": null,
   "metadata": {},
   "outputs": [],
   "source": [
    "# Get WFM frame parameters and generate TOF diagram\n",
    "frames = wfm.get_frames(instrument=v20setup, plot=True)"
   ]
  },
  {
   "cell_type": "code",
   "execution_count": null,
   "metadata": {
    "scrolled": true,
    "slideshow": {
     "slide_type": "subslide"
    }
   },
   "outputs": [],
   "source": [
    "# Plot frame locations onto raw data\n",
    "fig2, ax2 = plt.subplots()\n",
    "ax2.plot(xaxis_mcstas, np.sum(data2d_mcstas, axis=0))\n",
    "ax2.set_title('McStas - frame boundaries for stitching')\n",
    "\n",
    "for gap in frames['DENEX'][\"gaps\"]:\n",
    "    ax2.axvline(x=gap, linestyle='--', color='r')\n",
    "    \n",
    "ax2.grid()"
   ]
  },
  {
   "cell_type": "code",
   "execution_count": null,
   "metadata": {
    "slideshow": {
     "slide_type": "subslide"
    }
   },
   "outputs": [],
   "source": [
    "# Stitch the 2d histogram\n",
    "mcstas_stitched = wfm.stitch(x=xaxis_mcstas, y=data2d_mcstas, frames=frames['DENEX'])"
   ]
  },
  {
   "cell_type": "code",
   "execution_count": null,
   "metadata": {
    "scrolled": true,
    "slideshow": {
     "slide_type": "subslide"
    }
   },
   "outputs": [],
   "source": [
    "fig3, ax3 = plt.subplots(2, 1, constrained_layout=True, sharex=True)\n",
    "cont3 = ax3[0].contourf(xaxis_mcstas, yaxis_mcstas, mcstas_stitched, cmap=colormap)\n",
    "cbar3 = fig3.colorbar(cont3, ax=[ax3[0]], location='right')\n",
    "ax3[0].set_title('McStas - Stitched data')\n",
    "ax3[1].plot(xaxis_mcstas, np.sum(mcstas_stitched, axis=0))\n",
    "ax3[1].grid()"
   ]
  },
  {
   "cell_type": "code",
   "execution_count": null,
   "metadata": {
    "scrolled": true
   },
   "outputs": [],
   "source": [
    "# 1D slices of initial data\n",
    "# function to be updated when changing the value to calculate the projection\n",
    "def plots_for_projection_stitched(index_selected):\n",
    "    \"\"\" Plot 2D and 1D projection for user-specified range of y-values\"\"\"\n",
    "    CS = ax_stitched1d[0].contourf(xaxis_mcstas, yaxis_mcstas, mcstas_stitched, cmap=colormap)\n",
    "    ax_stitched1d[0].hlines(yaxis_mcstas[index_selected], min(xaxis_mcstas), max(xaxis_mcstas), 'orange')\n",
    "    \n",
    "    # calculate projection\n",
    "    ax_stitched1d[1].grid()\n",
    "    ax_stitched1d[1].set_xlim(min(xaxis_mcstas), max(xaxis_mcstas))\n",
    "    ax_stitched1d[1].set_ylim(np.min(mcstas_stitched), np.max(mcstas_stitched))\n",
    "    \n",
    "    line_mcstas, = ax_stitched1d[1].plot(xaxis_mcstas, mcstas_stitched[index_selected,:])\n",
    "    fig_stitched1d.colorbar(CS, ax=[ax_stitched1d[0]], location='right')\n",
    "    fig_stitched1d.canvas.draw()\n",
    "    \n",
    "style_textbox = {'description_width': 'initial'}\n",
    "\n",
    "def update_1dstitched(change):\n",
    "    ax_stitched1d[0].clear()\n",
    "    ax_stitched1d[1].clear() \n",
    "    plots_for_projection_stitched(change.new)\n",
    "\n",
    "set_selection_stitched = ipywidgets.IntSlider(\n",
    "    value=0,\n",
    "    min=0,\n",
    "    max=len(yaxis_mcstas)-1,\n",
    "    step=1,\n",
    "    description='Index:',\n",
    "    disabled=False,\n",
    "    continuous_update=False,\n",
    "    orientation='horizontal',\n",
    "    readout_format='d',\n",
    "    style=style_textbox,\n",
    "    layout = ipywidgets.Layout(width='400px')\n",
    ")\n",
    "\n",
    "fig_stitched1d, ax_stitched1d = plt.subplots(2, 1, constrained_layout=True, sharex=True)\n",
    "fig_stitched1d.canvas.header_visible = False\n",
    "plots_for_projection_stitched(0)\n",
    "\n",
    "set_selection_stitched.observe(update_1dstitched, 'value')\n",
    "\n",
    "play_stitched = ipywidgets.Play(\n",
    "    value=0,\n",
    "    min=0,\n",
    "    max=len(yaxis_mcstas)-1,\n",
    "    step=1,\n",
    "    interval=200,\n",
    "    description=\"Press play\",\n",
    "    disabled=False\n",
    ")\n",
    "\n",
    "ipywidgets.jslink((play_stitched, 'value'), (set_selection_stitched, 'value'))\n",
    "ipywidgets.HBox([play_stitched, set_selection_stitched])"
   ]
  },
  {
   "cell_type": "markdown",
   "metadata": {},
   "source": [
    "#### Determine position and amplitude of last peak"
   ]
  },
  {
   "cell_type": "code",
   "execution_count": null,
   "metadata": {},
   "outputs": [],
   "source": [
    "idx = (np.abs(xaxis_mcstas-40000)).argmin()\n",
    "last_max_stitched = []\n",
    "pos_last_max_stitched = []\n",
    "for i in range(len(yaxis_mcstas)):\n",
    "    idx_max_stitched = np.argmax(mcstas_stitched[i, idx:])\n",
    "    last_max_stitched.append(mcstas_stitched[i, idx+idx_max_stitched]) \n",
    "    pos_last_max_stitched.append(xaxis_mcstas[idx+idx_max_stitched])"
   ]
  },
  {
   "cell_type": "markdown",
   "metadata": {},
   "source": [
    "#### Determine position and amplitude of next to last peak"
   ]
  },
  {
   "cell_type": "code",
   "execution_count": null,
   "metadata": {},
   "outputs": [],
   "source": [
    "def xminb(i):\n",
    "    return 32500 + (33500-32500)*(i)/len(yaxis_mcstas)\n",
    "\n",
    "# find next to last max\n",
    "idxM  = (np.abs(xaxis_mcstas-39000)).argmin()\n",
    "\n",
    "nlast_max_stitched = []\n",
    "pos_nlast_max_stitched = []\n",
    "\n",
    "for i in range(len(yaxis_mcstas)):\n",
    "    idxm  = (np.abs(xaxis_mcstas-xminb(i))).argmin()\n",
    "    idx_max = np.argmax(mcstas_stitched[i, idxm:idxM])\n",
    "    nlast_max_stitched.append(mcstas_stitched[i, idxm+idx_max])\n",
    "    pos_nlast_max_stitched.append(xaxis_mcstas[idxm+idx_max])"
   ]
  },
  {
   "cell_type": "code",
   "execution_count": null,
   "metadata": {},
   "outputs": [],
   "source": [
    "# # fitting position of peaks\n",
    "# from scipy import optimize\n",
    "\n",
    "# # define linear fitting model\n",
    "\n",
    "# def test_func(x, a, b):\n",
    "#     return a + b * x\n",
    "\n",
    "# # initial - fit only part before jump\n",
    "# params_ini, params_cov_ini = optimize.curve_fit(test_func, np.arange(266), \n",
    "#                                                 pos_last_max[:266],\n",
    "#                                                 p0=[2, 2])\n",
    "# # stitched\n",
    "# params_stitched, params_cov_stitched = optimize.curve_fit(test_func, \n",
    "#                                                           np.arange(len(pos_last_max_stitched)),\n",
    "#                                                           pos_last_max_stitched,\n",
    "#                                                           p0=[2, 2])\n",
    "\n",
    "# print(f\"Fitting results for ini: {params_ini} and stitched {params_stitched}\")"
   ]
  },
  {
   "cell_type": "markdown",
   "metadata": {},
   "source": [
    "#### Check determination of last two max for stitched data"
   ]
  },
  {
   "cell_type": "code",
   "execution_count": null,
   "metadata": {},
   "outputs": [],
   "source": [
    "# 1D slices of initial data\n",
    "# function to be updated when changing the value to calculate the projection\n",
    "def plots_for_projection_stitched(index_selected):\n",
    "    \"\"\" Plot 2D and 1D projection for user-specified range of y-values\"\"\"\n",
    "    CS = ax_stitched1d[0].contourf(xaxis_mcstas, yaxis_mcstas, mcstas_stitched, cmap=colormap)\n",
    "    ax_stitched1d[0].hlines(yaxis_mcstas[index_selected], min(xaxis_mcstas), max(xaxis_mcstas), 'orange')\n",
    "    ax_stitched1d[0].grid()\n",
    "    # calculate projection\n",
    "    ax_stitched1d[1].grid()\n",
    "    ax_stitched1d[1].set_xlim(min(xaxis_mcstas), max(xaxis_mcstas))\n",
    "    ax_stitched1d[1].set_ylim(np.min(mcstas_stitched), np.max(mcstas_stitched))\n",
    "    \n",
    "    line_mcstas, = ax_stitched1d[1].plot(xaxis_mcstas, mcstas_stitched[index_selected,:])\n",
    "    # line_mcstasini, = ax_stitched1d[1].plot(xaxis_mcstas, data2d_mcstas[index_selected,:])\n",
    "    \n",
    "    ax_stitched1d[1].plot(pos_last_max_stitched, last_max_stitched)\n",
    "    ax_stitched1d[1].plot(pos_nlast_max_stitched, nlast_max_stitched)\n",
    "    # ax_stitched1d[1].plot(pos_last_max, last_max) \n",
    "    # ax_stitched1d[1].plot(pos_nlast_max, nlast_max) \n",
    "    \n",
    "    fig_stitched1d.colorbar(CS, ax=[ax_stitched1d[0]], location='right')\n",
    "    fig_stitched1d.canvas.draw()\n",
    "    \n",
    "style_textbox = {'description_width': 'initial'}\n",
    "\n",
    "def update_1dstitched(change):\n",
    "    ax_stitched1d[0].clear()\n",
    "    ax_stitched1d[1].clear() \n",
    "    plots_for_projection_stitched(change.new)\n",
    "\n",
    "set_selection_stitched = ipywidgets.IntSlider(\n",
    "    value=0,\n",
    "    min=0, max=len(yaxis_mcstas)-1, step=1,\n",
    "    description='Index:',\n",
    "    continuous_update=False,\n",
    "    orientation='horizontal',\n",
    "    readout_format='d',\n",
    "    style=style_textbox,\n",
    "    layout = ipywidgets.Layout(width='400px'))\n",
    "\n",
    "fig_stitched1d, ax_stitched1d = plt.subplots(2, 1, constrained_layout=True, sharex=True)\n",
    "fig_stitched1d.canvas.header_visible = False\n",
    "plots_for_projection_stitched(0)\n",
    "\n",
    "set_selection_stitched.observe(update_1dstitched, 'value')\n",
    "set_selection_stitched"
   ]
  },
  {
   "cell_type": "markdown",
   "metadata": {},
   "source": [
    "### Comparison of amplitudes and positions of last two peaks for initial and stitched data"
   ]
  },
  {
   "cell_type": "code",
   "execution_count": null,
   "metadata": {},
   "outputs": [],
   "source": [
    "# plot amplitude and position of last peak for initial and stitched McStas data\n",
    "fig_max, ax_max = plt.subplots(2, 1, sharex=True)\n",
    "fig_max.suptitle('Amplitude and position of last peak for initial and stitched McStas data')\n",
    "ax_max[0].plot(last_max, label='ini')\n",
    "ax_max[0].plot(last_max_stitched, label='stitched')\n",
    "ax_max[0].set_ylabel('amplitude of last peak')\n",
    "ax_max[0].grid()\n",
    "ax_max[0].legend()\n",
    "\n",
    "ax_max[1].plot(pos_last_max, label='ini')\n",
    "ax_max[1].plot(pos_last_max_stitched, label='stitched')\n",
    "ax_max[1].set_ylabel('position of last peak')\n",
    "\n",
    "#ax_max[1].plot(params_ini[0]+ params_ini[1]*np.arange(266), 'r--', label='fit 1st part ini')\n",
    "#ax_max[1].plot(params_stitched[0]+ params_stitched[1]*np.arange(len(pos_last_max_stitched)), 'b--', label='fit stitched')\n",
    "ax_max[1].grid()\n",
    "ax_max[1].legend(loc=(0.7, 0.325)) \n",
    "\n",
    "ax_max[1].set_xlabel('index for 1d slice');"
   ]
  },
  {
   "cell_type": "code",
   "execution_count": null,
   "metadata": {},
   "outputs": [],
   "source": [
    "fig_max0, ax_max0 = plt.subplots(2, 1, sharex=True)\n",
    "ax_max0[0].plot(nlast_max, label='ini')\n",
    "ax_max0[0].plot(nlast_max_stitched, label='stitched')\n",
    "ax_max0[0].set_ylabel('amplitude of next to last peak')\n",
    "ax_max0[0].grid()\n",
    "fig_max0.suptitle('Amplitude and position of next to last peak for initial & stitched McStas data')\n",
    "\n",
    "ax_max0[0].legend()\n",
    "\n",
    "ax_max0[1].plot(pos_nlast_max, label='ini')\n",
    "ax_max0[1].plot(pos_nlast_max_stitched, label='stitched')\n",
    "ax_max0[1].set_ylabel('position of next to last peak')\n",
    "ax_max0[1].hlines(frames['DENEX'][\"gaps\"][-2], 0, len(pos_last_max_stitched), label='gap')\n",
    "ax_max0[1].grid()\n",
    "ax_max0[1].legend()\n",
    "\n",
    "ax_max0[1].set_xlabel('index');"
   ]
  },
  {
   "cell_type": "code",
   "execution_count": null,
   "metadata": {
    "scrolled": true,
    "slideshow": {
     "slide_type": "subslide"
    }
   },
   "outputs": [],
   "source": [
    "fig4, ax4 = plt.subplots(1, 2, constrained_layout=True)\n",
    "fig4.suptitle('McStas')\n",
    "ax4[0].contourf(xaxis_mcstas, yaxis_mcstas, data2d_mcstas, cmap=colormap)\n",
    "ax4[0].set_title('Raw data')\n",
    "\n",
    "ax4[1].set_title('Stitched data')\n",
    "ax4[1].contourf(xaxis_mcstas, yaxis_mcstas, mcstas_stitched, cmap=colormap);"
   ]
  },
  {
   "cell_type": "markdown",
   "metadata": {
    "slideshow": {
     "slide_type": "slide"
    }
   },
   "source": [
    "## ROOT file"
   ]
  },
  {
   "cell_type": "code",
   "execution_count": null,
   "metadata": {
    "slideshow": {
     "slide_type": "subslide"
    }
   },
   "outputs": [],
   "source": [
    "# ROOT file\n",
    "assert os.path.isdir(dataconfig.data_root), \\\n",
    "    'The path to the folder which should contain ROOT files does not exist.'\n",
    "\n",
    "ROOT_file_sp3 = \"Spectrum03_DENEX006_1_18-02-05_0000.root\"\n",
    "\n",
    "path_to_root_file = os.path.join(dataconfig.data_root, ROOT_file_sp3)\n",
    "\n",
    "# Some metadata related to TOF channel for ROOT file\n",
    "tof_tick = 25e-3 # in microseconds (25 ns)"
   ]
  },
  {
   "cell_type": "code",
   "execution_count": null,
   "metadata": {
    "slideshow": {
     "slide_type": "subslide"
    }
   },
   "outputs": [],
   "source": [
    "# open a ROOT file and extract only one 2D dataset specified in selected_dataset\n",
    "# Note the vertical axis of 2D datasets is inverted\n",
    "\n",
    "key_spectrum ='Spectrum03'\n",
    "dir_with_data = 'Meas_3'\n",
    "selected_dataset = 'H_TOF,X1-X2_User_2D2_dsp_after_run_3'\n",
    "\n",
    "with uproot.open(path_to_root_file)[dir_with_data] as myFile:\n",
    "\n",
    "    for key in myFile.keys():\n",
    "        if 'BoardParam_run' in str(key):\n",
    "            myObject = myFile[key]\n",
    "            nb_xbins = int(myObject.member('fEntries'))\n",
    "                        \n",
    "            for i in range(nb_xbins):\n",
    "                if 'TOF_Time_Channel_Width' in myObject.axis(axis=0).labels()[i]:\n",
    "                    TOF_Time_Channel_Width = myObject.counts(False)[i]\n",
    "                elif 'TOF_Window_Delay_Register' in myObject.axis(axis=0).labels()[i]:\n",
    "                    TOF_Window_Delay_Register = myObject.counts(False)[i]\n",
    "                    \n",
    "                # print(f\"{myObject.axis(axis=0).labels()[i]}: {myObject.counts(False)[i]}\")\n",
    "\n",
    "        # 2D contourplot\n",
    "        if selected_dataset in str(key):\n",
    "            myObject = myFile[key]\n",
    "            data2d_root_sp3 =  np.flip(myObject.counts(False), 1).transpose()\n",
    "            # create x- and y-axis\n",
    "            xaxis = myObject.axis(axis=0).edges()[:-1]\n",
    "            yaxis = myObject.axis(axis=1).edges()[:-1]"
   ]
  },
  {
   "cell_type": "code",
   "execution_count": null,
   "metadata": {
    "slideshow": {
     "slide_type": "subslide"
    }
   },
   "outputs": [],
   "source": [
    "# Convert TOF channels to microseconds:\n",
    "# a TOF channel width is 2773 ticks and one tick is 25ns.\n",
    "# Then also add a 6.25ms delay\n",
    "\n",
    "xaxis = (xaxis * TOF_Time_Channel_Width + TOF_Window_Delay_Register) * tof_tick"
   ]
  },
  {
   "cell_type": "code",
   "execution_count": null,
   "metadata": {
    "scrolled": true,
    "slideshow": {
     "slide_type": "subslide"
    }
   },
   "outputs": [],
   "source": [
    "fig5, ax5 = plt.subplots()\n",
    "cont5 = ax5.contourf(xaxis, yaxis, data2d_root_sp3, cmap=colormap)\n",
    "ax5.set_title(ROOT_file_sp3)\n",
    "cbar5 = fig5.colorbar(cont5)"
   ]
  },
  {
   "cell_type": "markdown",
   "metadata": {},
   "source": [
    "### Stitching"
   ]
  },
  {
   "cell_type": "code",
   "execution_count": null,
   "metadata": {},
   "outputs": [],
   "source": [
    "# Get the V20 instrument chopper setup\n",
    "v20setup = wfm.v20.setup()"
   ]
  },
  {
   "cell_type": "markdown",
   "metadata": {},
   "source": [
    "#### Modifications of settings"
   ]
  },
  {
   "cell_type": "markdown",
   "metadata": {},
   "source": [
    "</div> <div class=\"alert alert-block alert-danger\"><b>TO DO: check parameters for experimental setup: choppers, detector's distance... </b>"
   ]
  },
  {
   "cell_type": "code",
   "execution_count": null,
   "metadata": {},
   "outputs": [],
   "source": [
    "position_source_chopper1 = 21.89\n",
    "position_source_chopper2 = 21.91\n",
    "avg_pos_source_choppers = 0.5 * (position_source_chopper1 + position_source_chopper2)\n",
    "print(f\"Average position of the source choppers (m): {avg_pos_source_choppers}\")\n",
    "\n",
    "# WFM1\n",
    "v20setup['choppers']['WFM1'].phase = np.deg2rad(17.1)\n",
    "\n",
    "v20setup['choppers']['WFM1'].distance = 28.57 - avg_pos_source_choppers\n",
    "\n",
    "# WFM2\n",
    "v20setup['choppers']['WFM2'].phase = np.deg2rad(46.76)\n",
    "\n",
    "v20setup['choppers']['WFM2'].distance = 28.91 - avg_pos_source_choppers\n",
    "\n",
    "# FOC1\n",
    "v20setup['choppers']['FOL1'].phase = np.deg2rad(32.4)\n",
    "\n",
    "v20setup['choppers']['FOL1'].distance = 30.5 - avg_pos_source_choppers\n",
    "\n",
    "# FOC2\n",
    "v20setup['choppers']['FOL2'].phase = np.deg2rad(342.27-360)\n",
    "\n",
    "v20setup['choppers']['FOL2'].distance = 37.6 - avg_pos_source_choppers\n",
    "\n",
    "# Change distance of detector\n",
    "v20setup['info']['detector_positions']['DENEX'] = 50.6 + 0.945 - avg_pos_source_choppers \n",
    "\n",
    "v20setup['info'][\"wfm_choppers_midpoint\"] = 0.5 * (v20setup['choppers']['WFM1'].distance + v20setup['choppers']['WFM2'].distance)\n",
    "\n",
    "print(f\"{v20setup['info']['detector_positions']['DENEX']}, {v20setup['info']['wfm_choppers_midpoint']}\")"
   ]
  },
  {
   "cell_type": "code",
   "execution_count": null,
   "metadata": {},
   "outputs": [],
   "source": [
    "print(v20setup.keys())\n",
    "print('==============================')\n",
    "for key in v20setup['info'].keys():\n",
    "    print(key, v20setup['info'][key])\n",
    "print('==============================')\n",
    "for key in v20setup['choppers'].keys():\n",
    "    print(f\"{key}:\")\n",
    "    print(f\"frequency {v20setup['choppers'][key].frequency}\")\n",
    "    print(f\"openings {v20setup['choppers'][key].openings}\")\n",
    "    print(f\"omega {v20setup['choppers'][key].omega}\")\n",
    "    print(f\"distance {v20setup['choppers'][key].distance}\")\n",
    "    print(f\"phase {v20setup['choppers'][key].phase}\")\n",
    "    print(f\"name {v20setup['choppers'][key].name}\\n\")"
   ]
  },
  {
   "cell_type": "markdown",
   "metadata": {},
   "source": [
    "#### Perform stitching"
   ]
  },
  {
   "cell_type": "code",
   "execution_count": null,
   "metadata": {},
   "outputs": [],
   "source": [
    "# Get WFM frame parameters and generate TOF diagram\n",
    "frames = wfm.get_frames(instrument=v20setup, plot=True)"
   ]
  },
  {
   "cell_type": "code",
   "execution_count": null,
   "metadata": {
    "scrolled": true,
    "slideshow": {
     "slide_type": "subslide"
    }
   },
   "outputs": [],
   "source": [
    "# Plot frame locations onto raw data\n",
    "fig6, ax6 = plt.subplots()\n",
    "ax6.plot(xaxis, np.sum(data2d_root_sp3, axis=0))\n",
    "ax6.grid()\n",
    "ax6.set_title('ROOT - frame boundaries for stitching')\n",
    "for gap in frames['DENEX'][\"gaps\"]:\n",
    "    ax6.axvline(x=gap, linestyle='--', color='r');"
   ]
  },
  {
   "cell_type": "code",
   "execution_count": null,
   "metadata": {
    "slideshow": {
     "slide_type": "subslide"
    }
   },
   "outputs": [],
   "source": [
    "# Stitch the 2d histogram\n",
    "root_stitched_sp3 = wfm.stitch(x=xaxis, y=data2d_root_sp3, frames=frames['DENEX'])"
   ]
  },
  {
   "cell_type": "code",
   "execution_count": null,
   "metadata": {
    "scrolled": false,
    "slideshow": {
     "slide_type": "subslide"
    }
   },
   "outputs": [],
   "source": [
    "fig7, ax7 = plt.subplots(2, 1, constrained_layout=True, sharex=True)\n",
    "ax7[0].set_title('Final stitched plot - ROOT Spectrum 3')\n",
    "cont7 = ax7[0].contourf(xaxis, yaxis, root_stitched_sp3, cmap=colormap)\n",
    "fig7.colorbar(cont7, ax=[ax7[0]], location='right')\n",
    "\n",
    "ax7[1].plot(xaxis, np.sum(root_stitched_sp3, axis=0))\n",
    "ax7[1].grid()"
   ]
  },
  {
   "cell_type": "code",
   "execution_count": null,
   "metadata": {
    "slideshow": {
     "slide_type": "subslide"
    }
   },
   "outputs": [],
   "source": [
    "fig8, ax8 = plt.subplots(1, 2, constrained_layout=True)\n",
    "fig8.suptitle('ROOT Spectrum 3')\n",
    "ax8[0].contourf(xaxis, yaxis, data2d_root_sp3, cmap=colormap)\n",
    "ax8[0].set_title('Raw data')\n",
    "\n",
    "ax8[1].set_title('Stitched data')\n",
    "ax8[1].contourf(xaxis, yaxis, root_stitched_sp3, cmap=colormap);"
   ]
  },
  {
   "cell_type": "markdown",
   "metadata": {},
   "source": [
    "</div> <div class=\"alert alert-block alert-danger\"><b>TO DO: settings for stitching to be updated. Below the old values are still used. </b>"
   ]
  },
  {
   "cell_type": "markdown",
   "metadata": {
    "slideshow": {
     "slide_type": "-"
    }
   },
   "source": [
    "## Spectrum 11"
   ]
  },
  {
   "cell_type": "code",
   "execution_count": null,
   "metadata": {
    "slideshow": {
     "slide_type": "-"
    }
   },
   "outputs": [],
   "source": [
    "# open a ROOT file and extract only one 2D dataset specified in selected_dataset\n",
    "# Note the vertical axis of 2D datasets is inverted\n",
    "\n",
    "ROOT_file_sp11 = \"Spectrum11_DENEX006_1_18-02-09_0001.root\"\n",
    "path_to_root_file = os.path.join(dataconfig.data_root, ROOT_file_sp11)\n",
    "key_spectrum ='Spectrum11'\n",
    "dir_with_data = 'Meas_1'\n",
    "selected_dataset = 'H_TOF,X1-X2_User_2D4_dsp_after_run_1'\n",
    "\n",
    "with uproot.open(path_to_root_file)[dir_with_data] as myFile:\n",
    "\n",
    "    for key in myFile.keys():\n",
    "        if 'BoardParam_run' in str(key):\n",
    "            myObject = myFile[key]\n",
    "            nb_xbins = int(myObject.member('fEntries'))\n",
    "                        \n",
    "            for i in range(nb_xbins):\n",
    "                if 'TOF_Time_Channel_Width' in myObject.axis(axis=0).labels()[i]:\n",
    "                    TOF_Time_Channel_Width = myObject.counts(False)[i]\n",
    "                elif 'TOF_Window_Delay_Register' in myObject.axis(axis=0).labels()[i]:\n",
    "                    TOF_Window_Delay_Register = myObject.counts(False)[i]  \n",
    "                # print(f\"{myObject.axis(axis=0).labels()[i]}: {myObject.counts(False)[i]}\")\n",
    "\n",
    "        # 2D contourplot\n",
    "        if selected_dataset in str(key):\n",
    "            data2d_root_sp11 =  np.flip(myFile[key].counts(False), 1).transpose()\n",
    "            # create x- and y-axis\n",
    "            xaxis = myFile[key].axis(axis=0).edges()[:-1]\n",
    "            yaxis = myFile[key].axis(axis=1).edges()[:-1]"
   ]
  },
  {
   "cell_type": "code",
   "execution_count": null,
   "metadata": {
    "slideshow": {
     "slide_type": "-"
    }
   },
   "outputs": [],
   "source": [
    "# Convert TOF channels to microseconds:\n",
    "# a TOF channel width is 2773 ticks and one tick is 25ns.\n",
    "# Then also add a 6.25ms delay\n",
    "xaxis = (xaxis * TOF_Time_Channel_Width + TOF_Window_Delay_Register) * tof_tick"
   ]
  },
  {
   "cell_type": "code",
   "execution_count": null,
   "metadata": {
    "scrolled": false,
    "slideshow": {
     "slide_type": "-"
    }
   },
   "outputs": [],
   "source": [
    "fig9, ax9 = plt.subplots()\n",
    "cont9 = ax9.contourf(xaxis, yaxis, data2d_root_sp11, cmap=colormap)\n",
    "ax9.set_title(ROOT_file_sp11)\n",
    "cbar9 = fig9.colorbar(cont9)"
   ]
  },
  {
   "cell_type": "code",
   "execution_count": null,
   "metadata": {
    "scrolled": true,
    "slideshow": {
     "slide_type": "-"
    }
   },
   "outputs": [],
   "source": [
    "# Note I had to change the distance to the detector again from 30.5 -> 30.0\n",
    "v20setup[\"info\"][\"detector_position\"] = 30.0\n",
    "# Get WFM frame parameters and generate TOF diagram\n",
    "frames = wfm.get_frames(instrument=v20setup, plot=True)"
   ]
  },
  {
   "cell_type": "code",
   "execution_count": null,
   "metadata": {
    "slideshow": {
     "slide_type": "-"
    }
   },
   "outputs": [],
   "source": [
    "# Plot frame locations onto raw data\n",
    "fig10, ax10 = plt.subplots()\n",
    "ax10.plot(xaxis, np.sum(data2d_root_sp11, axis=0))\n",
    "ax10.grid()\n",
    "ax10.set_title('ROOT Spectrum11 - frame boundaries for stitching')\n",
    "for gap in frames['DENEX']['gaps']:\n",
    "    ax10.axvline(x=gap, linestyle='--', color='r');"
   ]
  },
  {
   "cell_type": "code",
   "execution_count": null,
   "metadata": {
    "slideshow": {
     "slide_type": "-"
    }
   },
   "outputs": [],
   "source": [
    "# Stitch the 2d histogram\n",
    "root_stitched_sp11 = wfm.stitch(x=xaxis, y=data2d_root_sp11, frames=frames['DENEX'])"
   ]
  },
  {
   "cell_type": "code",
   "execution_count": null,
   "metadata": {
    "scrolled": true,
    "slideshow": {
     "slide_type": "-"
    }
   },
   "outputs": [],
   "source": [
    "fig11, ax11 = plt.subplots(2, 1, constrained_layout=True, sharex=True)\n",
    "ax11[0].set_title('Final stitched plot - ROOT Spectrum 11')\n",
    "cont11 = ax11[0].contourf(xaxis, yaxis, root_stitched_sp11, cmap=colormap)\n",
    "fig11.colorbar(cont11, ax=[ax11[0]], location='right')\n",
    "ax11[1].plot(xaxis, np.sum(root_stitched_sp11, axis=0))\n",
    "ax11[1].grid()"
   ]
  },
  {
   "cell_type": "code",
   "execution_count": null,
   "metadata": {
    "scrolled": false
   },
   "outputs": [],
   "source": [
    "fig12, ax12 = plt.subplots(1, 2, constrained_layout=True)\n",
    "fig12.suptitle('ROOT Spectrum 11')\n",
    "ax12[0].contourf(xaxis, yaxis, data2d_root_sp11, cmap=colormap)\n",
    "ax12[0].set_title('Raw data')\n",
    "\n",
    "ax12[1].set_title('Stitched data')\n",
    "ax12[1].contourf(xaxis, yaxis, root_stitched_sp11, cmap=colormap)"
   ]
  },
  {
   "cell_type": "markdown",
   "metadata": {
    "slideshow": {
     "slide_type": "-"
    }
   },
   "source": [
    "## Spectrum 12"
   ]
  },
  {
   "cell_type": "code",
   "execution_count": null,
   "metadata": {
    "slideshow": {
     "slide_type": "-"
    }
   },
   "outputs": [],
   "source": [
    "# open a ROOT file and extract only one 2D dataset specified in selected_dataset\n",
    "# Note the vertical axis of 2D datasets is inverted\n",
    "\n",
    "ROOT_file_sp12 = 'Spectrum12_DENEX006_1_18-02-10_0000.root'\n",
    "path_to_root_file = os.path.join(dataconfig.data_root, ROOT_file_sp12)\n",
    "key_spectrum ='Spectrum12'\n",
    "dir_with_data = 'Meas_1'\n",
    "selected_dataset = 'H_TOF,X1-X2_User_2D4_dsp_after_run_1'\n",
    "\n",
    "with uproot.open(path_to_root_file)[dir_with_data] as myFile:\n",
    "\n",
    "    for key in myFile.keys():\n",
    "        if 'BoardParam_run' in str(key):\n",
    "            myObject = myFile[key]\n",
    "            nb_xbins = int(myObject.member('fEntries'))\n",
    "                        \n",
    "            for i in range(nb_xbins):\n",
    "                if 'TOF_Time_Channel_Width' in myObject.axis(axis=0).labels()[i]:\n",
    "                    TOF_Time_Channel_Width = myObject.counts(False)[i]\n",
    "                elif 'TOF_Window_Delay_Register' in myObject.axis(axis=0).labels()[i]:\n",
    "                    TOF_Window_Delay_Register = myObject.counts(False)[i]  \n",
    "                # print(f\"{myObject.axis(axis=0).labels()[i]}: {myObject.counts(False)[i]}\")\n",
    "\n",
    "        # 2D contourplot\n",
    "        if selected_dataset in str(key):\n",
    "            data2d_root_sp12 =  np.flip(myFile[key].counts(False), 1).transpose()\n",
    "            # create x- and y-axis\n",
    "            xaxis = myFile[key].axis(axis=0).edges()[:-1]\n",
    "            yaxis = myFile[key].axis(axis=1).edges()[:-1]"
   ]
  },
  {
   "cell_type": "code",
   "execution_count": null,
   "metadata": {
    "slideshow": {
     "slide_type": "-"
    }
   },
   "outputs": [],
   "source": [
    "# Convert TOF channels to microseconds:\n",
    "# a TOF channel width is 2773 ticks and one tick is 25ns.\n",
    "# Then also add a 6.25ms delay\n",
    "xaxis = (xaxis * TOF_Time_Channel_Width + TOF_Window_Delay_Register) * tof_tick"
   ]
  },
  {
   "cell_type": "code",
   "execution_count": null,
   "metadata": {
    "slideshow": {
     "slide_type": "-"
    }
   },
   "outputs": [],
   "source": [
    "fig13, ax13 = plt.subplots()\n",
    "cont13 = ax13.contourf(xaxis, yaxis, data2d_root_sp12, cmap=colormap)\n",
    "ax13.set_title(ROOT_file_sp12)\n",
    "cbar13 = fig13.colorbar(cont13)"
   ]
  },
  {
   "cell_type": "code",
   "execution_count": null,
   "metadata": {
    "slideshow": {
     "slide_type": "-"
    }
   },
   "outputs": [],
   "source": [
    "# Note I had to change the distance to the detector again from 30.5 -> 30.0\n",
    "v20setup[\"info\"][\"detector_position\"] = 30.0\n",
    "# Get WFM frame parameters and generate TOF diagram\n",
    "frames = wfm.get_frames(instrument=v20setup, plot=True)"
   ]
  },
  {
   "cell_type": "code",
   "execution_count": null,
   "metadata": {
    "slideshow": {
     "slide_type": "-"
    }
   },
   "outputs": [],
   "source": [
    "# Plot frame locations onto raw data\n",
    "fig14, ax14 = plt.subplots()\n",
    "ax14.plot(xaxis, np.sum(data2d_root_sp12, axis=0))\n",
    "ax14.grid()\n",
    "ax14.set_title('ROOT - frame boundaries for stitching')\n",
    "for gap in frames['DENEX']['gaps']:\n",
    "    ax14.axvline(x=gap, linestyle='--', color='r')"
   ]
  },
  {
   "cell_type": "code",
   "execution_count": null,
   "metadata": {
    "slideshow": {
     "slide_type": "-"
    }
   },
   "outputs": [],
   "source": [
    "# Stitch the 2d histogram\n",
    "root_stitched_sp12 = wfm.stitch(x=xaxis, \n",
    "                                y=data2d_root_sp12, \n",
    "                                frames=frames['DENEX'])"
   ]
  },
  {
   "cell_type": "code",
   "execution_count": null,
   "metadata": {
    "slideshow": {
     "slide_type": "-"
    }
   },
   "outputs": [],
   "source": [
    "fig15, ax15 = plt.subplots(2, 1, constrained_layout=True, sharex=True)\n",
    "ax15[0].set_title('Final stitched plot - ROOT Spectrum 12')\n",
    "cont15 = ax15[0].contourf(xaxis, yaxis, root_stitched_sp12, cmap=colormap)\n",
    "fig15.colorbar(cont15, ax=[ax15[0]], location='right')\n",
    "ax15[1].plot(xaxis, np.sum(root_stitched_sp12, axis=0))\n",
    "ax15[1].grid()"
   ]
  },
  {
   "cell_type": "code",
   "execution_count": null,
   "metadata": {
    "scrolled": true,
    "slideshow": {
     "slide_type": "-"
    }
   },
   "outputs": [],
   "source": [
    "fig16, ax16 = plt.subplots(1, 2, constrained_layout=True)\n",
    "fig16.suptitle('ROOT Spectrum 12')\n",
    "ax16[0].contourf(xaxis, yaxis, data2d_root_sp12, cmap=colormap)\n",
    "ax16[0].set_title('Raw data')\n",
    "\n",
    "ax16[1].set_title('Stitched data')\n",
    "ax16[1].contourf(xaxis, yaxis, root_stitched_sp12, cmap=colormap);"
   ]
  },
  {
   "cell_type": "code",
   "execution_count": null,
   "metadata": {},
   "outputs": [],
   "source": []
  }
 ],
 "metadata": {
  "hide_input": false,
  "kernelspec": {
   "display_name": "Python 3",
   "language": "python",
   "name": "python3"
  },
  "language_info": {
   "codemirror_mode": {
    "name": "ipython",
    "version": 3
   },
   "file_extension": ".py",
   "mimetype": "text/x-python",
   "name": "python",
   "nbconvert_exporter": "python",
   "pygments_lexer": "ipython3",
   "version": "3.9.1"
  },
  "rise": {
   "scroll": true,
   "start_slideshow_at": "beginning"
  },
  "toc": {
   "base_numbering": 1,
   "nav_menu": {},
   "number_sections": true,
   "sideBar": true,
   "skip_h1_title": false,
   "title_cell": "Table of Contents",
   "title_sidebar": "Contents",
   "toc_cell": false,
   "toc_position": {},
   "toc_section_display": true,
   "toc_window_display": false
  },
  "varInspector": {
   "cols": {
    "lenName": 16,
    "lenType": 16,
    "lenVar": 40
   },
   "kernels_config": {
    "python": {
     "delete_cmd_postfix": "",
     "delete_cmd_prefix": "del ",
     "library": "var_list.py",
     "varRefreshCmd": "print(var_dic_list())"
    },
    "r": {
     "delete_cmd_postfix": ") ",
     "delete_cmd_prefix": "rm(",
     "library": "var_list.r",
     "varRefreshCmd": "cat(var_dic_list()) "
    }
   },
   "types_to_exclude": [
    "module",
    "function",
    "builtin_function_or_method",
    "instance",
    "_Feature"
   ],
   "window_display": false
  }
 },
 "nbformat": 4,
 "nbformat_minor": 4
}
