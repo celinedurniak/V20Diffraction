{
 "cells": [
  {
   "cell_type": "markdown",
   "metadata": {
    "slideshow": {
     "slide_type": "-"
    }
   },
   "source": [
    "# Projection of 2D ROOT data into 1D slice\n",
    "Comparison of 1D slices of ROOT and McStas data\n",
    "## Import libraries"
   ]
  },
  {
   "cell_type": "code",
   "execution_count": null,
   "metadata": {
    "slideshow": {
     "slide_type": "-"
    }
   },
   "outputs": [],
   "source": [
    "import uproot\n",
    "import os\n",
    "import numpy as np\n",
    "import scipp as sc\n",
    "import plopp as pp\n",
    "import ipywidgets\n",
    "import dataconfig  # to get paths to data\n",
    "\n",
    "%matplotlib widget"
   ]
  },
  {
   "cell_type": "markdown",
   "metadata": {
    "slideshow": {
     "slide_type": "-"
    }
   },
   "source": [
    "## Import 2D McStas data"
   ]
  },
  {
   "cell_type": "code",
   "execution_count": null,
   "metadata": {
    "slideshow": {
     "slide_type": "-"
    }
   },
   "outputs": [],
   "source": [
    "path_to_mcstas2D_file = os.path.join(dataconfig.data_mcstas, 'monitor_tx_DENEX.dat')\n",
    "\n",
    "assert os.path.isfile(path_to_mcstas2D_file), \\\n",
    "    'There is an issue with the chosen McStas output datafile'\n",
    "\n",
    "# Extract shape of output data\n",
    "# these values will be used to determine how many lines to read one array\n",
    "with open(path_to_mcstas2D_file, 'r') as file:\n",
    "    for line in file:\n",
    "        if \"array_2d\" in line:\n",
    "            type_array = line.rstrip()\n",
    "            start = type_array.find('(') + 1\n",
    "            end = type_array.find(')', start)\n",
    "            nx_value, ny_value = map(int, type_array[start:end].split(','))\n",
    "        if \"xylimits\" in line:\n",
    "            xmin, xmax,  ymin, ymax = np.array(line.split(':')[1].split()).astype(float)\n",
    "\n",
    "print(f'Limits of x- and y-axis: {xmin}, {xmax}, {ymin}, {ymax}\\nNumber of points: nx={nx_value}, ny={ny_value}')"
   ]
  },
  {
   "cell_type": "code",
   "execution_count": null,
   "metadata": {
    "slideshow": {
     "slide_type": "-"
    }
   },
   "outputs": [],
   "source": [
    "data2d = np.genfromtxt(path_to_mcstas2D_file, max_rows=ny_value)\n",
    "\n",
    "#flip data along y axis \n",
    "# data2d_mcstas = np.flip(data2d, 0)\n",
    "\n",
    "da_mcstas = sc.DataArray(data=sc.array(dims=['x', 'tof'], values=np.flip(data2d, 0)),\n",
    "                          coords={'tof': sc.linspace('tof', xmin, xmax, num=nx_value, unit='s'),\n",
    "                                  'x': sc.linspace('x', ymin, ymax, num=ny_value, unit='m')})"
   ]
  },
  {
   "cell_type": "code",
   "execution_count": null,
   "metadata": {},
   "outputs": [],
   "source": [
    "pp.plot(da_mcstas, title='monitor_tx_DENEX.dat')"
   ]
  },
  {
   "cell_type": "markdown",
   "metadata": {},
   "source": [
    "## Select spatial range of McStas data"
   ]
  },
  {
   "cell_type": "code",
   "execution_count": null,
   "metadata": {},
   "outputs": [],
   "source": [
    "ydim = 'x'\n",
    "\n",
    "def add_mask(da, trunc_range):\n",
    "    min_tr, max_tr = trunc_range  \n",
    "    \n",
    "    out = da.copy(deep=False)\n",
    "    if ydim in out.masks:\n",
    "        del out.masks[ydim]\n",
    "    out.masks[ydim] = ((out.coords[ydim] > out.coords[ydim][max_tr]) | (out.coords[ydim] < out.coords[ydim][min_tr]))\n",
    "    return out\n",
    "\n",
    "in_node = pp.input_node(da_mcstas)\n",
    "in_node.name = 'Input node'\n",
    "\n",
    "# slider\n",
    "max_slider = da_mcstas.sizes[ydim]\n",
    "slider = ipywidgets.IntRangeSlider(value=[0, max_slider-1],\n",
    "                                   min=0, \n",
    "                                   max=max_slider-1,\n",
    "                                   description='x indices')\n",
    "\n",
    "slider_node = pp.widget_node(slider)\n",
    "slider_node.name = 'Slider node'\n",
    "\n",
    "# add mask\n",
    "add_mask_node = pp.node(add_mask)(in_node, trunc_range=slider_node)\n",
    "add_mask_node.name = 'Show masks'\n",
    "\n",
    "fig = pp.figure2d(add_mask_node, title='McStas')\n",
    "\n",
    "sum_node = pp.node(sc.sum, dim=ydim)(add_mask_node)\n",
    "sum_node.name = 'Sum'\n",
    "\n",
    "fig1d = pp.figure1d(sum_node, grid=True, linestyle='solid', marker='')\n",
    "ipywidgets.VBox([slider, fig, fig1d])"
   ]
  },
  {
   "cell_type": "markdown",
   "metadata": {
    "slideshow": {
     "slide_type": "-"
    }
   },
   "source": [
    "## Import ROOT data"
   ]
  },
  {
   "cell_type": "code",
   "execution_count": null,
   "metadata": {
    "slideshow": {
     "slide_type": "-"
    }
   },
   "outputs": [],
   "source": [
    "assert os.path.exists(dataconfig.data_root), 'The path does not exist.'\n",
    "\n",
    "ROOTfile = 'Spectrum03_DENEX006_1_18-02-05_0000.root'\n",
    "\n",
    "dir_with_data = 'Meas_3'\n",
    "\n",
    "data_to_plot = 'H_TOF,X1-X2_User_2D2_dsp_after_run_3'\n",
    "\n",
    "file_to_open = os.path.join(dataconfig.data_root, ROOTfile)\n",
    "\n",
    "assert os.path.isfile(file_to_open), 'There is an issue with the file to be opened.'\n",
    "\n",
    "# Some metadata related to TOF channel for ROOT file\n",
    "tof_tick = 25e-6 # in milliseconds (25 ns)"
   ]
  },
  {
   "cell_type": "code",
   "execution_count": null,
   "metadata": {
    "slideshow": {
     "slide_type": "-"
    }
   },
   "outputs": [],
   "source": [
    "with uproot.open(file_to_open)[dir_with_data] as myFile:\n",
    "    for key in myFile.keys():\n",
    "        if 'BoardParam_run' in str(key):\n",
    "            myObject = myFile[key]\n",
    "            nb_xbins = int(myObject.member('fEntries'))\n",
    "                        \n",
    "            for i in range(nb_xbins):\n",
    "                if 'TOF_Time_Channel_Width' in myObject.axis(axis=0).labels()[i]:\n",
    "                    TOF_Time_Channel_Width = myObject.counts(False)[i]\n",
    "                elif 'TOF_Window_Delay_Register' in myObject.axis(axis=0).labels()[i]:\n",
    "                    TOF_Window_Delay_Register = myObject.counts(False)[i]\n",
    "                \n",
    "        # 2D contourplot\n",
    "        if data_to_plot in str(key):  \n",
    "            # x_max, x_min, y_max, y_min defined from .root file\n",
    "            xaxis_root = myFile[key].axis(axis=0).edges()[:-1]\n",
    "            yaxis_root = myFile[key].axis(axis=1).edges()[:-1]\n",
    "            \n",
    "            x_min_root = min(xaxis_root)  \n",
    "            x_max_root = max(xaxis_root)  \n",
    "            y_min_root = min(yaxis_root) \n",
    "            y_max_root = max(yaxis_root)  \n",
    "        \n",
    "            # fill 2d matrice with inverted y-axis\n",
    "            data2d_root =  np.flip(myFile[key].counts(False), 1)"
   ]
  },
  {
   "cell_type": "code",
   "execution_count": null,
   "metadata": {},
   "outputs": [],
   "source": [
    "da_root = sc.DataArray(data=sc.array(dims=['x', 'tof'], values=data2d_root.transpose().astype('float64')),\n",
    "                      coords={\n",
    "                      'tof': sc.array(dims=['tof'], values=xaxis_root),\n",
    "                      'x': sc.array(dims=['x'], values=yaxis_root)})\n",
    "da_root"
   ]
  },
  {
   "cell_type": "code",
   "execution_count": null,
   "metadata": {},
   "outputs": [],
   "source": [
    "pp.plot(da_root, title='ROOT')"
   ]
  },
  {
   "cell_type": "code",
   "execution_count": null,
   "metadata": {},
   "outputs": [],
   "source": [
    "ydim = 'x'\n",
    "\n",
    "def add_mask(da, trunc_range):\n",
    "    min_tr, max_tr = trunc_range  \n",
    "    \n",
    "    out = da.copy(deep=False)\n",
    "    if ydim in out.masks:\n",
    "        del out.masks[ydim]\n",
    "    out.masks[ydim] = ((out.coords[ydim] > out.coords[ydim][max_tr]) | (out.coords[ydim] < out.coords[ydim][min_tr]))\n",
    "    return out\n",
    "\n",
    "in_node = pp.input_node(da_root)\n",
    "in_node.name = 'Input node'\n",
    "\n",
    "# slider\n",
    "max_slider = da_root.sizes[ydim]\n",
    "slider = ipywidgets.IntRangeSlider(value=[0, max_slider-1],\n",
    "                                   min=0, \n",
    "                                   max=max_slider-1,\n",
    "                                   description='x indices')\n",
    "\n",
    "slider_node = pp.widget_node(slider)\n",
    "slider_node.name = 'Slider node'\n",
    "\n",
    "# add mask\n",
    "add_mask_node = pp.node(add_mask)(in_node, trunc_range=slider_node)\n",
    "add_mask_node.name = 'Show masks'\n",
    "\n",
    "fig = pp.figure2d(add_mask_node)\n",
    "\n",
    "sum_node = pp.node(sc.sum, dim=ydim)(add_mask_node)\n",
    "sum_node.name = 'Sum'\n",
    "\n",
    "fig1d = pp.figure1d(sum_node, grid=True, linestyle='solid', marker='')\n",
    "ipywidgets.VBox([slider, fig, fig1d])"
   ]
  },
  {
   "cell_type": "markdown",
   "metadata": {
    "slideshow": {
     "slide_type": "-"
    }
   },
   "source": [
    "## Creating and comparing 1D projections of ROOT and McStas data\n",
    "\n",
    "### Rescale TOF for ROOT data\n",
    "Use metadata of ROOT file to add units and offset to the x-axis"
   ]
  },
  {
   "cell_type": "code",
   "execution_count": null,
   "metadata": {
    "slideshow": {
     "slide_type": "-"
    }
   },
   "outputs": [],
   "source": [
    "xaxis_root_rescaled = (xaxis_root * TOF_Time_Channel_Width + TOF_Window_Delay_Register) * tof_tick \n",
    "\n",
    "da_root_rescaled = da_root.copy()\n",
    "da_root_rescaled.coords['tof'] = sc.array(\n",
    "    dims=['tof'], \n",
    "    values=xaxis_root_rescaled/1000, \n",
    "    unit=sc.Unit('s')\n",
    ")\n",
    "da_root_rescaled"
   ]
  },
  {
   "cell_type": "markdown",
   "metadata": {},
   "source": [
    "### Rescale counts for ROOT"
   ]
  },
  {
   "cell_type": "code",
   "execution_count": null,
   "metadata": {},
   "outputs": [],
   "source": [
    "da_root_rescaled /= da_root.max()\n",
    "da_root_rescaled"
   ]
  },
  {
   "cell_type": "markdown",
   "metadata": {},
   "source": [
    "### Rescale counts for McStas "
   ]
  },
  {
   "cell_type": "code",
   "execution_count": null,
   "metadata": {},
   "outputs": [],
   "source": [
    "da_mcstas_rescaled = da_mcstas.copy()\n",
    "da_mcstas_rescaled /= da_mcstas.max()"
   ]
  },
  {
   "cell_type": "markdown",
   "metadata": {},
   "source": [
    "## Compare ROOT and McStas 1D profile"
   ]
  },
  {
   "cell_type": "code",
   "execution_count": null,
   "metadata": {},
   "outputs": [],
   "source": [
    "in_nodem = pp.input_node(da_mcstas_rescaled)\n",
    "in_nodem.name = 'Input node mcstas'\n",
    "\n",
    "in_noder = pp.input_node(da_root_rescaled)\n",
    "in_noder.name = 'Input node root'\n",
    "\n",
    "# sliders\n",
    "max_sliderm = da_mcstas_rescaled.sizes[ydim]\n",
    "slider_mcstas = ipywidgets.IntRangeSlider(value=[0, max_sliderm-1],\n",
    "                                   min=0, \n",
    "                                   max=max_sliderm-1,\n",
    "                                   description='McStas index boundaries')\n",
    "\n",
    "max_sliderr = da_root_rescaled.sizes[ydim]\n",
    "slider_root = ipywidgets.IntRangeSlider(value=[0, max_sliderr-1],\n",
    "                                   min=0, \n",
    "                                   max=max_sliderr-1,\n",
    "                                   description='ROOT index boundaries')\n",
    "\n",
    "slider_nodem = pp.widget_node(slider_mcstas)\n",
    "slider_nodem.name = 'Slider node mcstas'\n",
    "\n",
    "slider_noder = pp.widget_node(slider_root)\n",
    "slider_noder.name = 'Slider node root'\n",
    "\n",
    "# add mask\n",
    "add_mask_nodem = pp.node(add_mask)(in_nodem, trunc_range=slider_nodem)\n",
    "add_mask_nodem.name = 'Show masks mcstas'\n",
    "\n",
    "add_mask_noder = pp.node(add_mask)(in_noder, trunc_range=slider_noder)\n",
    "add_mask_noder.name = 'Show masks root'\n",
    "\n",
    "fig_mcstas = pp.figure2d(add_mask_nodem)\n",
    "\n",
    "fig_root = pp.figure2d(add_mask_noder)\n",
    "\n",
    "# sum\n",
    "sum_nodem = pp.node(sc.sum, dim=ydim)(add_mask_nodem)\n",
    "sum_nodem.name = 'Sum mcstas'\n",
    "\n",
    "sum_noder = pp.node(sc.sum, dim=ydim)(add_mask_noder)\n",
    "sum_noder.name = 'Sum root'\n",
    "\n",
    "# # fig1d = pp.figure1d({'root': sum_noder, 'mcstas': sum_nodem}, linestyle='solid', marker='')\n",
    "fig1d = pp.figure1d(sum_noder, sum_nodem, linestyle='solid', marker='', grid=True)\n",
    "\n",
    "slider_fig_mcstas = ipywidgets.VBox([slider_mcstas, fig_mcstas])\n",
    "slider_fig_root = ipywidgets.VBox([slider_root, fig_root])\n",
    "\n",
    "ipywidgets.VBox([ipywidgets.HBox([slider_fig_mcstas, slider_fig_root]), fig1d])"
   ]
  },
  {
   "cell_type": "code",
   "execution_count": null,
   "metadata": {},
   "outputs": [],
   "source": []
  }
 ],
 "metadata": {
  "hide_input": false,
  "kernelspec": {
   "display_name": "Python 3 (ipykernel)",
   "language": "python",
   "name": "python3"
  },
  "language_info": {
   "codemirror_mode": {
    "name": "ipython",
    "version": 3
   },
   "file_extension": ".py",
   "mimetype": "text/x-python",
   "name": "python",
   "nbconvert_exporter": "python",
   "pygments_lexer": "ipython3",
   "version": "3.9.13"
  },
  "rise": {
   "height": "90%",
   "scroll": true,
   "start_slideshow_at": "beginning",
   "width": "90%"
  },
  "toc": {
   "base_numbering": 1,
   "nav_menu": {},
   "number_sections": true,
   "sideBar": true,
   "skip_h1_title": false,
   "title_cell": "Table of Contents",
   "title_sidebar": "Contents",
   "toc_cell": false,
   "toc_position": {},
   "toc_section_display": true,
   "toc_window_display": false
  },
  "varInspector": {
   "cols": {
    "lenName": 16,
    "lenType": 16,
    "lenVar": 40
   },
   "kernels_config": {
    "python": {
     "delete_cmd_postfix": "",
     "delete_cmd_prefix": "del ",
     "library": "var_list.py",
     "varRefreshCmd": "print(var_dic_list())"
    },
    "r": {
     "delete_cmd_postfix": ") ",
     "delete_cmd_prefix": "rm(",
     "library": "var_list.r",
     "varRefreshCmd": "cat(var_dic_list()) "
    }
   },
   "types_to_exclude": [
    "module",
    "function",
    "builtin_function_or_method",
    "instance",
    "_Feature"
   ],
   "window_display": false
  },
  "widgets": {
   "application/vnd.jupyter.widget-state+json": {
    "state": {
     "04133faec19944aeb8c83854376e4269": {
      "model_module": "jupyter-matplotlib",
      "model_module_version": "^0.7.2",
      "model_name": "ToolbarModel",
      "state": {
       "layout": "IPY_MODEL_96d6cfe78bee49dab126dfd31621ff78",
       "toolitems": [
        [
         "Home",
         "Reset original view",
         "home",
         "home"
        ],
        [
         "Back",
         "Back to previous view",
         "arrow-left",
         "back"
        ],
        [
         "Forward",
         "Forward to next view",
         "arrow-right",
         "forward"
        ],
        [
         "Pan",
         "Pan axes with left mouse, zoom with right",
         "arrows",
         "pan"
        ],
        [
         "Zoom",
         "Zoom to rectangle",
         "square-o",
         "zoom"
        ],
        [
         "Download",
         "Download plot",
         "floppy-o",
         "save_figure"
        ]
       ]
      }
     },
     "042c1c9016244474a4868e7855bc9904": {
      "model_module": "@jupyter-widgets/base",
      "model_module_version": "1.2.0",
      "model_name": "LayoutModel",
      "state": {}
     },
     "080a734d5fb84a5ea6788d8830dafaca": {
      "model_module": "jupyter-matplotlib",
      "model_module_version": "^0.7.2",
      "model_name": "MPLCanvasModel",
      "state": {
       "_cursor": "default",
       "_figure_label": "Figure 3",
       "_height": 480,
       "_image_mode": "diff",
       "_width": 640,
       "header_visible": false,
       "layout": "IPY_MODEL_c2f1d7cfca9a4e45ae18c67d5a0ed220",
       "toolbar": "IPY_MODEL_516c25b59414407c8bc884d252944c09",
       "toolbar_position": "left"
      }
     },
     "0b21c79d2b4f40438bc22617a1df8aec": {
      "model_module": "@jupyter-widgets/base",
      "model_module_version": "1.2.0",
      "model_name": "LayoutModel",
      "state": {}
     },
     "0bfd3086a35b42a2801bedaf9f54cf0e": {
      "model_module": "@jupyter-widgets/controls",
      "model_module_version": "1.5.0",
      "model_name": "IntRangeSliderModel",
      "state": {
       "_model_name": "IntRangeSliderModel",
       "_view_name": "IntRangeSliderView",
       "continuous_update": false,
       "description": "Mac Stas Index boundaries:",
       "layout": "IPY_MODEL_7d46347638ce4906803b376bb520931c",
       "max": 559,
       "style": "IPY_MODEL_73238137525e4ed29c39d193487da890",
       "value": [
        0,
        559
       ]
      }
     },
     "0e18f539814d43f0b153981c8c2180ce": {
      "model_module": "@jupyter-widgets/base",
      "model_module_version": "1.2.0",
      "model_name": "LayoutModel",
      "state": {
       "width": "400px"
      }
     },
     "13cb5d410b7e486bac61c839de6d68d1": {
      "model_module": "jupyter-matplotlib",
      "model_module_version": "^0.7.2",
      "model_name": "MPLCanvasModel",
      "state": {
       "_cursor": "default",
       "header_visible": false,
       "layout": "IPY_MODEL_20275ce432f54518a26ef24835a79e2b",
       "toolbar": "IPY_MODEL_6dea9faff48b4737afb23e6ae2a55633",
       "toolbar_position": "left"
      }
     },
     "148a3a3617dc49a4a18ddb9e487121fc": {
      "model_module": "@jupyter-widgets/controls",
      "model_module_version": "1.5.0",
      "model_name": "SliderStyleModel",
      "state": {
       "description_width": "initial"
      }
     },
     "19f06ea8fc724aacbfaa20320dbbc988": {
      "model_module": "@jupyter-widgets/controls",
      "model_module_version": "1.5.0",
      "model_name": "SliderStyleModel",
      "state": {
       "description_width": "initial"
      }
     },
     "1d4c0baf398c4d348156a6beb53288a1": {
      "model_module": "@jupyter-widgets/controls",
      "model_module_version": "1.5.0",
      "model_name": "SliderStyleModel",
      "state": {
       "description_width": "initial"
      }
     },
     "1da1ce223c6c4927ab999423f17a6a22": {
      "model_module": "@jupyter-widgets/controls",
      "model_module_version": "1.5.0",
      "model_name": "IntRangeSliderModel",
      "state": {
       "_model_name": "IntRangeSliderModel",
       "_view_name": "IntRangeSliderView",
       "continuous_update": false,
       "description": "Index boundaries:",
       "layout": "IPY_MODEL_6b696a882bbf4fbfb0c15c49f8cd55d9",
       "max": 1023,
       "style": "IPY_MODEL_beb7e50631174f8b9ae67c2c8d2d0f85",
       "value": [
        0,
        1023
       ]
      }
     },
     "1e6af1144608433cac260c050ed8e22a": {
      "model_module": "@jupyter-widgets/base",
      "model_module_version": "1.2.0",
      "model_name": "LayoutModel",
      "state": {}
     },
     "20275ce432f54518a26ef24835a79e2b": {
      "model_module": "@jupyter-widgets/base",
      "model_module_version": "1.2.0",
      "model_name": "LayoutModel",
      "state": {}
     },
     "22cb7a3ce1bd4dadafc2e4b3e605e16b": {
      "model_module": "@jupyter-widgets/controls",
      "model_module_version": "1.5.0",
      "model_name": "SliderStyleModel",
      "state": {
       "description_width": "initial"
      }
     },
     "2c748142f75342deba45592f764d25e7": {
      "model_module": "@jupyter-widgets/base",
      "model_module_version": "1.2.0",
      "model_name": "LayoutModel",
      "state": {}
     },
     "2f372dfebcd943aeb16028918ee65802": {
      "model_module": "jupyter-matplotlib",
      "model_module_version": "^0.7.2",
      "model_name": "MPLCanvasModel",
      "state": {
       "_cursor": "default",
       "_figure_label": "Figure 1",
       "_height": 480,
       "_image_mode": "diff",
       "_width": 640,
       "header_visible": false,
       "layout": "IPY_MODEL_6a7db191ca7f46b1ba75dd5f80cb8a53",
       "toolbar": "IPY_MODEL_7bc8b70594184ff8bac0639a6284c2b4",
       "toolbar_position": "left"
      }
     },
     "313382ebfd6942d58f233199b3483df8": {
      "model_module": "@jupyter-widgets/base",
      "model_module_version": "1.2.0",
      "model_name": "LayoutModel",
      "state": {
       "width": "400px"
      }
     },
     "32c0394b1c5b4acb83b75d7867976095": {
      "model_module": "@jupyter-widgets/base",
      "model_module_version": "1.2.0",
      "model_name": "LayoutModel",
      "state": {}
     },
     "353ee7f4148e48fcb09b97a258e93a77": {
      "model_module": "@jupyter-widgets/controls",
      "model_module_version": "1.5.0",
      "model_name": "HBoxModel",
      "state": {
       "children": [
        "IPY_MODEL_557fc05b510347f6ac13798055f8a431",
        "IPY_MODEL_7ea60bbe902a4ff08c49e461772551ef"
       ],
       "layout": "IPY_MODEL_2c748142f75342deba45592f764d25e7"
      }
     },
     "3635091a46764a488b08e4e12a75df62": {
      "model_module": "@jupyter-widgets/controls",
      "model_module_version": "1.5.0",
      "model_name": "IntRangeSliderModel",
      "state": {
       "_model_name": "IntRangeSliderModel",
       "_view_name": "IntRangeSliderView",
       "continuous_update": false,
       "description": "Mac Stas Index boundaries:",
       "layout": "IPY_MODEL_0e18f539814d43f0b153981c8c2180ce",
       "max": 559,
       "style": "IPY_MODEL_e87e2af8a28c478081c74e48d5b7d894",
       "value": [
        0,
        559
       ]
      }
     },
     "3be2de5be2c9463b83622a0a53dccebd": {
      "model_module": "@jupyter-widgets/base",
      "model_module_version": "1.2.0",
      "model_name": "LayoutModel",
      "state": {
       "width": "400px"
      }
     },
     "3cfaa923dbaa48629142aac61f972e84": {
      "model_module": "jupyter-matplotlib",
      "model_module_version": "^0.7.2",
      "model_name": "ToolbarModel",
      "state": {
       "layout": "IPY_MODEL_1e6af1144608433cac260c050ed8e22a",
       "toolitems": [
        [
         "Home",
         "Reset original view",
         "home",
         "home"
        ],
        [
         "Back",
         "Back to previous view",
         "arrow-left",
         "back"
        ],
        [
         "Forward",
         "Forward to next view",
         "arrow-right",
         "forward"
        ],
        [
         "Pan",
         "Pan axes with left mouse, zoom with right",
         "arrows",
         "pan"
        ],
        [
         "Zoom",
         "Zoom to rectangle",
         "square-o",
         "zoom"
        ],
        [
         "Download",
         "Download plot",
         "floppy-o",
         "save_figure"
        ]
       ]
      }
     },
     "4722ae5e28f347ca834ad752f4d15a8a": {
      "model_module": "@jupyter-widgets/base",
      "model_module_version": "1.2.0",
      "model_name": "LayoutModel",
      "state": {
       "width": "400px"
      }
     },
     "47d458c049894c37afb33a36c983c09d": {
      "model_module": "@jupyter-widgets/controls",
      "model_module_version": "1.5.0",
      "model_name": "IntRangeSliderModel",
      "state": {
       "_model_name": "IntRangeSliderModel",
       "_view_name": "IntRangeSliderView",
       "continuous_update": false,
       "description": "ROOT Index boundaries:",
       "layout": "IPY_MODEL_4722ae5e28f347ca834ad752f4d15a8a",
       "max": 1023,
       "style": "IPY_MODEL_1d4c0baf398c4d348156a6beb53288a1",
       "value": [
        0,
        1023
       ]
      }
     },
     "4970e5e01a0b4fada4788e2d3ad3fbc6": {
      "model_module": "jupyter-matplotlib",
      "model_module_version": "^0.7.2",
      "model_name": "ToolbarModel",
      "state": {
       "layout": "IPY_MODEL_bca21f0d3cea42b3b7a5afcbba49d57e",
       "toolitems": [
        [
         "Home",
         "Reset original view",
         "home",
         "home"
        ],
        [
         "Back",
         "Back to previous view",
         "arrow-left",
         "back"
        ],
        [
         "Forward",
         "Forward to next view",
         "arrow-right",
         "forward"
        ],
        [
         "Pan",
         "Pan axes with left mouse, zoom with right",
         "arrows",
         "pan"
        ],
        [
         "Zoom",
         "Zoom to rectangle",
         "square-o",
         "zoom"
        ],
        [
         "Download",
         "Download plot",
         "floppy-o",
         "save_figure"
        ]
       ]
      }
     },
     "5006f0351b17404cb43d24f3cc1d6f86": {
      "model_module": "@jupyter-widgets/base",
      "model_module_version": "1.2.0",
      "model_name": "LayoutModel",
      "state": {
       "width": "400px"
      }
     },
     "516c25b59414407c8bc884d252944c09": {
      "model_module": "jupyter-matplotlib",
      "model_module_version": "^0.7.2",
      "model_name": "ToolbarModel",
      "state": {
       "layout": "IPY_MODEL_7a3127c42dde4c1fb26936e9c5df67c7",
       "toolitems": [
        [
         "Home",
         "Reset original view",
         "home",
         "home"
        ],
        [
         "Back",
         "Back to previous view",
         "arrow-left",
         "back"
        ],
        [
         "Forward",
         "Forward to next view",
         "arrow-right",
         "forward"
        ],
        [
         "Pan",
         "Pan axes with left mouse, zoom with right",
         "arrows",
         "pan"
        ],
        [
         "Zoom",
         "Zoom to rectangle",
         "square-o",
         "zoom"
        ],
        [
         "Download",
         "Download plot",
         "floppy-o",
         "save_figure"
        ]
       ]
      }
     },
     "5177d97d39c543368b60d758cc65546f": {
      "model_module": "@jupyter-widgets/controls",
      "model_module_version": "1.5.0",
      "model_name": "SliderStyleModel",
      "state": {
       "description_width": "initial"
      }
     },
     "51d7866bceb447e7970e9ea38cba786d": {
      "model_module": "jupyter-matplotlib",
      "model_module_version": "^0.7.2",
      "model_name": "MPLCanvasModel",
      "state": {
       "_cursor": "default",
       "_figure_label": "Figure 2",
       "_height": 480,
       "_image_mode": "diff",
       "_width": 640,
       "header_visible": false,
       "layout": "IPY_MODEL_641cf2b89c4d41e6b3e6e4d104f1b07b",
       "toolbar": "IPY_MODEL_c1e6219e4e23450aa89879b4b4124f37",
       "toolbar_position": "left"
      }
     },
     "5375ca068ffa4288bc2e5f3e26e226be": {
      "model_module": "jupyter-matplotlib",
      "model_module_version": "^0.7.2",
      "model_name": "MPLCanvasModel",
      "state": {
       "_cursor": "default",
       "header_visible": false,
       "layout": "IPY_MODEL_69266c39a1a34302b70e0605883db827",
       "toolbar": "IPY_MODEL_3cfaa923dbaa48629142aac61f972e84",
       "toolbar_position": "left"
      }
     },
     "552b8d242c4e4a6d9746b2c48cb0ab66": {
      "model_module": "@jupyter-widgets/controls",
      "model_module_version": "1.5.0",
      "model_name": "IntRangeSliderModel",
      "state": {
       "_model_name": "IntRangeSliderModel",
       "_view_name": "IntRangeSliderView",
       "continuous_update": false,
       "description": "Index boundaries:",
       "layout": "IPY_MODEL_ef2c9e6303424502a4a43718a60dd1ca",
       "max": 1023,
       "style": "IPY_MODEL_5177d97d39c543368b60d758cc65546f",
       "value": [
        0,
        1023
       ]
      }
     },
     "557fc05b510347f6ac13798055f8a431": {
      "model_module": "@jupyter-widgets/controls",
      "model_module_version": "1.5.0",
      "model_name": "IntRangeSliderModel",
      "state": {
       "_model_name": "IntRangeSliderModel",
       "_view_name": "IntRangeSliderView",
       "continuous_update": false,
       "description": "Mac Stas Index boundaries:",
       "layout": "IPY_MODEL_bbe345ea55d64e3db17e8e2b46f6d07b",
       "max": 559,
       "style": "IPY_MODEL_148a3a3617dc49a4a18ddb9e487121fc",
       "value": [
        0,
        559
       ]
      }
     },
     "57cfc8119d38468092784cfae6956517": {
      "model_module": "jupyter-matplotlib",
      "model_module_version": "^0.7.2",
      "model_name": "MPLCanvasModel",
      "state": {
       "_cursor": "default",
       "header_visible": false,
       "layout": "IPY_MODEL_6b5575c61bb14afca332b3ff1c1db47f",
       "toolbar": "IPY_MODEL_b0252b1c596f4da3b52b1974164906fe",
       "toolbar_position": "left"
      }
     },
     "5c2a0bef707d44daa3f559fbbeaddd27": {
      "model_module": "@jupyter-widgets/controls",
      "model_module_version": "1.5.0",
      "model_name": "IntRangeSliderModel",
      "state": {
       "_model_name": "IntRangeSliderModel",
       "_view_name": "IntRangeSliderView",
       "continuous_update": false,
       "description": "Index boundaries:",
       "layout": "IPY_MODEL_f57caf902e7743e897c63e7713965dfc",
       "max": 1023,
       "style": "IPY_MODEL_8d5338c0202f4b0d8e0ecff96dbb6632",
       "value": [
        0,
        1023
       ]
      }
     },
     "5cda06e6a892419d80613117ab2a13c8": {
      "model_module": "@jupyter-widgets/controls",
      "model_module_version": "1.5.0",
      "model_name": "HBoxModel",
      "state": {
       "children": [
        "IPY_MODEL_0bfd3086a35b42a2801bedaf9f54cf0e",
        "IPY_MODEL_f835fe0714864105b0c7ca8130d5b62f"
       ],
       "layout": "IPY_MODEL_60059932f8314ec0a4fea155ce6604a1"
      }
     },
     "5d6f3952e52c41f8a0d06423eed93ee1": {
      "model_module": "@jupyter-widgets/controls",
      "model_module_version": "1.5.0",
      "model_name": "IntRangeSliderModel",
      "state": {
       "_model_name": "IntRangeSliderModel",
       "_view_name": "IntRangeSliderView",
       "continuous_update": false,
       "description": "Index boundaries:",
       "layout": "IPY_MODEL_b5decb2f670b49fab40458b8a02ef6d2",
       "max": 559,
       "style": "IPY_MODEL_e868470901204972a3b257e7a47d9898",
       "value": [
        0,
        559
       ]
      }
     },
     "60059932f8314ec0a4fea155ce6604a1": {
      "model_module": "@jupyter-widgets/base",
      "model_module_version": "1.2.0",
      "model_name": "LayoutModel",
      "state": {}
     },
     "641cf2b89c4d41e6b3e6e4d104f1b07b": {
      "model_module": "@jupyter-widgets/base",
      "model_module_version": "1.2.0",
      "model_name": "LayoutModel",
      "state": {}
     },
     "69266c39a1a34302b70e0605883db827": {
      "model_module": "@jupyter-widgets/base",
      "model_module_version": "1.2.0",
      "model_name": "LayoutModel",
      "state": {}
     },
     "6a7db191ca7f46b1ba75dd5f80cb8a53": {
      "model_module": "@jupyter-widgets/base",
      "model_module_version": "1.2.0",
      "model_name": "LayoutModel",
      "state": {}
     },
     "6b5575c61bb14afca332b3ff1c1db47f": {
      "model_module": "@jupyter-widgets/base",
      "model_module_version": "1.2.0",
      "model_name": "LayoutModel",
      "state": {}
     },
     "6b696a882bbf4fbfb0c15c49f8cd55d9": {
      "model_module": "@jupyter-widgets/base",
      "model_module_version": "1.2.0",
      "model_name": "LayoutModel",
      "state": {
       "width": "400px"
      }
     },
     "6cfebcf455f843a3b30d921d6620de62": {
      "model_module": "@jupyter-widgets/base",
      "model_module_version": "1.2.0",
      "model_name": "LayoutModel",
      "state": {}
     },
     "6dea9faff48b4737afb23e6ae2a55633": {
      "model_module": "jupyter-matplotlib",
      "model_module_version": "^0.7.2",
      "model_name": "ToolbarModel",
      "state": {
       "layout": "IPY_MODEL_bd3f920220bd4692bb1261d55892a271",
       "toolitems": [
        [
         "Home",
         "Reset original view",
         "home",
         "home"
        ],
        [
         "Back",
         "Back to previous view",
         "arrow-left",
         "back"
        ],
        [
         "Forward",
         "Forward to next view",
         "arrow-right",
         "forward"
        ],
        [
         "Pan",
         "Pan axes with left mouse, zoom with right",
         "arrows",
         "pan"
        ],
        [
         "Zoom",
         "Zoom to rectangle",
         "square-o",
         "zoom"
        ],
        [
         "Download",
         "Download plot",
         "floppy-o",
         "save_figure"
        ]
       ]
      }
     },
     "6def098eaf9444909f7822e09de9e3c2": {
      "model_module": "jupyter-matplotlib",
      "model_module_version": "^0.7.2",
      "model_name": "ToolbarModel",
      "state": {
       "layout": "IPY_MODEL_ec22ae6a4ec447ed875f4a8bb55090ba",
       "toolitems": [
        [
         "Home",
         "Reset original view",
         "home",
         "home"
        ],
        [
         "Back",
         "Back to previous view",
         "arrow-left",
         "back"
        ],
        [
         "Forward",
         "Forward to next view",
         "arrow-right",
         "forward"
        ],
        [
         "Pan",
         "Pan axes with left mouse, zoom with right",
         "arrows",
         "pan"
        ],
        [
         "Zoom",
         "Zoom to rectangle",
         "square-o",
         "zoom"
        ],
        [
         "Download",
         "Download plot",
         "floppy-o",
         "save_figure"
        ]
       ]
      }
     },
     "7255eb3604c940cf93be0506c25a8175": {
      "model_module": "@jupyter-widgets/controls",
      "model_module_version": "1.5.0",
      "model_name": "SliderStyleModel",
      "state": {
       "description_width": "initial"
      }
     },
     "73238137525e4ed29c39d193487da890": {
      "model_module": "@jupyter-widgets/controls",
      "model_module_version": "1.5.0",
      "model_name": "SliderStyleModel",
      "state": {
       "description_width": "initial"
      }
     },
     "7a3127c42dde4c1fb26936e9c5df67c7": {
      "model_module": "@jupyter-widgets/base",
      "model_module_version": "1.2.0",
      "model_name": "LayoutModel",
      "state": {}
     },
     "7b34b24068564ae38389c0848ed74ee0": {
      "model_module": "@jupyter-widgets/base",
      "model_module_version": "1.2.0",
      "model_name": "LayoutModel",
      "state": {}
     },
     "7bc8b70594184ff8bac0639a6284c2b4": {
      "model_module": "jupyter-matplotlib",
      "model_module_version": "^0.7.2",
      "model_name": "ToolbarModel",
      "state": {
       "layout": "IPY_MODEL_042c1c9016244474a4868e7855bc9904",
       "toolitems": [
        [
         "Home",
         "Reset original view",
         "home",
         "home"
        ],
        [
         "Back",
         "Back to previous view",
         "arrow-left",
         "back"
        ],
        [
         "Forward",
         "Forward to next view",
         "arrow-right",
         "forward"
        ],
        [
         "Pan",
         "Pan axes with left mouse, zoom with right",
         "arrows",
         "pan"
        ],
        [
         "Zoom",
         "Zoom to rectangle",
         "square-o",
         "zoom"
        ],
        [
         "Download",
         "Download plot",
         "floppy-o",
         "save_figure"
        ]
       ]
      }
     },
     "7d46347638ce4906803b376bb520931c": {
      "model_module": "@jupyter-widgets/base",
      "model_module_version": "1.2.0",
      "model_name": "LayoutModel",
      "state": {
       "width": "400px"
      }
     },
     "7ea60bbe902a4ff08c49e461772551ef": {
      "model_module": "@jupyter-widgets/controls",
      "model_module_version": "1.5.0",
      "model_name": "IntRangeSliderModel",
      "state": {
       "_model_name": "IntRangeSliderModel",
       "_view_name": "IntRangeSliderView",
       "continuous_update": false,
       "description": "ROOT Index boundaries:",
       "layout": "IPY_MODEL_5006f0351b17404cb43d24f3cc1d6f86",
       "max": 1023,
       "style": "IPY_MODEL_22cb7a3ce1bd4dadafc2e4b3e605e16b",
       "value": [
        0,
        1023
       ]
      }
     },
     "8200472a80004555978333a6b8ded8d2": {
      "model_module": "@jupyter-widgets/base",
      "model_module_version": "1.2.0",
      "model_name": "LayoutModel",
      "state": {}
     },
     "87038e70ee444f91a1cf53150cffcc07": {
      "model_module": "@jupyter-widgets/controls",
      "model_module_version": "1.5.0",
      "model_name": "SliderStyleModel",
      "state": {
       "description_width": "initial"
      }
     },
     "8a6214d6f9854836b0408bf00818c26b": {
      "model_module": "@jupyter-widgets/base",
      "model_module_version": "1.2.0",
      "model_name": "LayoutModel",
      "state": {
       "width": "400px"
      }
     },
     "8bd1dd58105249b6a6e951caa227a1ee": {
      "model_module": "@jupyter-widgets/base",
      "model_module_version": "1.2.0",
      "model_name": "LayoutModel",
      "state": {}
     },
     "8c1bd3bc65a84100a52c2a91759f21dd": {
      "model_module": "@jupyter-widgets/controls",
      "model_module_version": "1.5.0",
      "model_name": "SliderStyleModel",
      "state": {
       "description_width": "initial"
      }
     },
     "8ca54122dddc4d43b628347918f33ea3": {
      "model_module": "@jupyter-widgets/controls",
      "model_module_version": "1.5.0",
      "model_name": "SliderStyleModel",
      "state": {
       "description_width": "initial"
      }
     },
     "8d5338c0202f4b0d8e0ecff96dbb6632": {
      "model_module": "@jupyter-widgets/controls",
      "model_module_version": "1.5.0",
      "model_name": "SliderStyleModel",
      "state": {
       "description_width": "initial"
      }
     },
     "8f90890e566b400eb8c569cebbd3bf7a": {
      "model_module": "jupyter-matplotlib",
      "model_module_version": "^0.7.2",
      "model_name": "ToolbarModel",
      "state": {
       "layout": "IPY_MODEL_e8e99ddc80134d4a80a993ee4d48a54a",
       "toolitems": [
        [
         "Home",
         "Reset original view",
         "home",
         "home"
        ],
        [
         "Back",
         "Back to previous view",
         "arrow-left",
         "back"
        ],
        [
         "Forward",
         "Forward to next view",
         "arrow-right",
         "forward"
        ],
        [
         "Pan",
         "Pan axes with left mouse, zoom with right",
         "arrows",
         "pan"
        ],
        [
         "Zoom",
         "Zoom to rectangle",
         "square-o",
         "zoom"
        ],
        [
         "Download",
         "Download plot",
         "floppy-o",
         "save_figure"
        ]
       ]
      }
     },
     "90bdf1f5ffb143b7bd8c065b9e76e5c9": {
      "model_module": "@jupyter-widgets/base",
      "model_module_version": "1.2.0",
      "model_name": "LayoutModel",
      "state": {}
     },
     "923ebb7e4ba043d394de636dd8299df4": {
      "model_module": "@jupyter-widgets/controls",
      "model_module_version": "1.5.0",
      "model_name": "IntRangeSliderModel",
      "state": {
       "_model_name": "IntRangeSliderModel",
       "_view_name": "IntRangeSliderView",
       "continuous_update": false,
       "description": "ROOT Index boundaries:",
       "layout": "IPY_MODEL_c92d1b58f4e5448ea8872408cbb0dc68",
       "max": 1023,
       "style": "IPY_MODEL_7255eb3604c940cf93be0506c25a8175",
       "value": [
        0,
        1023
       ]
      }
     },
     "93111b1de4cf45dd9317c299ec23fda7": {
      "model_module": "jupyter-matplotlib",
      "model_module_version": "^0.7.2",
      "model_name": "MPLCanvasModel",
      "state": {
       "_cursor": "default",
       "_figure_label": "Figure 3",
       "_height": 480,
       "_image_mode": "diff",
       "_message": "x=26.6498      y=0.08918     ",
       "_width": 640,
       "header_visible": false,
       "layout": "IPY_MODEL_99af49b572304c78807f72772a517f42",
       "toolbar": "IPY_MODEL_6def098eaf9444909f7822e09de9e3c2",
       "toolbar_position": "left"
      }
     },
     "96d6cfe78bee49dab126dfd31621ff78": {
      "model_module": "@jupyter-widgets/base",
      "model_module_version": "1.2.0",
      "model_name": "LayoutModel",
      "state": {}
     },
     "99af49b572304c78807f72772a517f42": {
      "model_module": "@jupyter-widgets/base",
      "model_module_version": "1.2.0",
      "model_name": "LayoutModel",
      "state": {}
     },
     "9b40efefb9aa4c3aa831c9ab1d183c50": {
      "model_module": "@jupyter-widgets/base",
      "model_module_version": "1.2.0",
      "model_name": "LayoutModel",
      "state": {}
     },
     "9e42aed6e5854130a18e8286ca73b86d": {
      "model_module": "@jupyter-widgets/controls",
      "model_module_version": "1.5.0",
      "model_name": "HBoxModel",
      "state": {
       "children": [
        "IPY_MODEL_3635091a46764a488b08e4e12a75df62",
        "IPY_MODEL_923ebb7e4ba043d394de636dd8299df4"
       ],
       "layout": "IPY_MODEL_df1c2434192a45e9ab6b4a61ad9e930f"
      }
     },
     "ab504ec969a34c58a8fab84cf04d29fa": {
      "model_module": "@jupyter-widgets/controls",
      "model_module_version": "1.5.0",
      "model_name": "IntRangeSliderModel",
      "state": {
       "_model_name": "IntRangeSliderModel",
       "_view_name": "IntRangeSliderView",
       "continuous_update": false,
       "description": "Index boundaries:",
       "layout": "IPY_MODEL_c537755e3abb4e01abdf785f60e7f8e5",
       "max": 1023,
       "style": "IPY_MODEL_f514262c08354290975a454c0233ed6b",
       "value": [
        0,
        1023
       ]
      }
     },
     "aeaa6b9dd9fd44668b431ad089ff0603": {
      "model_module": "jupyter-matplotlib",
      "model_module_version": "^0.7.2",
      "model_name": "ToolbarModel",
      "state": {
       "layout": "IPY_MODEL_90bdf1f5ffb143b7bd8c065b9e76e5c9",
       "toolitems": [
        [
         "Home",
         "Reset original view",
         "home",
         "home"
        ],
        [
         "Back",
         "Back to previous view",
         "arrow-left",
         "back"
        ],
        [
         "Forward",
         "Forward to next view",
         "arrow-right",
         "forward"
        ],
        [
         "Pan",
         "Pan axes with left mouse, zoom with right",
         "arrows",
         "pan"
        ],
        [
         "Zoom",
         "Zoom to rectangle",
         "square-o",
         "zoom"
        ],
        [
         "Download",
         "Download plot",
         "floppy-o",
         "save_figure"
        ]
       ]
      }
     },
     "b0252b1c596f4da3b52b1974164906fe": {
      "model_module": "jupyter-matplotlib",
      "model_module_version": "^0.7.2",
      "model_name": "ToolbarModel",
      "state": {
       "layout": "IPY_MODEL_d122def4af5e4aa39b37fc5a9a03f460",
       "toolitems": [
        [
         "Home",
         "Reset original view",
         "home",
         "home"
        ],
        [
         "Back",
         "Back to previous view",
         "arrow-left",
         "back"
        ],
        [
         "Forward",
         "Forward to next view",
         "arrow-right",
         "forward"
        ],
        [
         "Pan",
         "Pan axes with left mouse, zoom with right",
         "arrows",
         "pan"
        ],
        [
         "Zoom",
         "Zoom to rectangle",
         "square-o",
         "zoom"
        ],
        [
         "Download",
         "Download plot",
         "floppy-o",
         "save_figure"
        ]
       ]
      }
     },
     "b5decb2f670b49fab40458b8a02ef6d2": {
      "model_module": "@jupyter-widgets/base",
      "model_module_version": "1.2.0",
      "model_name": "LayoutModel",
      "state": {
       "width": "400px"
      }
     },
     "b7a30b038920405187dd316bafa276e0": {
      "model_module": "@jupyter-widgets/controls",
      "model_module_version": "1.5.0",
      "model_name": "IntRangeSliderModel",
      "state": {
       "_model_name": "IntRangeSliderModel",
       "_view_name": "IntRangeSliderView",
       "continuous_update": false,
       "description": "Index boundaries:",
       "layout": "IPY_MODEL_8a6214d6f9854836b0408bf00818c26b",
       "max": 559,
       "style": "IPY_MODEL_8ca54122dddc4d43b628347918f33ea3",
       "value": [
        0,
        559
       ]
      }
     },
     "bb6b74e775594954a3f8f30f591c15a0": {
      "model_module": "jupyter-matplotlib",
      "model_module_version": "^0.7.2",
      "model_name": "ToolbarModel",
      "state": {
       "layout": "IPY_MODEL_6cfebcf455f843a3b30d921d6620de62",
       "toolitems": [
        [
         "Home",
         "Reset original view",
         "home",
         "home"
        ],
        [
         "Back",
         "Back to previous view",
         "arrow-left",
         "back"
        ],
        [
         "Forward",
         "Forward to next view",
         "arrow-right",
         "forward"
        ],
        [
         "Pan",
         "Pan axes with left mouse, zoom with right",
         "arrows",
         "pan"
        ],
        [
         "Zoom",
         "Zoom to rectangle",
         "square-o",
         "zoom"
        ],
        [
         "Download",
         "Download plot",
         "floppy-o",
         "save_figure"
        ]
       ]
      }
     },
     "bbe345ea55d64e3db17e8e2b46f6d07b": {
      "model_module": "@jupyter-widgets/base",
      "model_module_version": "1.2.0",
      "model_name": "LayoutModel",
      "state": {
       "width": "400px"
      }
     },
     "bca21f0d3cea42b3b7a5afcbba49d57e": {
      "model_module": "@jupyter-widgets/base",
      "model_module_version": "1.2.0",
      "model_name": "LayoutModel",
      "state": {}
     },
     "bd3f920220bd4692bb1261d55892a271": {
      "model_module": "@jupyter-widgets/base",
      "model_module_version": "1.2.0",
      "model_name": "LayoutModel",
      "state": {}
     },
     "beb7e50631174f8b9ae67c2c8d2d0f85": {
      "model_module": "@jupyter-widgets/controls",
      "model_module_version": "1.5.0",
      "model_name": "SliderStyleModel",
      "state": {
       "description_width": "initial"
      }
     },
     "c0a5c692bef9471b9099c20d7725ee55": {
      "model_module": "@jupyter-widgets/controls",
      "model_module_version": "1.5.0",
      "model_name": "HBoxModel",
      "state": {
       "children": [
        "IPY_MODEL_c2199453e8384f3e90fe0cd7c8d62a8e",
        "IPY_MODEL_47d458c049894c37afb33a36c983c09d"
       ],
       "layout": "IPY_MODEL_8200472a80004555978333a6b8ded8d2"
      }
     },
     "c134595570e34e6da7bd73c52b2add29": {
      "model_module": "@jupyter-widgets/base",
      "model_module_version": "1.2.0",
      "model_name": "LayoutModel",
      "state": {
       "width": "400px"
      }
     },
     "c1e6219e4e23450aa89879b4b4124f37": {
      "model_module": "jupyter-matplotlib",
      "model_module_version": "^0.7.2",
      "model_name": "ToolbarModel",
      "state": {
       "layout": "IPY_MODEL_8bd1dd58105249b6a6e951caa227a1ee",
       "toolitems": [
        [
         "Home",
         "Reset original view",
         "home",
         "home"
        ],
        [
         "Back",
         "Back to previous view",
         "arrow-left",
         "back"
        ],
        [
         "Forward",
         "Forward to next view",
         "arrow-right",
         "forward"
        ],
        [
         "Pan",
         "Pan axes with left mouse, zoom with right",
         "arrows",
         "pan"
        ],
        [
         "Zoom",
         "Zoom to rectangle",
         "square-o",
         "zoom"
        ],
        [
         "Download",
         "Download plot",
         "floppy-o",
         "save_figure"
        ]
       ]
      }
     },
     "c2199453e8384f3e90fe0cd7c8d62a8e": {
      "model_module": "@jupyter-widgets/controls",
      "model_module_version": "1.5.0",
      "model_name": "IntRangeSliderModel",
      "state": {
       "_model_name": "IntRangeSliderModel",
       "_view_name": "IntRangeSliderView",
       "continuous_update": false,
       "description": "Mac Stas Index boundaries:",
       "layout": "IPY_MODEL_c134595570e34e6da7bd73c52b2add29",
       "max": 559,
       "style": "IPY_MODEL_87038e70ee444f91a1cf53150cffcc07",
       "value": [
        0,
        559
       ]
      }
     },
     "c2f1d7cfca9a4e45ae18c67d5a0ed220": {
      "model_module": "@jupyter-widgets/base",
      "model_module_version": "1.2.0",
      "model_name": "LayoutModel",
      "state": {}
     },
     "c537755e3abb4e01abdf785f60e7f8e5": {
      "model_module": "@jupyter-widgets/base",
      "model_module_version": "1.2.0",
      "model_name": "LayoutModel",
      "state": {
       "width": "400px"
      }
     },
     "c92d1b58f4e5448ea8872408cbb0dc68": {
      "model_module": "@jupyter-widgets/base",
      "model_module_version": "1.2.0",
      "model_name": "LayoutModel",
      "state": {
       "width": "400px"
      }
     },
     "d03a64e3f3cb4c68a22bce69b6d4e990": {
      "model_module": "@jupyter-widgets/base",
      "model_module_version": "1.2.0",
      "model_name": "LayoutModel",
      "state": {
       "width": "400px"
      }
     },
     "d122def4af5e4aa39b37fc5a9a03f460": {
      "model_module": "@jupyter-widgets/base",
      "model_module_version": "1.2.0",
      "model_name": "LayoutModel",
      "state": {}
     },
     "d12504a9f6f64ff1b6a95e47e373f382": {
      "model_module": "jupyter-matplotlib",
      "model_module_version": "^0.7.2",
      "model_name": "MPLCanvasModel",
      "state": {
       "_cursor": "default",
       "_figure_label": "Figure 1",
       "_height": 480,
       "_image_mode": "diff",
       "_width": 640,
       "header_visible": false,
       "layout": "IPY_MODEL_0b21c79d2b4f40438bc22617a1df8aec",
       "toolbar": "IPY_MODEL_aeaa6b9dd9fd44668b431ad089ff0603",
       "toolbar_position": "left"
      }
     },
     "df1c2434192a45e9ab6b4a61ad9e930f": {
      "model_module": "@jupyter-widgets/base",
      "model_module_version": "1.2.0",
      "model_name": "LayoutModel",
      "state": {}
     },
     "df738c3784664c21b99e00273f03b333": {
      "model_module": "@jupyter-widgets/controls",
      "model_module_version": "1.5.0",
      "model_name": "IntRangeSliderModel",
      "state": {
       "_model_name": "IntRangeSliderModel",
       "_view_name": "IntRangeSliderView",
       "continuous_update": false,
       "description": "Index boundaries:",
       "layout": "IPY_MODEL_3be2de5be2c9463b83622a0a53dccebd",
       "max": 559,
       "style": "IPY_MODEL_19f06ea8fc724aacbfaa20320dbbc988",
       "value": [
        0,
        559
       ]
      }
     },
     "e6a2bbcdae044487b61f7c050a8d2de0": {
      "model_module": "@jupyter-widgets/controls",
      "model_module_version": "1.5.0",
      "model_name": "SliderStyleModel",
      "state": {
       "description_width": "initial"
      }
     },
     "e868470901204972a3b257e7a47d9898": {
      "model_module": "@jupyter-widgets/controls",
      "model_module_version": "1.5.0",
      "model_name": "SliderStyleModel",
      "state": {
       "description_width": "initial"
      }
     },
     "e87e2af8a28c478081c74e48d5b7d894": {
      "model_module": "@jupyter-widgets/controls",
      "model_module_version": "1.5.0",
      "model_name": "SliderStyleModel",
      "state": {
       "description_width": "initial"
      }
     },
     "e8e99ddc80134d4a80a993ee4d48a54a": {
      "model_module": "@jupyter-widgets/base",
      "model_module_version": "1.2.0",
      "model_name": "LayoutModel",
      "state": {}
     },
     "ec22ae6a4ec447ed875f4a8bb55090ba": {
      "model_module": "@jupyter-widgets/base",
      "model_module_version": "1.2.0",
      "model_name": "LayoutModel",
      "state": {}
     },
     "ef2c9e6303424502a4a43718a60dd1ca": {
      "model_module": "@jupyter-widgets/base",
      "model_module_version": "1.2.0",
      "model_name": "LayoutModel",
      "state": {
       "width": "400px"
      }
     },
     "f07d481f13f24aebbdefd1e213ed7bfa": {
      "model_module": "@jupyter-widgets/base",
      "model_module_version": "1.2.0",
      "model_name": "LayoutModel",
      "state": {}
     },
     "f514262c08354290975a454c0233ed6b": {
      "model_module": "@jupyter-widgets/controls",
      "model_module_version": "1.5.0",
      "model_name": "SliderStyleModel",
      "state": {
       "description_width": "initial"
      }
     },
     "f52c5fc9d277407f9ee15accc59f648d": {
      "model_module": "jupyter-matplotlib",
      "model_module_version": "^0.7.2",
      "model_name": "MPLCanvasModel",
      "state": {
       "_cursor": "default",
       "_figure_label": "Figure 2",
       "_height": 480,
       "_image_mode": "diff",
       "_width": 640,
       "header_visible": false,
       "layout": "IPY_MODEL_f07d481f13f24aebbdefd1e213ed7bfa",
       "toolbar": "IPY_MODEL_4970e5e01a0b4fada4788e2d3ad3fbc6",
       "toolbar_position": "left"
      }
     },
     "f57caf902e7743e897c63e7713965dfc": {
      "model_module": "@jupyter-widgets/base",
      "model_module_version": "1.2.0",
      "model_name": "LayoutModel",
      "state": {
       "width": "400px"
      }
     },
     "f835fe0714864105b0c7ca8130d5b62f": {
      "model_module": "@jupyter-widgets/controls",
      "model_module_version": "1.5.0",
      "model_name": "IntRangeSliderModel",
      "state": {
       "_model_name": "IntRangeSliderModel",
       "_view_name": "IntRangeSliderView",
       "continuous_update": false,
       "description": "ROOT Index boundaries:",
       "layout": "IPY_MODEL_313382ebfd6942d58f233199b3483df8",
       "max": 1023,
       "style": "IPY_MODEL_8c1bd3bc65a84100a52c2a91759f21dd",
       "value": [
        0,
        1023
       ]
      }
     },
     "ffe9fe9dbbeb44b7a06ea8510090a6b7": {
      "model_module": "@jupyter-widgets/controls",
      "model_module_version": "1.5.0",
      "model_name": "IntRangeSliderModel",
      "state": {
       "_model_name": "IntRangeSliderModel",
       "_view_name": "IntRangeSliderView",
       "continuous_update": false,
       "description": "Index boundaries:",
       "layout": "IPY_MODEL_d03a64e3f3cb4c68a22bce69b6d4e990",
       "max": 559,
       "style": "IPY_MODEL_e6a2bbcdae044487b61f7c050a8d2de0",
       "value": [
        0,
        559
       ]
      }
     }
    },
    "version_major": 2,
    "version_minor": 0
   }
  }
 },
 "nbformat": 4,
 "nbformat_minor": 4
}
