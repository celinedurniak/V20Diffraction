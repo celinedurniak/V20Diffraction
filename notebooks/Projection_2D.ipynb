{
 "cells": [
  {
   "cell_type": "markdown",
   "metadata": {
    "slideshow": {
     "slide_type": "-"
    }
   },
   "source": [
    "# Projection of 2D ROOT data into 1D slice\n",
    "Comparison of 1D slices of ROOT and McStas data\n",
    "## Import libraries"
   ]
  },
  {
   "cell_type": "code",
   "execution_count": null,
   "metadata": {
    "slideshow": {
     "slide_type": "-"
    }
   },
   "outputs": [],
   "source": [
    "import uproot\n",
    "import os\n",
    "import numpy as np\n",
    "import matplotlib.pyplot as plt\n",
    "\n",
    "%matplotlib widget\n",
    "\n",
    "import ipywidgets\n",
    "\n",
    "# choice of colormap for 2D plots\n",
    "colormap = plt.cm.get_cmap('gist_earth')"
   ]
  },
  {
   "cell_type": "markdown",
   "metadata": {
    "slideshow": {
     "slide_type": "-"
    }
   },
   "source": [
    "## Import 2D McStas data"
   ]
  },
  {
   "cell_type": "code",
   "execution_count": null,
   "metadata": {
    "slideshow": {
     "slide_type": "-"
    }
   },
   "outputs": [],
   "source": [
    "path_to_mcstas2D_file = '/Users/celinedurniak/V20DiffractionData/V20_config6/monitor_tx_DENEX.dat'\n",
    "\n",
    "assert os.path.isfile(path_to_mcstas2D_file), \\\n",
    "    'There is an issue with the chosen McStas output datafile'\n",
    "\n",
    "# Extract shape of output data\n",
    "# these values will be used to determine how many lines to read one array\n",
    "with open(path_to_mcstas2D_file, 'r') as file:\n",
    "    for line in file:\n",
    "        if \"array_2d\" in line:\n",
    "            type_array = line.rstrip()\n",
    "            start = type_array.find('(') + 1\n",
    "            end = type_array.find(')', start)\n",
    "            nx_value, ny_value = map(int, type_array[start:end].split(','))\n",
    "        if \"xylimits\" in line:\n",
    "            xylims = np.array(line.split(':')[1].split()).astype(np.float)\n",
    "\n",
    "print(f'Limits of x- and y-axis: {xylims}\\nNumber of points: nx={nx_value}, ny={ny_value}')"
   ]
  },
  {
   "cell_type": "markdown",
   "metadata": {
    "slideshow": {
     "slide_type": "-"
    }
   },
   "source": [
    "The McStas TOF axis is expressed in milliseconds."
   ]
  },
  {
   "cell_type": "code",
   "execution_count": null,
   "metadata": {
    "slideshow": {
     "slide_type": "-"
    }
   },
   "outputs": [],
   "source": [
    "data2d = np.genfromtxt(path_to_mcstas2D_file, max_rows=ny_value)\n",
    "\n",
    "#flip data along y axis \n",
    "data2d_mcstas = np.flip(data2d, 0)\n",
    "\n",
    "# define x, y axes (bin-centered)\n",
    "dx = (xylims[1] - xylims[0]) / float(nx_value)\n",
    "dy = (xylims[3] - xylims[2]) / float(ny_value)\n",
    "xaxis_mcstas = np.linspace(xylims[0] + 0.5*dx, xylims[1] - 0.5*dx, nx_value) * 1.0e3 # s -> ms\n",
    "yaxis_mcstas = np.linspace(xylims[2] + 0.5*dx, xylims[3] - 0.5*dy, nx_value)"
   ]
  },
  {
   "cell_type": "code",
   "execution_count": null,
   "metadata": {
    "slideshow": {
     "slide_type": "-"
    }
   },
   "outputs": [],
   "source": [
    "# function to be updated when changing the range of values to calculate the projection\n",
    "def plots_for_projection_mcstas(*project_boundaries):\n",
    "    \"\"\" Plot 2D and 1D projection for user-specified range of y-values\"\"\"\n",
    "    CS = ax0[0].contourf(xaxis_mcstas, yaxis_mcstas, data2d_mcstas, cmap=colormap)\n",
    "    ax0[0].hlines(yaxis_mcstas[project_boundaries[0]], \n",
    "                 min(xaxis_mcstas), \n",
    "                 max(xaxis_mcstas), \n",
    "                 'orange')\n",
    "    ax0[0].hlines(yaxis_mcstas[project_boundaries[1]], \n",
    "                 min(xaxis_mcstas), \n",
    "                 max(xaxis_mcstas), \n",
    "                 'orange')\n",
    "     \n",
    "    # calculate projection\n",
    "    ax0[1].grid()\n",
    "    line_mcstas, = ax0[1].plot(xaxis_mcstas, \n",
    "                              np.sum(data2d_mcstas[project_boundaries[0]:project_boundaries[1],:], axis=0))\n",
    "    \n",
    "    fig0.canvas.draw()\n",
    "\n",
    "# widget to generate 1D projection of mcstas data\n",
    "fig0, ax0 = plt.subplots(2, 1, constrained_layout=True, sharex=True)\n",
    "fig0.canvas.header_visible = False\n",
    "plots_for_projection_mcstas(*(0, len(yaxis_mcstas)-1))\n",
    "\n",
    "style_textbox = {'description_width': 'initial'}\n",
    "\n",
    "def update(change):\n",
    "    ax0[0].clear()\n",
    "    ax0[1].clear() \n",
    "    plots_for_projection_mcstas(*change.new)\n",
    "\n",
    "set_limits = ipywidgets.IntRangeSlider(\n",
    "    value=[0, len(yaxis_mcstas)-1],\n",
    "    min=0, \n",
    "    max=len(yaxis_mcstas)-1,\n",
    "    step=1,\n",
    "    description='Index boundaries:',\n",
    "    continuous_update=False,\n",
    "    readout_format='d',\n",
    "    style=style_textbox,\n",
    "    layout = ipywidgets.Layout(width='400px')\n",
    ")\n",
    "\n",
    "set_limits.observe(update, 'value')\n",
    "set_limits"
   ]
  },
  {
   "cell_type": "markdown",
   "metadata": {
    "slideshow": {
     "slide_type": "-"
    }
   },
   "source": [
    "## Import ROOT data"
   ]
  },
  {
   "cell_type": "code",
   "execution_count": null,
   "metadata": {
    "slideshow": {
     "slide_type": "-"
    }
   },
   "outputs": [],
   "source": [
    "path_to_root_file = '/Users/celinedurniak/V20DiffractionData/DENEX'\n",
    "\n",
    "assert os.path.exists(path_to_root_file), 'The path does not exist.'\n",
    "\n",
    "ROOTfile = 'Spectrum03_DENEX006_1_18-02-05_0000.root'\n",
    "\n",
    "dir_with_data = 'Meas_3'\n",
    "\n",
    "data_to_plot = 'H_TOF,X1-X2_User_2D2_dsp_after_run_3'\n",
    "\n",
    "file_to_open = os.path.join(path_to_root_file, ROOTfile)\n",
    "\n",
    "assert os.path.isfile(file_to_open), 'There is an issue with the file to be opened.'\n",
    "\n",
    "# Some metadata related to TOF channel for ROOT file\n",
    "tof_tick = 25e-6 # in milliseconds (25 ns)"
   ]
  },
  {
   "cell_type": "code",
   "execution_count": null,
   "metadata": {
    "slideshow": {
     "slide_type": "-"
    }
   },
   "outputs": [],
   "source": [
    "with uproot.open(file_to_open)[dir_with_data] as myFile:\n",
    "    for key in myFile.keys():\n",
    "        if 'BoardParam_run' in str(key):\n",
    "            myObject = myFile[key]\n",
    "            nb_xbins = myObject.numbins\n",
    "            \n",
    "            for i in range(nb_xbins):\n",
    "                if 'TOF_Time_Channel_Width' in myObject.xlabels[i]:\n",
    "                    TOF_Time_Channel_Width = myObject.values[i]\n",
    "                elif 'TOF_Window_Delay_Register' in myObject.xlabels[i]:\n",
    "                    TOF_Window_Delay_Register = myObject.values[i]\n",
    "                    \n",
    "        # 2D contourplot\n",
    "        if 'TH2' in str(myFile[key]) and data_to_plot in str(myFile[key]):\n",
    "            # x_max, x_min, y_max, y_min defined from .root file\n",
    "            x_min_root = myFile[key].xlow\n",
    "            x_max_root = myFile[key].xhigh\n",
    "            bins_x_root = myFile[key].xnumbins\n",
    "            y_min_root = myFile[key].ylow\n",
    "            y_max_root = myFile[key].yhigh\n",
    "            bins_y_root = myFile[key].ynumbins\n",
    "\n",
    "            # create x- and y-axis\n",
    "            deltax_root = (x_max_root - x_min_root)/(bins_x_root - 1)\n",
    "            xaxis_root = x_min_root + deltax_root * np.arange(bins_x_root)\n",
    "            deltay_root = (y_max_root - y_min_root)/(bins_y_root - 1)\n",
    "            yaxis_root = y_min_root + deltay_root * np.arange(bins_y_root)\n",
    "            \n",
    "            # fill 2d matrice with inverted y-axis\n",
    "            data2d_root = np.flip(myFile[key].values, 1)"
   ]
  },
  {
   "cell_type": "code",
   "execution_count": null,
   "metadata": {
    "slideshow": {
     "slide_type": "-"
    }
   },
   "outputs": [],
   "source": [
    "# function to be updated when changing the range of values to calculate the projection\n",
    "def plots_for_projection(*project_boundaries):\n",
    "    \"\"\" Plot 2D and 1D projection for user-specified range of y-values\"\"\"\n",
    "    CS = ax1[0].contourf(xaxis_root, yaxis_root, data2d_root.transpose(), cmap=colormap) \n",
    "    ax1[0].hlines(yaxis_root[project_boundaries[0]], x_min_root, x_max_root, 'orange')\n",
    "    ax1[0].hlines(yaxis_root[project_boundaries[1]], x_min_root, x_max_root, 'orange')\n",
    "    \n",
    "    # find indices to calculate projection\n",
    "    ax1[1].plot(xaxis_root, np.sum(data2d_root.transpose()[project_boundaries[0]:project_boundaries[1],:], axis=0))\n",
    "    ax1[1].grid()\n",
    "    \n",
    "    fig1.canvas.draw()\n",
    "\n",
    "# widget to generate 1D projection of root data\n",
    "fig1, ax1 = plt.subplots(2,1, constrained_layout=True, sharex=True)\n",
    "fig1.canvas.header_visible = False\n",
    "plots_for_projection(*(0, len(yaxis_root)-1))\n",
    "\n",
    "style_textbox = {'description_width': 'initial'}\n",
    "\n",
    "def update(change):\n",
    "    ax1[0].clear()\n",
    "    ax1[1].clear()\n",
    "    plots_for_projection(*change.new)\n",
    "\n",
    "set_limits = ipywidgets.IntRangeSlider(\n",
    "    value=[0, len(yaxis_root)-1],\n",
    "    min=0, \n",
    "    max=len(yaxis_root)-1,\n",
    "    step=1,\n",
    "    description='Index boundaries:', \n",
    "    continuous_update=False,\n",
    "    readout_format='d',\n",
    "    style=style_textbox,\n",
    "    layout = ipywidgets.Layout(width='400px')\n",
    ")\n",
    "\n",
    "set_limits.observe(update, 'value')\n",
    "set_limits"
   ]
  },
  {
   "cell_type": "markdown",
   "metadata": {
    "slideshow": {
     "slide_type": "-"
    }
   },
   "source": [
    "## Creating and comparing 1D projections of ROOT and McStas data\n",
    "\n",
    "### Rescale TOF for ROOT\n",
    "Use metadata of ROOT file to add units and offset to the x-axis"
   ]
  },
  {
   "cell_type": "code",
   "execution_count": null,
   "metadata": {
    "slideshow": {
     "slide_type": "-"
    }
   },
   "outputs": [],
   "source": [
    "xaxis_root_rescaled = (xaxis_root * TOF_Time_Channel_Width + TOF_Window_Delay_Register) * tof_tick "
   ]
  },
  {
   "cell_type": "code",
   "execution_count": null,
   "metadata": {
    "slideshow": {
     "slide_type": "-"
    }
   },
   "outputs": [],
   "source": [
    "# Coefficient to rescale 1D McStas projection\n",
    "mcstas_y_coeff = np.max(data2d_root)/np.max(data2d_mcstas)"
   ]
  },
  {
   "cell_type": "code",
   "execution_count": null,
   "metadata": {
    "scrolled": true,
    "slideshow": {
     "slide_type": "-"
    }
   },
   "outputs": [],
   "source": [
    "# function to be updated when changing the range of values to calculate the projection\n",
    "def plots_for_projection_mcstas_root(*project_boundaries):\n",
    "    \"\"\" Plot 2D and 1D projection for user-specified range of y-values\"\"\"\n",
    "    CS_mcstas = ax2[0].contourf(xaxis_mcstas, yaxis_mcstas, data2d_mcstas, cmap=colormap)\n",
    "    ax2[0].title.set_text('McStas')\n",
    "    ax2[0].hlines(yaxis_mcstas[project_boundaries[0]], \n",
    "                 min(xaxis_mcstas), \n",
    "                 max(xaxis_mcstas), \n",
    "                 'orange')\n",
    "    ax2[0].hlines(yaxis_mcstas[project_boundaries[1]], \n",
    "                 min(xaxis_mcstas), \n",
    "                 max(xaxis_mcstas), \n",
    "                 'orange')\n",
    "    \n",
    "    CS_root = ax2[1].contourf(xaxis_root_rescaled, yaxis_root, data2d_root.transpose(), cmap=colormap)\n",
    "    ax2[1].title.set_text('ROOT')\n",
    "    ax2[1].hlines(yaxis_root[project_boundaries[2]], \n",
    "                 min(xaxis_root_rescaled), \n",
    "                 max(xaxis_root_rescaled), \n",
    "                 'orange')\n",
    "    ax2[1].hlines(yaxis_root[project_boundaries[3]], \n",
    "                 min(xaxis_root_rescaled), \n",
    "                 max(xaxis_root_rescaled), \n",
    "                 'orange')\n",
    "    \n",
    "    # calculate projection\n",
    "    ax2[2].plot(xaxis_mcstas,\n",
    "                mcstas_y_coeff*np.sum(data2d_mcstas[project_boundaries[0]:project_boundaries[1],:], axis=0), \n",
    "                label='mcstas')\n",
    "    ax2[2].plot(xaxis_root_rescaled, \n",
    "                np.sum(data2d_root.transpose()[project_boundaries[2]:project_boundaries[3],:], axis=0), \n",
    "                label='root')\n",
    "    ax2[2].grid()\n",
    "    ax2[2].legend()\n",
    "    fig2.canvas.draw()\n",
    "    \n",
    "\n",
    "# widget to generate 1D projection of mcstas and ROOT data\n",
    "fig2, ax2 = plt.subplots(3, 1, constrained_layout=True)\n",
    "fig2.canvas.header_visible = False\n",
    "plots_for_projection_mcstas_root(*(0, len(yaxis_mcstas)-1, 0, len(yaxis_root)-1))\n",
    "\n",
    "style_textbox = {'description_width': 'initial'}\n",
    "\n",
    "def update_mcstas(changes):\n",
    "    ax2[0].clear()\n",
    "    ax2[2].clear()\n",
    "    plots_for_projection_mcstas_root(*changes.new, *set_limits_root.value)\n",
    "    \n",
    "def update_root(changes):\n",
    "    ax2[1].clear()\n",
    "    ax2[2].clear()\n",
    "    plots_for_projection_mcstas_root(*set_limits_mcstas.value, *changes.new)\n",
    "\n",
    "set_limits_mcstas = ipywidgets.IntRangeSlider(\n",
    "    value=[0, len(yaxis_mcstas)-1],\n",
    "    min=0, \n",
    "    max=len(yaxis_mcstas)-1,\n",
    "    step=1,\n",
    "    description='Mac Stas Index boundaries:',\n",
    "    continuous_update=False,\n",
    "    readout_format='d',\n",
    "    style=style_textbox,\n",
    "    layout = ipywidgets.Layout(width='400px')\n",
    ")\n",
    "\n",
    "set_limits_root = ipywidgets.IntRangeSlider(\n",
    "    value=[0, len(yaxis_root)-1],\n",
    "    min=0, \n",
    "    max=len(yaxis_root)-1,\n",
    "    step=1,\n",
    "    description='ROOT Index boundaries:', \n",
    "    continuous_update=False,\n",
    "    readout_format='d',\n",
    "    style=style_textbox,\n",
    "    layout = ipywidgets.Layout(width='400px')\n",
    ")\n",
    "\n",
    "set_limits_mcstas.observe(update_mcstas, 'value')\n",
    "\n",
    "set_limits_root.observe(update_root, 'value')\n",
    "\n",
    "ipywidgets.HBox([set_limits_mcstas, set_limits_root])"
   ]
  },
  {
   "cell_type": "code",
   "execution_count": null,
   "metadata": {},
   "outputs": [],
   "source": []
  }
 ],
 "metadata": {
  "kernelspec": {
   "display_name": "Python 3",
   "language": "python",
   "name": "python3"
  },
  "language_info": {
   "codemirror_mode": {
    "name": "ipython",
    "version": 3
   },
   "file_extension": ".py",
   "mimetype": "text/x-python",
   "name": "python",
   "nbconvert_exporter": "python",
   "pygments_lexer": "ipython3",
   "version": "3.8.2"
  },
  "rise": {
   "height": "90%",
   "scroll": true,
   "start_slideshow_at": "beginning",
   "width": "90%"
  },
  "toc": {
   "base_numbering": 1,
   "nav_menu": {},
   "number_sections": true,
   "sideBar": true,
   "skip_h1_title": false,
   "title_cell": "Table of Contents",
   "title_sidebar": "Contents",
   "toc_cell": false,
   "toc_position": {},
   "toc_section_display": true,
   "toc_window_display": false
  },
  "varInspector": {
   "cols": {
    "lenName": 16,
    "lenType": 16,
    "lenVar": 40
   },
   "kernels_config": {
    "python": {
     "delete_cmd_postfix": "",
     "delete_cmd_prefix": "del ",
     "library": "var_list.py",
     "varRefreshCmd": "print(var_dic_list())"
    },
    "r": {
     "delete_cmd_postfix": ") ",
     "delete_cmd_prefix": "rm(",
     "library": "var_list.r",
     "varRefreshCmd": "cat(var_dic_list()) "
    }
   },
   "types_to_exclude": [
    "module",
    "function",
    "builtin_function_or_method",
    "instance",
    "_Feature"
   ],
   "window_display": false
  }
 },
 "nbformat": 4,
 "nbformat_minor": 4
}
