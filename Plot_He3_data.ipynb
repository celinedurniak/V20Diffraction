{
 "cells": [
  {
   "cell_type": "markdown",
   "metadata": {},
   "source": [
    "# Plot He3 data\n",
    "These are the files with an '.asc' extension.\n",
    "\n",
    "*Naming of these files:*\n",
    "-  The `bn4` format is a raw data file (event mode) that can be rebinned. Christian Jacobsen (HZG) wrote us a small python script to generate asci files from it, which also generates the filename. So you are completely right: the number indicates the binning size used to histogram the data. I attach the python script as well.\n",
    "- `chX` corresponds to the channel # of the 4 tubes.  \n",
    "    a. There are four tubes for diffraction, *i.e.* four channels. TsDau has a total of eight channels. Two of them were used for beam monitors, two were empty.  \n",
    "    b.  In our case (Feb 2018), `Ch3` was a beam monitor and `Ch5`, `Ch6`, `Ch7`, `Ch8` were the four diffraction tubes.\n",
    "- `binX` indicates the number of bins used to histogram the data. \n",
    "\n",
    "Only data with 2500 bins were considered for Spectrum3 in order to be consistent for all spectra."
   ]
  },
  {
   "cell_type": "code",
   "execution_count": null,
   "metadata": {},
   "outputs": [],
   "source": [
    "import numpy as np\n",
    "import matplotlib.pyplot as plt\n",
    "%matplotlib notebook"
   ]
  },
  {
   "cell_type": "code",
   "execution_count": null,
   "metadata": {},
   "outputs": [],
   "source": [
    "path_to_he3_files = '/Users/celinedurniak/V20DiffractionData/TsDau/'"
   ]
  },
  {
   "cell_type": "markdown",
   "metadata": {},
   "source": [
    "## Spectrum03"
   ]
  },
  {
   "cell_type": "code",
   "execution_count": null,
   "metadata": {},
   "outputs": [],
   "source": [
    "# Load data\n",
    "he3sp3ch3 = np.genfromtxt(path_to_he3_files+'Spectrum03.bn4ch3_bin2500.asc')\n",
    "he3sp3ch5 = np.genfromtxt(path_to_he3_files+'Spectrum03.bn4ch5_bin2500.asc')\n",
    "he3sp3ch6 = np.genfromtxt(path_to_he3_files+'Spectrum03.bn4ch6_bin2500.asc')\n",
    "he3sp3ch7 = np.genfromtxt(path_to_he3_files+'Spectrum03.bn4ch7_bin2500.asc')\n",
    "he3sp3ch8 = np.genfromtxt(path_to_he3_files+'Spectrum03.bn4ch8_bin2500.asc')"
   ]
  },
  {
   "cell_type": "code",
   "execution_count": null,
   "metadata": {
    "scrolled": false
   },
   "outputs": [],
   "source": [
    "# plot \n",
    "fig, (ax1, ax2) = plt.subplots(2, figsize=(8,10))\n",
    "\n",
    "fig.suptitle('Spectrum 3 - data from He3 tubes')\n",
    "ax1.grid()\n",
    "ax2.grid()\n",
    "\n",
    "ax1.plot(he3sp3ch3[:,0], he3sp3ch3[:,1], label='Ch3')\n",
    "ax1.legend()\n",
    "\n",
    "ax2.plot(he3sp3ch5[:,0], he3sp3ch5[:,1], label='Ch5')\n",
    "ax2.plot(he3sp3ch6[:,0], he3sp3ch6[:,1], label='Ch6')\n",
    "ax2.plot(he3sp3ch7[:,0], he3sp3ch7[:,1], label='Ch7')\n",
    "ax2.plot(he3sp3ch8[:,0], he3sp3ch8[:,1], label='Ch8')\n",
    "ax2.legend()"
   ]
  },
  {
   "cell_type": "markdown",
   "metadata": {},
   "source": [
    "## Spectrum11"
   ]
  },
  {
   "cell_type": "code",
   "execution_count": null,
   "metadata": {},
   "outputs": [],
   "source": [
    "# Load data\n",
    "he3sp11ch3 = np.genfromtxt(path_to_he3_files+'Spectrum11.bn4ch3_bin2500.asc')\n",
    "he3sp11ch5 = np.genfromtxt(path_to_he3_files+'Spectrum11.bn4ch5_bin2500.asc')\n",
    "he3sp11ch6 = np.genfromtxt(path_to_he3_files+'Spectrum11.bn4ch6_bin2500.asc')\n",
    "he3sp11ch7 = np.genfromtxt(path_to_he3_files+'Spectrum11.bn4ch7_bin2500.asc')\n",
    "he3sp11ch8 = np.genfromtxt(path_to_he3_files+'Spectrum11.bn4ch8_bin2500.asc')"
   ]
  },
  {
   "cell_type": "code",
   "execution_count": null,
   "metadata": {},
   "outputs": [],
   "source": [
    "# Plot\n",
    "fig, (ax1, ax2) = plt.subplots(2, figsize=(8,10))\n",
    "\n",
    "fig.suptitle('Spectrum 11 - data from He3 tubes')\n",
    "ax1.grid()\n",
    "ax2.grid()\n",
    "\n",
    "ax1.plot(he3sp11ch3[:,0], he3sp11ch3[:,1], label='Ch3')\n",
    "ax1.legend()\n",
    "\n",
    "ax2.plot(he3sp11ch5[:,0], he3sp11ch5[:,1], label='Ch5')\n",
    "ax2.plot(he3sp11ch6[:,0], he3sp11ch6[:,1], label='Ch6')\n",
    "ax2.plot(he3sp11ch7[:,0], he3sp11ch7[:,1], label='Ch7')\n",
    "ax2.plot(he3sp11ch8[:,0], he3sp11ch8[:,1], label='Ch8')\n",
    "ax2.legend()"
   ]
  },
  {
   "cell_type": "markdown",
   "metadata": {},
   "source": [
    "## Spectrum12"
   ]
  },
  {
   "cell_type": "code",
   "execution_count": null,
   "metadata": {},
   "outputs": [],
   "source": [
    "# Load data\n",
    "he3sp12ch3 = np.genfromtxt(path_to_he3_files+'Spectrum12.bn4ch3_bin2500.asc')\n",
    "he3sp12ch5 = np.genfromtxt(path_to_he3_files+'Spectrum12.bn4ch5_bin2500.asc')\n",
    "he3sp12ch6 = np.genfromtxt(path_to_he3_files+'Spectrum12.bn4ch6_bin2500.asc')\n",
    "he3sp12ch7 = np.genfromtxt(path_to_he3_files+'Spectrum12.bn4ch7_bin2500.asc')\n",
    "he3sp12ch8 = np.genfromtxt(path_to_he3_files+'Spectrum12.bn4ch8_bin2500.asc')"
   ]
  },
  {
   "cell_type": "code",
   "execution_count": null,
   "metadata": {},
   "outputs": [],
   "source": [
    "# Plot\n",
    "fig, (ax1, ax2) = plt.subplots(2, figsize=(8,10))\n",
    "\n",
    "fig.suptitle('Spectrum 12 - data from He3 tubes')\n",
    "ax1.grid()\n",
    "ax2.grid()\n",
    "\n",
    "ax1.plot(he3sp12ch3[:,0], he3sp12ch3[:,1], label='Ch3')\n",
    "ax1.legend()\n",
    "\n",
    "ax2.plot(he3sp12ch5[:,0], he3sp12ch5[:,1], label='Ch5')\n",
    "ax2.plot(he3sp12ch6[:,0], he3sp12ch6[:,1], label='Ch6')\n",
    "ax2.plot(he3sp12ch7[:,0], he3sp12ch7[:,1], label='Ch7')\n",
    "ax2.plot(he3sp12ch8[:,0], he3sp12ch8[:,1], label='Ch8')\n",
    "ax2.legend()"
   ]
  },
  {
   "cell_type": "code",
   "execution_count": null,
   "metadata": {},
   "outputs": [],
   "source": []
  }
 ],
 "metadata": {
  "kernelspec": {
   "display_name": "Python 3",
   "language": "python",
   "name": "python3"
  },
  "language_info": {
   "codemirror_mode": {
    "name": "ipython",
    "version": 3
   },
   "file_extension": ".py",
   "mimetype": "text/x-python",
   "name": "python",
   "nbconvert_exporter": "python",
   "pygments_lexer": "ipython3",
   "version": "3.8.2"
  },
  "toc": {
   "base_numbering": 1,
   "nav_menu": {},
   "number_sections": true,
   "sideBar": true,
   "skip_h1_title": false,
   "title_cell": "Table of Contents",
   "title_sidebar": "Contents",
   "toc_cell": false,
   "toc_position": {},
   "toc_section_display": true,
   "toc_window_display": false
  },
  "varInspector": {
   "cols": {
    "lenName": 16,
    "lenType": 16,
    "lenVar": 40
   },
   "kernels_config": {
    "python": {
     "delete_cmd_postfix": "",
     "delete_cmd_prefix": "del ",
     "library": "var_list.py",
     "varRefreshCmd": "print(var_dic_list())"
    },
    "r": {
     "delete_cmd_postfix": ") ",
     "delete_cmd_prefix": "rm(",
     "library": "var_list.r",
     "varRefreshCmd": "cat(var_dic_list()) "
    }
   },
   "types_to_exclude": [
    "module",
    "function",
    "builtin_function_or_method",
    "instance",
    "_Feature"
   ],
   "window_display": false
  }
 },
 "nbformat": 4,
 "nbformat_minor": 4
}
